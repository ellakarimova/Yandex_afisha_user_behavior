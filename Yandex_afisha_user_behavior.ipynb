{
 "cells": [
  {
   "cell_type": "markdown",
   "id": "9c2800db",
   "metadata": {},
   "source": [
    "# Исследование пользовательских предпочтений и динамики продаж билетов на Яндекс Афише (июнь–октябрь 2024)\n",
    "\n",
    "Автор: Каримова Эльвира Ильгизовна 🙂\n",
    "\n",
    "\n",
    "## Введение\n",
    "\n",
    "Команда продукта Яндекс Афиши обнаружила **неожиданные изменения в динамике продаж билетов** за период с июня по октябрь 2024 года. Некоторые мероприятия стали пользоваться повышенным спросом, а другие — наоборот, показали снижение интереса. Возможные причины этих изменений могут быть связаны с:\n",
    "\n",
    "- **Сезонными колебаниями спроса**: Например, летние мероприятия могут терять популярность осенью.\n",
    "- **Изменением аудитории сервиса**: Возможно, изменились демографические характеристики пользователей или их предпочтения.\n",
    "- **Разницей в поведении мобильных и десктопных пользователей**: Мобильные устройства могут иметь другую конверсию или средний чек по сравнению со стационарными.\n",
    "\n",
    "Для подготовки к новогоднему сезону необходимо провести **исследовательский анализ данных `EDA`**, чтобы выявить ключевые тренды и сформировать рекомендации для улучшения работы сервиса.\n",
    "\n",
    "## Цель \n",
    "\n",
    "- **Изучить динамику продаж билетов**, выявить изменения в пользовательских предпочтениях и проверить гипотезу о разнице в поведении мобильных и десктопных пользователей. Это позволит:\n",
    "\n",
    "    - Понять, какие факторы влияют на изменение спроса.\n",
    "    - Определить наиболее востребованные категории мероприятий.\n",
    "    - Сделать выводы о сезонности и популярности различных типов событий.\n",
    "    - Предложить стратегию оптимизации сервиса на основе полученных данных.\n",
    "\n",
    "## Задачи\n",
    "\n",
    "1. **Загрузка и предобработка данных**:\n",
    "- Загрузить данные о заказах `final_tickets_orders_df.csv` и мероприятиях `final_tickets_events_df.csv`.\n",
    "- Проверить пропуски, дубликаты и выбросы.\n",
    "- Преобразовать типы данных и создать новые столбцы (например, `revenue_rub`, `one_ticket_revenue_rub`, `month`, `season`).\n",
    "\n",
    "2. **Анализ продаж по месяцам, типам мероприятий и регионам**:\n",
    "- Изучить динамику продаж по месяцам.\n",
    "- Проанализировать распределение заказов по типам мероприятий `event_type_main`, типам устройств `device_type_canonical` и возрастным ограничениям `age_limit`.\n",
    "- Выявить топовые мероприятия и регионы по числу заказов и выручке.\n",
    "\n",
    "3. **Изучение разницы между мобильными и десктопными пользователями**:\n",
    "- Сравнить следующие метрики для мобильных и десктопных пользователей:\n",
    "    - Средний чек `revenue_rub`\n",
    "    - Количество заказов\n",
    "    - Популярные категории мероприятий\n",
    "- Проверить гипотезы о различиях в активности пользователей разных устройств:\n",
    "    - Гипотеза 1: Среднее количество заказов на одного пользователя мобильного приложения выше, чем у десктопных пользователей.\n",
    "    - Гипотеза 2: Среднее время между заказами мобильных пользователей выше, чем у десктопных.\n",
    "\n",
    "4. **Выявление сезонных трендов и топовых мероприятий**:\n",
    "- Сравнить динамику продаж летом и осенью.\n",
    "- Определить наиболее популярные события и партнёры по регионам.\n",
    "\n",
    "5. **Формирование выводов и рекомендаций**:\n",
    "- Сформулировать основные выводы по результатам анализа.\n",
    "- Предложить конкретные рекомендации для команды продукта, которые помогут увеличить конверсию и выручку."
   ]
  },
  {
   "cell_type": "markdown",
   "id": "c71a950c",
   "metadata": {},
   "source": [
    "## Описание данных\n",
    "\n",
    "**final_tickets_orders_df.csv** – информация о заказах:\n",
    "\n",
    "- `order_id` — уникальный идентификатор заказа.\n",
    "- `user_id` — уникальный идентификатор пользователя.\n",
    "- `created_dt_msk` — дата создания заказа (московское время).\n",
    "- `created_ts_msk` — дата и время создания заказа (московское время).\n",
    "- `event_id` — идентификатор мероприятия из таблицы events.\n",
    "- `cinema_circuit` — сеть кинотеатров. Если не применимо, то здесь будет значение 'нет'.\n",
    "- `age_limit` — возрастное ограничение мероприятия.\n",
    "- `currency_code` — валюта оплаты, например rub для российских рублей.\n",
    "- `device_type_canonical` — тип устройства, с которого был оформлен заказ, например `mobile` для мобильных устройств, `desktop` для стационарных;\n",
    "- `revenue` — выручка от заказа.\n",
    "- `service_name` — название билетного оператора.\n",
    "- `tickets_count` — количество купленных билетов.\n",
    "- `total` — общая сумма заказа.\n",
    "- `days_since_prev` – дней с прошлого заказа.\n",
    "\n",
    "**final_tickets_events_df.csv** – информация о мероприятиях:\n",
    "- `event_id` — уникальный идентификатор мероприятия.\n",
    "- `event_name` — название мероприятия. Аналог поля event_name_code из исходной базы данных.\n",
    "- `event_type_description` — описание типа мероприятия.\n",
    "- `event_type_main` — основной тип мероприятия: театральная постановка, концерт и так далее.\n",
    "- `organizers` — организаторы мероприятия.\n",
    "- `region_name` — название региона.\n",
    "- `city_name` — название города.\n",
    "- `venue_id` — уникальный идентификатор площадки.\n",
    "- `venue_name` — название площадки.\n",
    "- `venue_address` — адрес площадки.\n",
    "\n",
    "**final_tickets_tenge_df.csv** – информация о курсе тенге к российскому рублю за 2024 год:\n",
    "- `nominal` — номинал (100 тенге);\n",
    "- `data` — дата;\n",
    "- `curs` — курс тенге к рублю;\n",
    "- `cdx` — обозначение валюты (kzt).\n",
    "\n",
    "**Период данных**:\n",
    "1 июня – 31 октября 2024 года."
   ]
  },
  {
   "cell_type": "markdown",
   "id": "4f7899b5",
   "metadata": {},
   "source": [
    "## Загрузка данных и знакомство с ними\n",
    "\n",
    "Загружаем все необходимые данные и знакомимся с содержанием таблиц."
   ]
  },
  {
   "cell_type": "code",
   "execution_count": 1,
   "id": "d69b7b9b",
   "metadata": {},
   "outputs": [],
   "source": [
    "import warnings\n",
    "\n",
    "# Импортируем библиотеки\n",
    "import pandas as pd\n",
    "import numpy as np\n",
    "\n",
    "# Загружаем библиотеки для визуализации данных\n",
    "import matplotlib.pyplot as plt\n",
    "import seaborn as sns\n",
    "\n",
    "# Загружаем библиотеку для стат.тестов\n",
    "import math\n",
    "from statsmodels.stats.power import tt_ind_solve_power\n",
    "from scipy.stats import mannwhitneyu, shapiro\n",
    "from statsmodels.stats.power import zt_ind_solve_power\n",
    "import statsmodels.stats.proportion as smprop\n",
    "from scipy.stats import norm\n",
    "from statsmodels.stats.power import TTestIndPower"
   ]
  },
  {
   "cell_type": "code",
   "execution_count": 2,
   "id": "fc1cd404",
   "metadata": {
    "scrolled": true
   },
   "outputs": [
    {
     "data": {
      "text/html": [
       "<div>\n",
       "<style scoped>\n",
       "    .dataframe tbody tr th:only-of-type {\n",
       "        vertical-align: middle;\n",
       "    }\n",
       "\n",
       "    .dataframe tbody tr th {\n",
       "        vertical-align: top;\n",
       "    }\n",
       "\n",
       "    .dataframe thead th {\n",
       "        text-align: right;\n",
       "    }\n",
       "</style>\n",
       "<table border=\"1\" class=\"dataframe\">\n",
       "  <thead>\n",
       "    <tr style=\"text-align: right;\">\n",
       "      <th></th>\n",
       "      <th>order_id</th>\n",
       "      <th>user_id</th>\n",
       "      <th>created_dt_msk</th>\n",
       "      <th>created_ts_msk</th>\n",
       "      <th>event_id</th>\n",
       "      <th>cinema_circuit</th>\n",
       "      <th>age_limit</th>\n",
       "      <th>currency_code</th>\n",
       "      <th>device_type_canonical</th>\n",
       "      <th>revenue</th>\n",
       "      <th>service_name</th>\n",
       "      <th>tickets_count</th>\n",
       "      <th>total</th>\n",
       "      <th>days_since_prev</th>\n",
       "    </tr>\n",
       "  </thead>\n",
       "  <tbody>\n",
       "    <tr>\n",
       "      <th>0</th>\n",
       "      <td>4359165</td>\n",
       "      <td>0002849b70a3ce2</td>\n",
       "      <td>2024-08-20</td>\n",
       "      <td>2024-08-20 16:08:03</td>\n",
       "      <td>169230</td>\n",
       "      <td>нет</td>\n",
       "      <td>16</td>\n",
       "      <td>rub</td>\n",
       "      <td>mobile</td>\n",
       "      <td>1521.94</td>\n",
       "      <td>Край билетов</td>\n",
       "      <td>4</td>\n",
       "      <td>10870.99</td>\n",
       "      <td>NaN</td>\n",
       "    </tr>\n",
       "    <tr>\n",
       "      <th>1</th>\n",
       "      <td>7965605</td>\n",
       "      <td>0005ca5e93f2cf4</td>\n",
       "      <td>2024-07-23</td>\n",
       "      <td>2024-07-23 18:36:24</td>\n",
       "      <td>237325</td>\n",
       "      <td>нет</td>\n",
       "      <td>0</td>\n",
       "      <td>rub</td>\n",
       "      <td>mobile</td>\n",
       "      <td>289.45</td>\n",
       "      <td>Мой билет</td>\n",
       "      <td>2</td>\n",
       "      <td>2067.51</td>\n",
       "      <td>NaN</td>\n",
       "    </tr>\n",
       "    <tr>\n",
       "      <th>2</th>\n",
       "      <td>7292370</td>\n",
       "      <td>0005ca5e93f2cf4</td>\n",
       "      <td>2024-10-06</td>\n",
       "      <td>2024-10-06 13:56:02</td>\n",
       "      <td>578454</td>\n",
       "      <td>нет</td>\n",
       "      <td>0</td>\n",
       "      <td>rub</td>\n",
       "      <td>mobile</td>\n",
       "      <td>1258.57</td>\n",
       "      <td>За билетом!</td>\n",
       "      <td>4</td>\n",
       "      <td>13984.16</td>\n",
       "      <td>75.0</td>\n",
       "    </tr>\n",
       "    <tr>\n",
       "      <th>3</th>\n",
       "      <td>1139875</td>\n",
       "      <td>000898990054619</td>\n",
       "      <td>2024-07-13</td>\n",
       "      <td>2024-07-13 19:40:48</td>\n",
       "      <td>387271</td>\n",
       "      <td>нет</td>\n",
       "      <td>0</td>\n",
       "      <td>rub</td>\n",
       "      <td>mobile</td>\n",
       "      <td>8.49</td>\n",
       "      <td>Лови билет!</td>\n",
       "      <td>2</td>\n",
       "      <td>212.28</td>\n",
       "      <td>NaN</td>\n",
       "    </tr>\n",
       "    <tr>\n",
       "      <th>4</th>\n",
       "      <td>972400</td>\n",
       "      <td>000898990054619</td>\n",
       "      <td>2024-10-04</td>\n",
       "      <td>2024-10-04 22:33:15</td>\n",
       "      <td>509453</td>\n",
       "      <td>нет</td>\n",
       "      <td>18</td>\n",
       "      <td>rub</td>\n",
       "      <td>mobile</td>\n",
       "      <td>1390.41</td>\n",
       "      <td>Билеты без проблем</td>\n",
       "      <td>3</td>\n",
       "      <td>10695.43</td>\n",
       "      <td>83.0</td>\n",
       "    </tr>\n",
       "  </tbody>\n",
       "</table>\n",
       "</div>"
      ],
      "text/plain": [
       "   order_id          user_id created_dt_msk       created_ts_msk  event_id  \\\n",
       "0   4359165  0002849b70a3ce2     2024-08-20  2024-08-20 16:08:03    169230   \n",
       "1   7965605  0005ca5e93f2cf4     2024-07-23  2024-07-23 18:36:24    237325   \n",
       "2   7292370  0005ca5e93f2cf4     2024-10-06  2024-10-06 13:56:02    578454   \n",
       "3   1139875  000898990054619     2024-07-13  2024-07-13 19:40:48    387271   \n",
       "4    972400  000898990054619     2024-10-04  2024-10-04 22:33:15    509453   \n",
       "\n",
       "  cinema_circuit  age_limit currency_code device_type_canonical  revenue  \\\n",
       "0            нет         16           rub                mobile  1521.94   \n",
       "1            нет          0           rub                mobile   289.45   \n",
       "2            нет          0           rub                mobile  1258.57   \n",
       "3            нет          0           rub                mobile     8.49   \n",
       "4            нет         18           rub                mobile  1390.41   \n",
       "\n",
       "         service_name  tickets_count     total  days_since_prev  \n",
       "0        Край билетов              4  10870.99              NaN  \n",
       "1           Мой билет              2   2067.51              NaN  \n",
       "2         За билетом!              4  13984.16             75.0  \n",
       "3         Лови билет!              2    212.28              NaN  \n",
       "4  Билеты без проблем              3  10695.43             83.0  "
      ]
     },
     "metadata": {},
     "output_type": "display_data"
    },
    {
     "data": {
      "text/html": [
       "<div>\n",
       "<style scoped>\n",
       "    .dataframe tbody tr th:only-of-type {\n",
       "        vertical-align: middle;\n",
       "    }\n",
       "\n",
       "    .dataframe tbody tr th {\n",
       "        vertical-align: top;\n",
       "    }\n",
       "\n",
       "    .dataframe thead th {\n",
       "        text-align: right;\n",
       "    }\n",
       "</style>\n",
       "<table border=\"1\" class=\"dataframe\">\n",
       "  <thead>\n",
       "    <tr style=\"text-align: right;\">\n",
       "      <th></th>\n",
       "      <th>event_id</th>\n",
       "      <th>event_name</th>\n",
       "      <th>event_type_description</th>\n",
       "      <th>event_type_main</th>\n",
       "      <th>organizers</th>\n",
       "      <th>region_name</th>\n",
       "      <th>city_name</th>\n",
       "      <th>city_id</th>\n",
       "      <th>venue_id</th>\n",
       "      <th>venue_name</th>\n",
       "      <th>venue_address</th>\n",
       "    </tr>\n",
       "  </thead>\n",
       "  <tbody>\n",
       "    <tr>\n",
       "      <th>0</th>\n",
       "      <td>4436</td>\n",
       "      <td>e4f26fba-da77-4c61-928a-6c3e434d793f</td>\n",
       "      <td>спектакль</td>\n",
       "      <td>театр</td>\n",
       "      <td>№4893</td>\n",
       "      <td>Североярская область</td>\n",
       "      <td>Озёрск</td>\n",
       "      <td>2</td>\n",
       "      <td>1600</td>\n",
       "      <td>Кладбище искусств \"Проблема\" и партнеры</td>\n",
       "      <td>наб. Загородная, д. 785</td>\n",
       "    </tr>\n",
       "    <tr>\n",
       "      <th>1</th>\n",
       "      <td>5785</td>\n",
       "      <td>5cc08a60-fdea-4186-9bb2-bffc3603fb77</td>\n",
       "      <td>спектакль</td>\n",
       "      <td>театр</td>\n",
       "      <td>№1931</td>\n",
       "      <td>Светополянский округ</td>\n",
       "      <td>Глиноград</td>\n",
       "      <td>54</td>\n",
       "      <td>2196</td>\n",
       "      <td>Лекции по искусству \"Свет\" Групп</td>\n",
       "      <td>ул. Ягодная, д. 942</td>\n",
       "    </tr>\n",
       "    <tr>\n",
       "      <th>2</th>\n",
       "      <td>8817</td>\n",
       "      <td>8e379a89-3a10-4811-ba06-ec22ebebe989</td>\n",
       "      <td>спектакль</td>\n",
       "      <td>театр</td>\n",
       "      <td>№4896</td>\n",
       "      <td>Североярская область</td>\n",
       "      <td>Озёрск</td>\n",
       "      <td>2</td>\n",
       "      <td>4043</td>\n",
       "      <td>Кинокомитет \"Золотая\" Инк</td>\n",
       "      <td>ш. Коммуны, д. 92 стр. 6</td>\n",
       "    </tr>\n",
       "    <tr>\n",
       "      <th>3</th>\n",
       "      <td>8849</td>\n",
       "      <td>682e3129-6a32-4952-9d8a-ef7f60d4c247</td>\n",
       "      <td>спектакль</td>\n",
       "      <td>театр</td>\n",
       "      <td>№4960</td>\n",
       "      <td>Каменевский регион</td>\n",
       "      <td>Глиногорск</td>\n",
       "      <td>213</td>\n",
       "      <td>1987</td>\n",
       "      <td>Выставка ремесел \"Свет\" Лтд</td>\n",
       "      <td>пер. Набережный, д. 35</td>\n",
       "    </tr>\n",
       "    <tr>\n",
       "      <th>4</th>\n",
       "      <td>8850</td>\n",
       "      <td>d6e99176-c77f-4af0-9222-07c571f6c624</td>\n",
       "      <td>спектакль</td>\n",
       "      <td>театр</td>\n",
       "      <td>№4770</td>\n",
       "      <td>Лесодальний край</td>\n",
       "      <td>Родниковец</td>\n",
       "      <td>55</td>\n",
       "      <td>4230</td>\n",
       "      <td>Фестивальный проект \"Листья\" Групп</td>\n",
       "      <td>пер. Проезжий, д. 9</td>\n",
       "    </tr>\n",
       "  </tbody>\n",
       "</table>\n",
       "</div>"
      ],
      "text/plain": [
       "   event_id                            event_name event_type_description  \\\n",
       "0      4436  e4f26fba-da77-4c61-928a-6c3e434d793f              спектакль   \n",
       "1      5785  5cc08a60-fdea-4186-9bb2-bffc3603fb77              спектакль   \n",
       "2      8817  8e379a89-3a10-4811-ba06-ec22ebebe989              спектакль   \n",
       "3      8849  682e3129-6a32-4952-9d8a-ef7f60d4c247              спектакль   \n",
       "4      8850  d6e99176-c77f-4af0-9222-07c571f6c624              спектакль   \n",
       "\n",
       "  event_type_main organizers           region_name   city_name  city_id  \\\n",
       "0           театр      №4893  Североярская область      Озёрск        2   \n",
       "1           театр      №1931  Светополянский округ   Глиноград       54   \n",
       "2           театр      №4896  Североярская область      Озёрск        2   \n",
       "3           театр      №4960    Каменевский регион  Глиногорск      213   \n",
       "4           театр      №4770      Лесодальний край  Родниковец       55   \n",
       "\n",
       "   venue_id                               venue_name             venue_address  \n",
       "0      1600  Кладбище искусств \"Проблема\" и партнеры   наб. Загородная, д. 785  \n",
       "1      2196         Лекции по искусству \"Свет\" Групп       ул. Ягодная, д. 942  \n",
       "2      4043                Кинокомитет \"Золотая\" Инк  ш. Коммуны, д. 92 стр. 6  \n",
       "3      1987              Выставка ремесел \"Свет\" Лтд    пер. Набережный, д. 35  \n",
       "4      4230       Фестивальный проект \"Листья\" Групп       пер. Проезжий, д. 9  "
      ]
     },
     "metadata": {},
     "output_type": "display_data"
    },
    {
     "data": {
      "text/html": [
       "<div>\n",
       "<style scoped>\n",
       "    .dataframe tbody tr th:only-of-type {\n",
       "        vertical-align: middle;\n",
       "    }\n",
       "\n",
       "    .dataframe tbody tr th {\n",
       "        vertical-align: top;\n",
       "    }\n",
       "\n",
       "    .dataframe thead th {\n",
       "        text-align: right;\n",
       "    }\n",
       "</style>\n",
       "<table border=\"1\" class=\"dataframe\">\n",
       "  <thead>\n",
       "    <tr style=\"text-align: right;\">\n",
       "      <th></th>\n",
       "      <th>data</th>\n",
       "      <th>nominal</th>\n",
       "      <th>curs</th>\n",
       "      <th>cdx</th>\n",
       "    </tr>\n",
       "  </thead>\n",
       "  <tbody>\n",
       "    <tr>\n",
       "      <th>0</th>\n",
       "      <td>2024-01-10</td>\n",
       "      <td>100</td>\n",
       "      <td>19.9391</td>\n",
       "      <td>kzt</td>\n",
       "    </tr>\n",
       "    <tr>\n",
       "      <th>1</th>\n",
       "      <td>2024-01-11</td>\n",
       "      <td>100</td>\n",
       "      <td>19.7255</td>\n",
       "      <td>kzt</td>\n",
       "    </tr>\n",
       "    <tr>\n",
       "      <th>2</th>\n",
       "      <td>2024-01-12</td>\n",
       "      <td>100</td>\n",
       "      <td>19.5839</td>\n",
       "      <td>kzt</td>\n",
       "    </tr>\n",
       "    <tr>\n",
       "      <th>3</th>\n",
       "      <td>2024-01-13</td>\n",
       "      <td>100</td>\n",
       "      <td>19.4501</td>\n",
       "      <td>kzt</td>\n",
       "    </tr>\n",
       "    <tr>\n",
       "      <th>4</th>\n",
       "      <td>2024-01-14</td>\n",
       "      <td>100</td>\n",
       "      <td>19.4501</td>\n",
       "      <td>kzt</td>\n",
       "    </tr>\n",
       "  </tbody>\n",
       "</table>\n",
       "</div>"
      ],
      "text/plain": [
       "         data  nominal     curs  cdx\n",
       "0  2024-01-10      100  19.9391  kzt\n",
       "1  2024-01-11      100  19.7255  kzt\n",
       "2  2024-01-12      100  19.5839  kzt\n",
       "3  2024-01-13      100  19.4501  kzt\n",
       "4  2024-01-14      100  19.4501  kzt"
      ]
     },
     "metadata": {},
     "output_type": "display_data"
    }
   ],
   "source": [
    "# Считаем и сохраним в отдельные датафреймы 3 csv-файла\n",
    "final_tickets_orders_df = pd.read_csv('https://code.s3.yandex.net/datasets/final_tickets_orders_df.csv')\n",
    "final_tickets_events_df = pd.read_csv('https://code.s3.yandex.net/datasets/final_tickets_events_df.csv') \n",
    "final_tickets_tenge_df = pd.read_csv('https://code.s3.yandex.net/datasets/final_tickets_tenge_df.csv')\n",
    "\n",
    "# Выводим строки датафрейма на экран\n",
    "display(final_tickets_orders_df.head())\n",
    "display(final_tickets_events_df.head())\n",
    "display(final_tickets_tenge_df.head())"
   ]
  },
  {
   "cell_type": "code",
   "execution_count": 3,
   "id": "9aad38a2",
   "metadata": {},
   "outputs": [
    {
     "name": "stdout",
     "output_type": "stream",
     "text": [
      "<class 'pandas.core.frame.DataFrame'>\n",
      "RangeIndex: 290849 entries, 0 to 290848\n",
      "Data columns (total 14 columns):\n",
      " #   Column                 Non-Null Count   Dtype  \n",
      "---  ------                 --------------   -----  \n",
      " 0   order_id               290849 non-null  int64  \n",
      " 1   user_id                290849 non-null  object \n",
      " 2   created_dt_msk         290849 non-null  object \n",
      " 3   created_ts_msk         290849 non-null  object \n",
      " 4   event_id               290849 non-null  int64  \n",
      " 5   cinema_circuit         290849 non-null  object \n",
      " 6   age_limit              290849 non-null  int64  \n",
      " 7   currency_code          290849 non-null  object \n",
      " 8   device_type_canonical  290849 non-null  object \n",
      " 9   revenue                290849 non-null  float64\n",
      " 10  service_name           290849 non-null  object \n",
      " 11  tickets_count          290849 non-null  int64  \n",
      " 12  total                  290849 non-null  float64\n",
      " 13  days_since_prev        268909 non-null  float64\n",
      "dtypes: float64(3), int64(4), object(7)\n",
      "memory usage: 31.1+ MB\n"
     ]
    }
   ],
   "source": [
    "# Выводим информацию о датафрейме\n",
    "final_tickets_orders_df.info()"
   ]
  },
  {
   "cell_type": "code",
   "execution_count": 4,
   "id": "cc45d4fc",
   "metadata": {},
   "outputs": [
    {
     "name": "stdout",
     "output_type": "stream",
     "text": [
      "<class 'pandas.core.frame.DataFrame'>\n",
      "RangeIndex: 22427 entries, 0 to 22426\n",
      "Data columns (total 11 columns):\n",
      " #   Column                  Non-Null Count  Dtype \n",
      "---  ------                  --------------  ----- \n",
      " 0   event_id                22427 non-null  int64 \n",
      " 1   event_name              22427 non-null  object\n",
      " 2   event_type_description  22427 non-null  object\n",
      " 3   event_type_main         22427 non-null  object\n",
      " 4   organizers              22427 non-null  object\n",
      " 5   region_name             22427 non-null  object\n",
      " 6   city_name               22427 non-null  object\n",
      " 7   city_id                 22427 non-null  int64 \n",
      " 8   venue_id                22427 non-null  int64 \n",
      " 9   venue_name              22427 non-null  object\n",
      " 10  venue_address           22427 non-null  object\n",
      "dtypes: int64(3), object(8)\n",
      "memory usage: 1.9+ MB\n"
     ]
    }
   ],
   "source": [
    "final_tickets_events_df.info()"
   ]
  },
  {
   "cell_type": "code",
   "execution_count": 5,
   "id": "5d4929a5",
   "metadata": {},
   "outputs": [
    {
     "name": "stdout",
     "output_type": "stream",
     "text": [
      "<class 'pandas.core.frame.DataFrame'>\n",
      "RangeIndex: 357 entries, 0 to 356\n",
      "Data columns (total 4 columns):\n",
      " #   Column   Non-Null Count  Dtype  \n",
      "---  ------   --------------  -----  \n",
      " 0   data     357 non-null    object \n",
      " 1   nominal  357 non-null    int64  \n",
      " 2   curs     357 non-null    float64\n",
      " 3   cdx      357 non-null    object \n",
      "dtypes: float64(1), int64(1), object(2)\n",
      "memory usage: 11.3+ KB\n"
     ]
    }
   ],
   "source": [
    "final_tickets_tenge_df.info()"
   ]
  },
  {
   "cell_type": "markdown",
   "id": "e9db4ebc",
   "metadata": {},
   "source": []
  },
  {
   "cell_type": "markdown",
   "id": "c0411485",
   "metadata": {},
   "source": [
    "### 📌 Промежуточные выводы - Загрузка данных и знакомство с ними\n",
    "\n",
    "1. **Объем данных и структура таблиц**:\n",
    "- `final_tickets_orders_df` содержит `290 849` записей о заказах с `14` столбцами (информация о пользователях, заказах, мероприятиях и платежах)\n",
    "- `final_tickets_events_df` содержит `22 427` записей о мероприятиях с `11` столбцами (детали мероприятий, локации и организаторы)\n",
    "- `final_tickets_tenge_df` содержит `357` записей о курсе тенге с `5` столбцами (исторические данные курса)\n",
    "\n",
    "2. **Проверка пропусков**:\n",
    "- В `final_tickets_orders_df` пропуски только в столбце `days_since_prev` (`21 940` записей) — это ожидаемо для первых заказов пользователей. Остальные столбцы без пропусков.\n",
    "- В `final_tickets_events_df` и `final_tickets_tenge_df` пропусков нет.\n",
    "  \n",
    "➡️ **Решение: Пропуски в `days_since_prev` оставлены без изменений, так как они естественны для первых заказов и не требуют обработки**.\n",
    "\n",
    "3. **Типы данных**:\n",
    "- Даты в `created_dt_msk` и `created_ts_msk` (`final_tickets_orders_df`) хранятся как object — требуется преобразование в `datetime`.\n",
    "- В `final_tickets_tenge_df` столбец `data` уже преобразован в `datetime`.\n",
    "\n",
    "4. **Анализ категориальных значений**:\n",
    "- `currency_code`: только `rub` и `kzt` — корректные значения, соответствующие описанию.\n",
    "- `device_type_canonical`: только `mobile` и `desktop` — соответствует ожидаемым категориям.\n",
    "- `cinema_circuit`: преимущественно значение 'нет', что указывает на большинство мероприятий вне кинотеатральных сетей."
   ]
  },
  {
   "cell_type": "markdown",
   "id": "716eda70",
   "metadata": {},
   "source": [
    "## Предобработка данных и подготовка их к исследованию\n",
    "\n",
    "1. Проверка пропусков: Анализируем наличие пропущенных значений во всех датафреймах"
   ]
  },
  {
   "cell_type": "code",
   "execution_count": 6,
   "id": "ea30c8d3",
   "metadata": {},
   "outputs": [
    {
     "name": "stdout",
     "output_type": "stream",
     "text": [
      "Пропуски в orders_df:\n",
      "order_id                     0\n",
      "user_id                      0\n",
      "created_dt_msk               0\n",
      "created_ts_msk               0\n",
      "event_id                     0\n",
      "cinema_circuit               0\n",
      "age_limit                    0\n",
      "currency_code                0\n",
      "device_type_canonical        0\n",
      "revenue                      0\n",
      "service_name                 0\n",
      "tickets_count                0\n",
      "total                        0\n",
      "days_since_prev          21940\n",
      "dtype: int64\n",
      "\n",
      "Пропуски в events_df:\n",
      "event_id                  0\n",
      "event_name                0\n",
      "event_type_description    0\n",
      "event_type_main           0\n",
      "organizers                0\n",
      "region_name               0\n",
      "city_name                 0\n",
      "city_id                   0\n",
      "venue_id                  0\n",
      "venue_name                0\n",
      "venue_address             0\n",
      "dtype: int64\n",
      "\n",
      "Пропуски в tenge_df:\n",
      "data       0\n",
      "nominal    0\n",
      "curs       0\n",
      "cdx        0\n",
      "dtype: int64\n"
     ]
    }
   ],
   "source": [
    "# Проверка пропусков\n",
    "print(\"Пропуски в orders_df:\")\n",
    "print(final_tickets_orders_df.isna().sum())\n",
    "print(\"\\nПропуски в events_df:\")\n",
    "print(final_tickets_events_df.isna().sum())\n",
    "print(\"\\nПропуски в tenge_df:\")\n",
    "print(final_tickets_tenge_df.isna().sum())"
   ]
  },
  {
   "cell_type": "markdown",
   "id": "c9492aa9",
   "metadata": {},
   "source": [
    "2. Как уже было упомянуто выше, пропуски есть только в столбце `days_since_prev`, а во всех остальных столбцах данных нет пропусков (все значения равны 0 в выводе `isna().sum()`"
   ]
  },
  {
   "cell_type": "markdown",
   "id": "5bcb7206",
   "metadata": {},
   "source": [
    "3. Анализ категориальных значений: Проверяем уникальные значения в важных категориальных столбцах"
   ]
  },
  {
   "cell_type": "code",
   "execution_count": 7,
   "id": "026ef1ac",
   "metadata": {},
   "outputs": [
    {
     "name": "stdout",
     "output_type": "stream",
     "text": [
      "\n",
      "Column: age_limit\n",
      "Unique values: [16  0 18 12  6]\n",
      "Missing values count: 0\n",
      "Value counts:\n",
      "16    78579\n",
      "12    62557\n",
      "0     61487\n",
      "6     52173\n",
      "18    36053\n",
      "Name: age_limit, dtype: int64 \n",
      "\n",
      "\n",
      "Column: currency_code\n",
      "Unique values: ['rub' 'kzt']\n",
      "Missing values count: 0\n",
      "Value counts:\n",
      "rub    285780\n",
      "kzt      5069\n",
      "Name: currency_code, dtype: int64 \n",
      "\n",
      "\n",
      "Column: device_type_canonical\n",
      "Unique values: ['mobile' 'desktop']\n",
      "Missing values count: 0\n",
      "Value counts:\n",
      "mobile     232679\n",
      "desktop     58170\n",
      "Name: device_type_canonical, dtype: int64 \n",
      "\n",
      "\n",
      "Column: service_name\n",
      "Unique values: ['Край билетов' 'Мой билет' 'За билетом!' 'Лови билет!'\n",
      " 'Билеты без проблем' 'Облачко' 'Лучшие билеты' 'Прачечная' 'Быстробилет'\n",
      " 'Дом культуры' 'Весь в билетах' 'Билеты в руки' 'Тебе билет!'\n",
      " 'Show_ticket' 'Городской дом культуры' 'Яблоко' 'Билет по телефону'\n",
      " 'Выступления.ру' 'Росбилет' 'Шоу начинается!' 'Мир касс' 'Восьмёрка'\n",
      " 'Телебилет' 'Crazy ticket!' 'Реестр' 'Быстрый кассир' 'КарандашРУ'\n",
      " 'Радио ticket' 'Дырокол' 'Вперёд!' 'Кино билет' 'Цвет и билет' 'Зе Бест!'\n",
      " 'Тех билет' 'Лимоны' 'Билеты в интернете']\n",
      "Missing values count: 0\n",
      "Value counts:\n",
      "Билеты без проблем        63709\n",
      "Лови билет!               41126\n",
      "Билеты в руки             40364\n",
      "Мой билет                 34843\n",
      "Облачко                   26642\n",
      "Лучшие билеты             17795\n",
      "Весь в билетах            16849\n",
      "Прачечная                 10273\n",
      "Край билетов               6207\n",
      "Тебе билет!                5228\n",
      "Яблоко                     5039\n",
      "Дом культуры               4502\n",
      "За билетом!                2865\n",
      "Городской дом культуры     2733\n",
      "Show_ticket                2200\n",
      "Мир касс                   2167\n",
      "Быстробилет                2003\n",
      "Выступления.ру             1616\n",
      "Восьмёрка                  1118\n",
      "Crazy ticket!               790\n",
      "Росбилет                    539\n",
      "Шоу начинается!             499\n",
      "Быстрый кассир              381\n",
      "Радио ticket                376\n",
      "Телебилет                   321\n",
      "КарандашРУ                  133\n",
      "Реестр                      125\n",
      "Билет по телефону            85\n",
      "Вперёд!                      80\n",
      "Дырокол                      74\n",
      "Кино билет                   67\n",
      "Цвет и билет                 61\n",
      "Тех билет                    22\n",
      "Лимоны                        8\n",
      "Зе Бест!                      5\n",
      "Билеты в интернете            4\n",
      "Name: service_name, dtype: int64 \n",
      "\n"
     ]
    }
   ],
   "source": [
    "# Анализ категориальных значений (Это твой код)\n",
    "for column in ['age_limit', 'currency_code', 'device_type_canonical', 'service_name']:\n",
    "    print(f\"\\nColumn: {column}\")\n",
    "    print(\"Unique values:\", final_tickets_orders_df[column].unique())\n",
    "    print(\"Missing values count:\", final_tickets_orders_df[column].isna().sum())\n",
    "    print(\"Value counts:\")\n",
    "    print(final_tickets_orders_df[column].value_counts(dropna=False), \"\\n\")"
   ]
  },
  {
   "cell_type": "code",
   "execution_count": 8,
   "id": "6e2da298",
   "metadata": {},
   "outputs": [
    {
     "name": "stdout",
     "output_type": "stream",
     "text": [
      "==================================================\n",
      "Детальный анализ категориальных переменных в orders_df\n",
      "==================================================\n",
      "\n",
      "------------------------------\n",
      "Колонка: cinema_circuit\n",
      "Уникальных значений: 6\n",
      "Распределение значений:\n",
      "нет           0.995193\n",
      "Другое        0.004336\n",
      "КиноСити      0.000419\n",
      "Москино       0.000024\n",
      "Киномакс      0.000024\n",
      "ЦентрФильм    0.000003\n",
      "Name: cinema_circuit, dtype: float64\n",
      "\n",
      "Полный список уникальных значений:\n",
      "['нет' 'Другое' 'Киномакс' 'КиноСити' 'Москино' 'ЦентрФильм']\n",
      "Пропусков: 0\n",
      "\n",
      "------------------------------\n",
      "Колонка: age_limit\n",
      "Уникальных значений: 5\n",
      "Распределение значений:\n",
      "16    0.270171\n",
      "12    0.215084\n",
      "0     0.211405\n",
      "6     0.179382\n",
      "18    0.123958\n",
      "Name: age_limit, dtype: float64\n",
      "\n",
      "Полный список уникальных значений:\n",
      "[16  0 18 12  6]\n",
      "Пропусков: 0\n",
      "\n",
      "------------------------------\n",
      "Колонка: currency_code\n",
      "Уникальных значений: 2\n",
      "Распределение значений:\n",
      "rub    0.982572\n",
      "kzt    0.017428\n",
      "Name: currency_code, dtype: float64\n",
      "\n",
      "Полный список уникальных значений:\n",
      "['rub' 'kzt']\n",
      "Пропусков: 0\n",
      "\n",
      "------------------------------\n",
      "Колонка: device_type_canonical\n",
      "Уникальных значений: 2\n",
      "Распределение значений:\n",
      "mobile     0.799999\n",
      "desktop    0.200001\n",
      "Name: device_type_canonical, dtype: float64\n",
      "\n",
      "Полный список уникальных значений:\n",
      "['mobile' 'desktop']\n",
      "Пропусков: 0\n",
      "\n",
      "------------------------------\n",
      "Колонка: service_name\n",
      "Уникальных значений: 36\n",
      "Распределение значений:\n",
      "Билеты без проблем    0.219045\n",
      "Лови билет!           0.141400\n",
      "Билеты в руки         0.138780\n",
      "Мой билет             0.119798\n",
      "Облачко               0.091601\n",
      "Лучшие билеты         0.061183\n",
      "Весь в билетах        0.057930\n",
      "Прачечная             0.035321\n",
      "Край билетов          0.021341\n",
      "Тебе билет!           0.017975\n",
      "Name: service_name, dtype: float64\n",
      "Пропусков: 0\n",
      "\n",
      "==================================================\n",
      "Детальный анализ категориальных переменных в events_df\n",
      "==================================================\n",
      "\n",
      "------------------------------\n",
      "Колонка: event_type_description\n",
      "Уникальных значений: 20\n",
      "Топ-10 самых частых значений:\n",
      "концерт                   0.378339\n",
      "спектакль                 0.268204\n",
      "событие                   0.201989\n",
      "шоу                       0.032595\n",
      "спортивное мероприятие    0.025639\n",
      "балет                     0.021581\n",
      "мюзикл                    0.016007\n",
      "спорт                     0.013243\n",
      "опера                     0.011236\n",
      "фестиваль                 0.009453\n",
      "Name: event_type_description, dtype: float64\n",
      "Пропусков: 0\n",
      "\n",
      "------------------------------\n",
      "Колонка: event_type_main\n",
      "Уникальных значений: 7\n",
      "Топ-10 самых частых значений:\n",
      "концерты    0.387033\n",
      "театр       0.315513\n",
      "другое      0.207696\n",
      "спорт       0.038882\n",
      "стендап     0.028359\n",
      "выставки    0.012931\n",
      "ёлки        0.009587\n",
      "Name: event_type_main, dtype: float64\n",
      "\n",
      "Полное распределение по типам мероприятий:\n",
      "концерты    8680\n",
      "театр       7076\n",
      "другое      4658\n",
      "спорт        872\n",
      "стендап      636\n",
      "выставки     290\n",
      "ёлки         215\n",
      "Name: event_type_main, dtype: int64\n",
      "Пропусков: 0\n",
      "\n",
      "------------------------------\n",
      "Колонка: region_name\n",
      "Уникальных значений: 81\n",
      "Топ-10 самых частых значений:\n",
      "Каменевский регион      0.266777\n",
      "Североярская область    0.170063\n",
      "Широковская область     0.054978\n",
      "Светополянский округ    0.047933\n",
      "Речиновская область     0.031302\n",
      "Травяная область        0.030454\n",
      "Горицветская область    0.024569\n",
      "Серебринская область    0.024167\n",
      "Яблоневская область     0.023855\n",
      "Тепляковская область    0.023632\n",
      "Name: region_name, dtype: float64\n",
      "Пропусков: 0\n",
      "\n",
      "------------------------------\n",
      "Колонка: city_name\n",
      "Уникальных значений: 352\n",
      "Топ-10 самых частых значений:\n",
      "Глиногорск      0.257636\n",
      "Озёрск          0.169706\n",
      "Глиноград       0.036429\n",
      "Дальнесветск    0.031302\n",
      "Радужнополье    0.030989\n",
      "Светополье      0.022830\n",
      "Глинополье      0.022205\n",
      "Радужсвет       0.021804\n",
      "Озёрчане        0.021358\n",
      "Горнодолинск    0.021180\n",
      "Name: city_name, dtype: float64\n",
      "Пропусков: 0\n"
     ]
    }
   ],
   "source": [
    "# Тут я развернуто по каждому датафрейму прописала необходимую информацию\n",
    "\n",
    "# Анализ ключевых категориальных признаков в orders_df\n",
    "cat_columns_orders = ['cinema_circuit', 'age_limit', 'currency_code', \n",
    "                     'device_type_canonical', 'service_name']\n",
    "\n",
    "print(\"=\"*50)\n",
    "print(\"Детальный анализ категориальных переменных в orders_df\")\n",
    "print(\"=\"*50)\n",
    "\n",
    "for col in cat_columns_orders:\n",
    "    print(f\"\\n{'-'*30}\")\n",
    "    print(f\"Колонка: {col}\")\n",
    "    print(f\"Уникальных значений: {final_tickets_orders_df[col].nunique()}\")\n",
    "    print(\"Распределение значений:\")\n",
    "    print(final_tickets_orders_df[col].value_counts(normalize=True, dropna=False).head(10))\n",
    "    \n",
    "    # Для столбцов с малым числом уникальных значений выводим все значения\n",
    "    if final_tickets_orders_df[col].nunique() <= 10:\n",
    "        print(\"\\nПолный список уникальных значений:\")\n",
    "        print(final_tickets_orders_df[col].unique())\n",
    "    \n",
    "    print(f\"Пропусков: {final_tickets_orders_df[col].isna().sum()}\")\n",
    "\n",
    "# Анализ категориальных признаков в events_df\n",
    "cat_columns_events = ['event_type_description', 'event_type_main', \n",
    "                      'region_name', 'city_name']\n",
    "\n",
    "print(\"\\n\" + \"=\"*50)\n",
    "print(\"Детальный анализ категориальных переменных в events_df\")\n",
    "print(\"=\"*50)\n",
    "\n",
    "for col in cat_columns_events:\n",
    "    print(f\"\\n{'-'*30}\")\n",
    "    print(f\"Колонка: {col}\")\n",
    "    print(f\"Уникальных значений: {final_tickets_events_df[col].nunique()}\")\n",
    "    print(\"Топ-10 самых частых значений:\")\n",
    "    print(final_tickets_events_df[col].value_counts(normalize=True).head(10))\n",
    "    \n",
    "    # Для основных типов мероприятий выводим полное распределение\n",
    "    if col == 'event_type_main':\n",
    "        print(\"\\nПолное распределение по типам мероприятий:\")\n",
    "        print(final_tickets_events_df[col].value_counts())\n",
    "    \n",
    "    print(f\"Пропусков: {final_tickets_events_df[col].isna().sum()}\")"
   ]
  },
  {
   "cell_type": "markdown",
   "id": "e4c412a3",
   "metadata": {},
   "source": [
    "4. Выбросы: Анализируем распределение и наличие выбросов в столбцах `revenue` и `tickets_count`. Отсекаем значения выше `99-го перцентиля`и разделяем анализ на рубли и тенге."
   ]
  },
  {
   "cell_type": "code",
   "execution_count": 9,
   "id": "34a5c2bc",
   "metadata": {
    "scrolled": true
   },
   "outputs": [
    {
     "data": {
      "image/png": "[encoded data removed]",
      "text/plain": [
       "<Figure size 1152x720 with 4 Axes>"
      ]
     },
     "metadata": {},
     "output_type": "display_data"
    }
   ],
   "source": [
    "# Настройка стиля\n",
    "sns.set(style=\"whitegrid\")\n",
    "\n",
    "# Гистограммы и boxplot\n",
    "fig, axes = plt.subplots(2, 2, figsize=(16, 10))\n",
    "\n",
    "# Boxplot для revenue\n",
    "sns.boxplot(data=final_tickets_orders_df, x='revenue', ax=axes[0, 0])\n",
    "axes[0, 0].set_title('Boxplot выручки (revenue)')\n",
    "\n",
    "# Гистограмма для revenue\n",
    "sns.histplot(final_tickets_orders_df['revenue'], bins=50, kde=True, ax=axes[0, 1])\n",
    "axes[0, 1].set_title('Гистограмма выручки (revenue)')\n",
    "\n",
    "# Boxplot для tickets_count\n",
    "sns.boxplot(data=final_tickets_orders_df, x='tickets_count', ax=axes[1, 0])\n",
    "axes[1, 0].set_title('Boxplot количества билетов (tickets_count)')\n",
    "\n",
    "# Гистограмма для tickets_count\n",
    "sns.histplot(final_tickets_orders_df['tickets_count'], bins=30, kde=True, ax=axes[1, 1])\n",
    "axes[1, 1].set_title('Гистограмма количества билетов (tickets_count)')\n",
    "\n",
    "plt.tight_layout()\n",
    "plt.show()"
   ]
  },
  {
   "cell_type": "code",
   "execution_count": 10,
   "id": "a08b6007",
   "metadata": {},
   "outputs": [
    {
     "name": "stdout",
     "output_type": "stream",
     "text": [
      "Пороговые значения (RUB):\n",
      "- Выручка: 2569.59\n",
      "- Билеты: 6.0\n",
      "\n",
      "Пороговые значения (KZT):\n",
      "- Выручка: 17617.24\n",
      "- Билеты: 6.0\n"
     ]
    }
   ],
   "source": [
    "# Разделяем данные по валюте\n",
    "rub_orders = final_tickets_orders_df[final_tickets_orders_df['currency_code'] == 'rub']\n",
    "kzt_orders = final_tickets_orders_df[final_tickets_orders_df['currency_code'] == 'kzt']\n",
    "\n",
    "# Пороговые значения по 99 перцентилю\n",
    "revenue_rub_threshold = rub_orders['revenue'].quantile(0.99)\n",
    "tickets_rub_threshold = rub_orders['tickets_count'].quantile(0.99)\n",
    "\n",
    "revenue_kzt_threshold = kzt_orders['revenue'].quantile(0.99)\n",
    "tickets_kzt_threshold = kzt_orders['tickets_count'].quantile(0.99)\n",
    "\n",
    "print(\"Пороговые значения (RUB):\")\n",
    "print(f\"- Выручка: {revenue_rub_threshold:.2f}\")\n",
    "print(f\"- Билеты: {tickets_rub_threshold}\")\n",
    "\n",
    "print(\"\\nПороговые значения (KZT):\")\n",
    "print(f\"- Выручка: {revenue_kzt_threshold:.2f}\")\n",
    "print(f\"- Билеты: {tickets_kzt_threshold}\")"
   ]
  },
  {
   "cell_type": "code",
   "execution_count": 11,
   "id": "b07149ce",
   "metadata": {},
   "outputs": [
    {
     "name": "stdout",
     "output_type": "stream",
     "text": [
      "Исходное количество записей: 290849\n",
      "Очищенное количество записей: 287782\n",
      "Процент удаленных записей: 1.05%\n"
     ]
    }
   ],
   "source": [
    "# Фильтруем выбросы\n",
    "cleaned_rub = rub_orders[\n",
    "    (rub_orders['revenue'] <= revenue_rub_threshold) &\n",
    "    (rub_orders['tickets_count'] <= tickets_rub_threshold)\n",
    "]\n",
    "\n",
    "cleaned_kzt = kzt_orders[\n",
    "    (kzt_orders['revenue'] <= revenue_kzt_threshold) &\n",
    "    (kzt_orders['tickets_count'] <= tickets_kzt_threshold)\n",
    "]\n",
    "\n",
    "# Объединяем обратно\n",
    "final_cleaned_orders = pd.concat([cleaned_rub, cleaned_kzt], axis=0)\n",
    "\n",
    "# Проверяем размеры\n",
    "print(f\"Исходное количество записей: {len(final_tickets_orders_df)}\")\n",
    "print(f\"Очищенное количество записей: {len(final_cleaned_orders)}\")\n",
    "print(f\"Процент удаленных записей: {1 - len(final_cleaned_orders)/len(final_tickets_orders_df):.2%}\")"
   ]
  },
  {
   "cell_type": "markdown",
   "id": "2c0338b6",
   "metadata": {},
   "source": []
  },
  {
   "cell_type": "markdown",
   "id": "c8f7835b",
   "metadata": {},
   "source": [
    "6. Дубликаты: Проверяем как явные, так и неявные дубликаты"
   ]
  },
  {
   "cell_type": "code",
   "execution_count": 12,
   "id": "6f668e6c",
   "metadata": {},
   "outputs": [
    {
     "name": "stdout",
     "output_type": "stream",
     "text": [
      "Проверка дубликатов\n",
      "Явные дубликаты: 0\n",
      "Неявные дубликаты (по cols_for_duplicates): 85571\n",
      "Остались неявные дубликаты после очистки: 0\n"
     ]
    }
   ],
   "source": [
    "# Проверка дубликатов \n",
    "print(\"Проверка дубликатов\")\n",
    "\n",
    "# Явные дубликаты\n",
    "explicit_duplicates = final_cleaned_orders.duplicated().sum()\n",
    "print(f\"Явные дубликаты: {explicit_duplicates}\")\n",
    "\n",
    "# Неявные дубликаты по ключевым полям\n",
    "cols_for_duplicates = ['user_id', 'event_id', 'created_dt_msk', 'tickets_count', 'total']\n",
    "all_duplicates = final_cleaned_orders[final_cleaned_orders.duplicated(subset=cols_for_duplicates, keep=False)]\n",
    "\n",
    "print(f\"Неявные дубликаты (по cols_for_duplicates): {len(all_duplicates)}\")\n",
    "\n",
    "# Удаление неявных дубликатов, оставляем последнюю запись в группе\n",
    "final_cleaned_orders = final_cleaned_orders.drop_duplicates(subset=cols_for_duplicates, keep='last')\n",
    "\n",
    "# Проверка после удаления\n",
    "remaining_duplicates = final_cleaned_orders[final_cleaned_orders.duplicated(subset=cols_for_duplicates, keep=False)]\n",
    "print(f\"Остались неявные дубликаты после очистки: {len(remaining_duplicates)}\")"
   ]
  },
  {
   "cell_type": "markdown",
   "id": "05a376be",
   "metadata": {},
   "source": [
    "7. Преобразование типов: Приводим даты к правильному формату"
   ]
  },
  {
   "cell_type": "code",
   "execution_count": 13,
   "id": "0beb4633",
   "metadata": {},
   "outputs": [
    {
     "name": "stdout",
     "output_type": "stream",
     "text": [
      "Тип created_dt_msk: datetime64[ns]\n",
      "Тип created_ts_msk: datetime64[ns]\n"
     ]
    }
   ],
   "source": [
    "# Преобразование типов дат\n",
    "final_cleaned_orders['created_dt_msk'] = pd.to_datetime(final_cleaned_orders['created_dt_msk'])\n",
    "final_cleaned_orders['created_ts_msk'] = pd.to_datetime(final_cleaned_orders['created_ts_msk'])\n",
    "\n",
    "# Проверка успешного преобразования\n",
    "print(\"Тип created_dt_msk:\", final_cleaned_orders['created_dt_msk'].dtype)\n",
    "print(\"Тип created_ts_msk:\", final_cleaned_orders['created_ts_msk'].dtype)"
   ]
  },
  {
   "cell_type": "markdown",
   "id": "ab5a79c1",
   "metadata": {},
   "source": [
    "8. Конвертация валюты: Объединяем с курсом `тенге` и рассчитываем `revenue_rub`"
   ]
  },
  {
   "cell_type": "code",
   "execution_count": 14,
   "id": "685a6d14",
   "metadata": {},
   "outputs": [
    {
     "name": "stdout",
     "output_type": "stream",
     "text": [
      "\n",
      "Сравнение до и после конвертации:\n",
      "  currency_code  revenue  revenue_rub\n",
      "0           rub  1521.94      1521.94\n",
      "1           rub   289.45       289.45\n",
      "2           rub  1258.57      1258.57\n",
      "3           rub     8.49         8.49\n",
      "4           rub  1390.41      1390.41\n",
      "\n",
      "Конвертировано 3751 записей в тенге\n",
      "Пример конвертации (первые 5 записей):\n",
      "    created_dt_msk currency_code  revenue  revenue_rub\n",
      "73      2024-09-17           kzt   518.10    98.503762\n",
      "92      2024-09-02           kzt   347.18    65.731589\n",
      "99      2024-09-09           kzt   328.77    61.148261\n",
      "473     2024-06-04           kzt  3698.83   739.148295\n",
      "475     2024-06-04           kzt  5548.24  1108.721444\n",
      "\n",
      "Средний примененный курс: 0.1932 руб за 1 тенге\n"
     ]
    }
   ],
   "source": [
    "# Убедимся, что даты в курсах валют имеют тип date\n",
    "final_tickets_tenge_df['data_date'] = pd.to_datetime(final_tickets_tenge_df['data']).dt.date\n",
    "exchange_rates = final_tickets_tenge_df.set_index('data_date')['curs'] / 100\n",
    "\n",
    "# Убедимся, что created_dt_msk имеет тип datetime\n",
    "final_cleaned_orders['created_dt_msk'] = pd.to_datetime(final_cleaned_orders['created_dt_msk'])\n",
    "\n",
    "# Функция конвертации\n",
    "def convert_to_rub(row):\n",
    "    if row['currency_code'] == 'kzt':\n",
    "        date = row['created_dt_msk'].date()\n",
    "        try:\n",
    "            rate = exchange_rates[date]\n",
    "            return row['revenue'] * rate\n",
    "        except KeyError:\n",
    "            print(f\"Предупреждение: Не найден курс для даты {date}\")\n",
    "            return row['revenue']  # Возвращаем исходное значение, если курс не найден\n",
    "    return row['revenue']\n",
    "\n",
    "# Применяем конвертацию\n",
    "final_cleaned_orders['revenue_rub'] = final_cleaned_orders.apply(convert_to_rub, axis=1)\n",
    "\n",
    "# Проверяем разницу между валютами\n",
    "print(\"\\nСравнение до и после конвертации:\")\n",
    "print(final_cleaned_orders[['currency_code', 'revenue', 'revenue_rub']].head())\n",
    "\n",
    "# Проверяем конвертацию для тенге\n",
    "kzt_converted = final_cleaned_orders[final_cleaned_orders['currency_code'] == 'kzt']\n",
    "print(f\"\\nКонвертировано {len(kzt_converted)} записей в тенге\")\n",
    "print(\"Пример конвертации (первые 5 записей):\")\n",
    "print(kzt_converted[['created_dt_msk', 'currency_code', 'revenue', 'revenue_rub']].head())\n",
    "\n",
    "# Проверяем средний курс\n",
    "if not kzt_converted.empty:\n",
    "    avg_rate = (kzt_converted['revenue_rub'] / kzt_converted['revenue']).mean()\n",
    "    print(f\"\\nСредний примененный курс: {avg_rate:.4f} руб за 1 тенге\")"
   ]
  },
  {
   "cell_type": "markdown",
   "id": "46c38ec3",
   "metadata": {},
   "source": [
    "9. Новые столбцы:\n",
    "\n",
    "- `one_ticket_revenue_rub` - выручка на один билет\n",
    "- `month` - месяц заказа\n",
    "- `season` - сезон на основе месяца"
   ]
  },
  {
   "cell_type": "code",
   "execution_count": 15,
   "id": "e84f1c27",
   "metadata": {},
   "outputs": [
    {
     "name": "stdout",
     "output_type": "stream",
     "text": [
      "Доступные столбцы после добавления новых признаков:\n",
      "['order_id', 'user_id', 'created_dt_msk', 'created_ts_msk', 'event_id', 'cinema_circuit', 'age_limit', 'currency_code', 'device_type_canonical', 'revenue', 'service_name', 'tickets_count', 'total', 'days_since_prev', 'revenue_rub', 'one_ticket_revenue_rub', 'month', 'season']\n"
     ]
    }
   ],
   "source": [
    "# Создание новых столбцов:\n",
    "\n",
    "# one_ticket_revenue_rub\n",
    "final_cleaned_orders['one_ticket_revenue_rub'] = (\n",
    "    final_cleaned_orders['revenue_rub'] / final_cleaned_orders['tickets_count']\n",
    ")\n",
    "\n",
    "# month\n",
    "final_cleaned_orders['month'] = final_cleaned_orders['created_dt_msk'].dt.month\n",
    "\n",
    "def get_season(month):\n",
    "    if month in [12, 1, 2]:\n",
    "        return 'зима'\n",
    "    elif month in [3, 4, 5]:\n",
    "        return 'весна'\n",
    "    elif month in [6, 7, 8]:\n",
    "        return 'лето'\n",
    "    else:\n",
    "        return 'осень'\n",
    "\n",
    "final_cleaned_orders['season'] = final_cleaned_orders['month'].apply(get_season)\n",
    "\n",
    "# === Проверка новых столбцов ===\n",
    "print(\"Доступные столбцы после добавления новых признаков:\")\n",
    "print(final_cleaned_orders.columns.tolist())"
   ]
  },
  {
   "cell_type": "markdown",
   "id": "f0cfb5df",
   "metadata": {},
   "source": [
    "10. Объединение данных: Соединяем заказы с информацией о мероприятиях"
   ]
  },
  {
   "cell_type": "code",
   "execution_count": 16,
   "id": "c7020a9c",
   "metadata": {},
   "outputs": [
    {
     "name": "stdout",
     "output_type": "stream",
     "text": [
      "\n",
      "============================================================\n",
      "Проверка размеров данных на разных этапах обработки\n",
      "============================================================\n",
      "\n",
      "1. Исходные данные:\n",
      "- Заказы: 290849 строк\n",
      "- Мероприятия: 22427 строк\n",
      "\n",
      "2. После удаления выбросов:\n",
      "- Осталось: 235054 строк\n",
      "- Удалено: 55795 строк (19.18%)\n",
      "\n",
      "3. После удаления дубликатов:\n",
      "- Осталось: 235054 строк\n",
      "- Удалено на этом этапе: 0 строк (0.00%)\n",
      "\n",
      "4. После объединения с мероприятиями:\n",
      "- Итоговый датафрейм: 235054 строк\n",
      "- Потери после объединения: 0 строк (0.00%)\n",
      "\n",
      "✅ Финальный датафрейм содержит 235054 заказов из 290849 исходных.\n",
      "\n",
      "==================================================\n",
      "Пример объединенных данных (первые 5 строк):\n",
      "==================================================\n"
     ]
    },
    {
     "data": {
      "text/html": [
       "<div>\n",
       "<style scoped>\n",
       "    .dataframe tbody tr th:only-of-type {\n",
       "        vertical-align: middle;\n",
       "    }\n",
       "\n",
       "    .dataframe tbody tr th {\n",
       "        vertical-align: top;\n",
       "    }\n",
       "\n",
       "    .dataframe thead th {\n",
       "        text-align: right;\n",
       "    }\n",
       "</style>\n",
       "<table border=\"1\" class=\"dataframe\">\n",
       "  <thead>\n",
       "    <tr style=\"text-align: right;\">\n",
       "      <th></th>\n",
       "      <th>order_id</th>\n",
       "      <th>user_id</th>\n",
       "      <th>created_dt_msk</th>\n",
       "      <th>created_ts_msk</th>\n",
       "      <th>event_id</th>\n",
       "      <th>cinema_circuit</th>\n",
       "      <th>age_limit</th>\n",
       "      <th>currency_code</th>\n",
       "      <th>device_type_canonical</th>\n",
       "      <th>revenue</th>\n",
       "      <th>...</th>\n",
       "      <th>event_name</th>\n",
       "      <th>event_type_description</th>\n",
       "      <th>event_type_main</th>\n",
       "      <th>organizers</th>\n",
       "      <th>region_name</th>\n",
       "      <th>city_name</th>\n",
       "      <th>city_id</th>\n",
       "      <th>venue_id</th>\n",
       "      <th>venue_name</th>\n",
       "      <th>venue_address</th>\n",
       "    </tr>\n",
       "  </thead>\n",
       "  <tbody>\n",
       "    <tr>\n",
       "      <th>0</th>\n",
       "      <td>4359165</td>\n",
       "      <td>0002849b70a3ce2</td>\n",
       "      <td>2024-08-20</td>\n",
       "      <td>2024-08-20 16:08:03</td>\n",
       "      <td>169230</td>\n",
       "      <td>нет</td>\n",
       "      <td>16</td>\n",
       "      <td>rub</td>\n",
       "      <td>mobile</td>\n",
       "      <td>1521.94</td>\n",
       "      <td>...</td>\n",
       "      <td>f0f7b271-04eb-4af6-bcb8-8f05cf46d6ad</td>\n",
       "      <td>спектакль</td>\n",
       "      <td>театр</td>\n",
       "      <td>№3322</td>\n",
       "      <td>Каменевский регион</td>\n",
       "      <td>Глиногорск</td>\n",
       "      <td>213.0</td>\n",
       "      <td>3972.0</td>\n",
       "      <td>Сценический центр \"Деталь\" Групп</td>\n",
       "      <td>алл. Машиностроителей, д. 19 стр. 6</td>\n",
       "    </tr>\n",
       "    <tr>\n",
       "      <th>1</th>\n",
       "      <td>7965605</td>\n",
       "      <td>0005ca5e93f2cf4</td>\n",
       "      <td>2024-07-23</td>\n",
       "      <td>2024-07-23 18:36:24</td>\n",
       "      <td>237325</td>\n",
       "      <td>нет</td>\n",
       "      <td>0</td>\n",
       "      <td>rub</td>\n",
       "      <td>mobile</td>\n",
       "      <td>289.45</td>\n",
       "      <td>...</td>\n",
       "      <td>40efeb04-81b7-4135-b41f-708ff00cc64c</td>\n",
       "      <td>событие</td>\n",
       "      <td>выставки</td>\n",
       "      <td>№4850</td>\n",
       "      <td>Каменевский регион</td>\n",
       "      <td>Глиногорск</td>\n",
       "      <td>213.0</td>\n",
       "      <td>2941.0</td>\n",
       "      <td>Музыкальная школа для детей \"Аккаунт\" Лтд</td>\n",
       "      <td>алл. Шмидта, д. 9 стр. 4</td>\n",
       "    </tr>\n",
       "    <tr>\n",
       "      <th>2</th>\n",
       "      <td>7292370</td>\n",
       "      <td>0005ca5e93f2cf4</td>\n",
       "      <td>2024-10-06</td>\n",
       "      <td>2024-10-06 13:56:02</td>\n",
       "      <td>578454</td>\n",
       "      <td>нет</td>\n",
       "      <td>0</td>\n",
       "      <td>rub</td>\n",
       "      <td>mobile</td>\n",
       "      <td>1258.57</td>\n",
       "      <td>...</td>\n",
       "      <td>01f3fb7b-ed07-4f94-b1d3-9a2e1ee5a8ca</td>\n",
       "      <td>цирковое шоу</td>\n",
       "      <td>другое</td>\n",
       "      <td>№1540</td>\n",
       "      <td>Каменевский регион</td>\n",
       "      <td>Глиногорск</td>\n",
       "      <td>213.0</td>\n",
       "      <td>4507.0</td>\n",
       "      <td>Училище искусств \"Нирвана\" Инк</td>\n",
       "      <td>алл. Юбилейная, д. 5/6</td>\n",
       "    </tr>\n",
       "    <tr>\n",
       "      <th>3</th>\n",
       "      <td>1139875</td>\n",
       "      <td>000898990054619</td>\n",
       "      <td>2024-07-13</td>\n",
       "      <td>2024-07-13 19:40:48</td>\n",
       "      <td>387271</td>\n",
       "      <td>нет</td>\n",
       "      <td>0</td>\n",
       "      <td>rub</td>\n",
       "      <td>mobile</td>\n",
       "      <td>8.49</td>\n",
       "      <td>...</td>\n",
       "      <td>2f638715-8844-466c-b43f-378a627c419f</td>\n",
       "      <td>выставка</td>\n",
       "      <td>другое</td>\n",
       "      <td>№5049</td>\n",
       "      <td>Североярская область</td>\n",
       "      <td>Озёрск</td>\n",
       "      <td>2.0</td>\n",
       "      <td>3574.0</td>\n",
       "      <td>Театр альтернативного искусства \"Ода\" Лимитед</td>\n",
       "      <td>алл. Есенина, д. 243 к. 3/8</td>\n",
       "    </tr>\n",
       "    <tr>\n",
       "      <th>4</th>\n",
       "      <td>972400</td>\n",
       "      <td>000898990054619</td>\n",
       "      <td>2024-10-04</td>\n",
       "      <td>2024-10-04 22:33:15</td>\n",
       "      <td>509453</td>\n",
       "      <td>нет</td>\n",
       "      <td>18</td>\n",
       "      <td>rub</td>\n",
       "      <td>mobile</td>\n",
       "      <td>1390.41</td>\n",
       "      <td>...</td>\n",
       "      <td>10d805d3-9809-4d8a-834e-225b7d03f95d</td>\n",
       "      <td>шоу</td>\n",
       "      <td>стендап</td>\n",
       "      <td>№832</td>\n",
       "      <td>Озернинский край</td>\n",
       "      <td>Родниковецк</td>\n",
       "      <td>240.0</td>\n",
       "      <td>1896.0</td>\n",
       "      <td>Театр кукол \"Огни\" Инкорпорэйтед</td>\n",
       "      <td>ш. Набережное, д. 595 стр. 8</td>\n",
       "    </tr>\n",
       "  </tbody>\n",
       "</table>\n",
       "<p>5 rows × 28 columns</p>\n",
       "</div>"
      ],
      "text/plain": [
       "   order_id          user_id created_dt_msk      created_ts_msk  event_id  \\\n",
       "0   4359165  0002849b70a3ce2     2024-08-20 2024-08-20 16:08:03    169230   \n",
       "1   7965605  0005ca5e93f2cf4     2024-07-23 2024-07-23 18:36:24    237325   \n",
       "2   7292370  0005ca5e93f2cf4     2024-10-06 2024-10-06 13:56:02    578454   \n",
       "3   1139875  000898990054619     2024-07-13 2024-07-13 19:40:48    387271   \n",
       "4    972400  000898990054619     2024-10-04 2024-10-04 22:33:15    509453   \n",
       "\n",
       "  cinema_circuit  age_limit currency_code device_type_canonical  revenue  ...  \\\n",
       "0            нет         16           rub                mobile  1521.94  ...   \n",
       "1            нет          0           rub                mobile   289.45  ...   \n",
       "2            нет          0           rub                mobile  1258.57  ...   \n",
       "3            нет          0           rub                mobile     8.49  ...   \n",
       "4            нет         18           rub                mobile  1390.41  ...   \n",
       "\n",
       "                             event_name  event_type_description  \\\n",
       "0  f0f7b271-04eb-4af6-bcb8-8f05cf46d6ad               спектакль   \n",
       "1  40efeb04-81b7-4135-b41f-708ff00cc64c                 событие   \n",
       "2  01f3fb7b-ed07-4f94-b1d3-9a2e1ee5a8ca            цирковое шоу   \n",
       "3  2f638715-8844-466c-b43f-378a627c419f                выставка   \n",
       "4  10d805d3-9809-4d8a-834e-225b7d03f95d                     шоу   \n",
       "\n",
       "   event_type_main  organizers           region_name    city_name  city_id  \\\n",
       "0            театр       №3322    Каменевский регион   Глиногорск    213.0   \n",
       "1         выставки       №4850    Каменевский регион   Глиногорск    213.0   \n",
       "2           другое       №1540    Каменевский регион   Глиногорск    213.0   \n",
       "3           другое       №5049  Североярская область       Озёрск      2.0   \n",
       "4          стендап        №832      Озернинский край  Родниковецк    240.0   \n",
       "\n",
       "  venue_id                                     venue_name  \\\n",
       "0   3972.0               Сценический центр \"Деталь\" Групп   \n",
       "1   2941.0      Музыкальная школа для детей \"Аккаунт\" Лтд   \n",
       "2   4507.0                 Училище искусств \"Нирвана\" Инк   \n",
       "3   3574.0  Театр альтернативного искусства \"Ода\" Лимитед   \n",
       "4   1896.0               Театр кукол \"Огни\" Инкорпорэйтед   \n",
       "\n",
       "                         venue_address  \n",
       "0  алл. Машиностроителей, д. 19 стр. 6  \n",
       "1             алл. Шмидта, д. 9 стр. 4  \n",
       "2               алл. Юбилейная, д. 5/6  \n",
       "3          алл. Есенина, д. 243 к. 3/8  \n",
       "4         ш. Набережное, д. 595 стр. 8  \n",
       "\n",
       "[5 rows x 28 columns]"
      ]
     },
     "metadata": {},
     "output_type": "display_data"
    },
    {
     "name": "stdout",
     "output_type": "stream",
     "text": [
      "\n",
      "==================================================\n",
      "Типы данных в объединенной таблице:\n",
      "==================================================\n",
      "order_id                           int64\n",
      "user_id                           object\n",
      "created_dt_msk            datetime64[ns]\n",
      "created_ts_msk            datetime64[ns]\n",
      "event_id                           int64\n",
      "cinema_circuit                    object\n",
      "age_limit                          int64\n",
      "currency_code                     object\n",
      "device_type_canonical             object\n",
      "revenue                          float64\n",
      "service_name                      object\n",
      "tickets_count                      int64\n",
      "total                            float64\n",
      "days_since_prev                  float64\n",
      "revenue_rub                      float64\n",
      "one_ticket_revenue_rub           float64\n",
      "month                              int64\n",
      "season                            object\n",
      "event_name                        object\n",
      "event_type_description            object\n",
      "event_type_main                   object\n",
      "organizers                        object\n",
      "region_name                       object\n",
      "city_name                         object\n",
      "city_id                          float64\n",
      "venue_id                         float64\n",
      "venue_name                        object\n",
      "venue_address                     object\n",
      "dtype: object\n",
      "\n",
      "==================================================\n",
      "Основные статистики по числовым полям:\n",
      "==================================================\n"
     ]
    },
    {
     "data": {
      "text/html": [
       "<div>\n",
       "<style scoped>\n",
       "    .dataframe tbody tr th:only-of-type {\n",
       "        vertical-align: middle;\n",
       "    }\n",
       "\n",
       "    .dataframe tbody tr th {\n",
       "        vertical-align: top;\n",
       "    }\n",
       "\n",
       "    .dataframe thead th {\n",
       "        text-align: right;\n",
       "    }\n",
       "</style>\n",
       "<table border=\"1\" class=\"dataframe\">\n",
       "  <thead>\n",
       "    <tr style=\"text-align: right;\">\n",
       "      <th></th>\n",
       "      <th>revenue_rub</th>\n",
       "      <th>tickets_count</th>\n",
       "      <th>one_ticket_revenue_rub</th>\n",
       "    </tr>\n",
       "  </thead>\n",
       "  <tbody>\n",
       "    <tr>\n",
       "      <th>count</th>\n",
       "      <td>235054.000000</td>\n",
       "      <td>235054.000000</td>\n",
       "      <td>235054.000000</td>\n",
       "    </tr>\n",
       "    <tr>\n",
       "      <th>mean</th>\n",
       "      <td>528.329221</td>\n",
       "      <td>2.735907</td>\n",
       "      <td>194.535204</td>\n",
       "    </tr>\n",
       "    <tr>\n",
       "      <th>std</th>\n",
       "      <td>510.767244</td>\n",
       "      <td>1.137260</td>\n",
       "      <td>166.228624</td>\n",
       "    </tr>\n",
       "    <tr>\n",
       "      <th>min</th>\n",
       "      <td>-90.760000</td>\n",
       "      <td>1.000000</td>\n",
       "      <td>-18.152000</td>\n",
       "    </tr>\n",
       "    <tr>\n",
       "      <th>25%</th>\n",
       "      <td>121.820000</td>\n",
       "      <td>2.000000</td>\n",
       "      <td>50.702500</td>\n",
       "    </tr>\n",
       "    <tr>\n",
       "      <th>50%</th>\n",
       "      <td>363.182998</td>\n",
       "      <td>3.000000</td>\n",
       "      <td>155.535000</td>\n",
       "    </tr>\n",
       "    <tr>\n",
       "      <th>75%</th>\n",
       "      <td>799.960000</td>\n",
       "      <td>3.000000</td>\n",
       "      <td>307.410000</td>\n",
       "    </tr>\n",
       "    <tr>\n",
       "      <th>max</th>\n",
       "      <td>3504.562319</td>\n",
       "      <td>6.000000</td>\n",
       "      <td>2438.270000</td>\n",
       "    </tr>\n",
       "  </tbody>\n",
       "</table>\n",
       "</div>"
      ],
      "text/plain": [
       "         revenue_rub  tickets_count  one_ticket_revenue_rub\n",
       "count  235054.000000  235054.000000           235054.000000\n",
       "mean      528.329221       2.735907              194.535204\n",
       "std       510.767244       1.137260              166.228624\n",
       "min       -90.760000       1.000000              -18.152000\n",
       "25%       121.820000       2.000000               50.702500\n",
       "50%       363.182998       3.000000              155.535000\n",
       "75%       799.960000       3.000000              307.410000\n",
       "max      3504.562319       6.000000             2438.270000"
      ]
     },
     "metadata": {},
     "output_type": "display_data"
    },
    {
     "name": "stdout",
     "output_type": "stream",
     "text": [
      "\n",
      "==================================================\n",
      "Проверка аномальных значений:\n",
      "==================================================\n",
      "- Минимальная выручка: -90.76 руб. (возможен возврат билета)\n",
      "- Максимальное количество билетов: 6 шт.\n",
      "- Средняя цена билета: 194.54 руб.\n",
      "\n",
      "==================================================\n",
      "Распределение по типам устройств:\n",
      "==================================================\n",
      "mobile     81.2%\n",
      "desktop    18.8%\n",
      "Name: device_type_canonical, dtype: object\n"
     ]
    }
   ],
   "source": [
    "# Объединение данных о заказах и мероприятиях\n",
    "final_df = pd.merge(\n",
    "    final_cleaned_orders,\n",
    "    final_tickets_events_df,\n",
    "    on='event_id',\n",
    "    how='left'\n",
    ")\n",
    "\n",
    "# Проверка размеров данных на разных этапах\n",
    "print(\"\\n\" + \"=\"*60)\n",
    "print(\"Проверка размеров данных на разных этапах обработки\")\n",
    "print(\"=\"*60)\n",
    "\n",
    "# Исходные данные\n",
    "initial_orders = len(final_tickets_orders_df)\n",
    "\n",
    "# После удаления выбросов\n",
    "after_outliers = len(final_cleaned_orders)\n",
    "\n",
    "# После удаления дубликатов\n",
    "after_duplicates = len(final_cleaned_orders)\n",
    "\n",
    "# После объединения\n",
    "final_merged = len(final_df)\n",
    "\n",
    "# Вывод информации\n",
    "print(f\"\\n1. Исходные данные:\")\n",
    "print(f\"- Заказы: {initial_orders} строк\")\n",
    "print(f\"- Мероприятия: {len(final_tickets_events_df)} строк\")\n",
    "\n",
    "print(f\"\\n2. После удаления выбросов:\")\n",
    "print(f\"- Осталось: {after_outliers} строк\")\n",
    "print(f\"- Удалено: {initial_orders - after_outliers} строк ({(initial_orders - after_outliers)/initial_orders:.2%})\")\n",
    "\n",
    "print(f\"\\n3. После удаления дубликатов:\")\n",
    "print(f\"- Осталось: {after_duplicates} строк\")\n",
    "print(f\"- Удалено на этом этапе: {after_outliers - after_duplicates} строк ({(after_outliers - after_duplicates)/after_outliers:.2%})\")\n",
    "\n",
    "print(f\"\\n4. После объединения с мероприятиями:\")\n",
    "print(f\"- Итоговый датафрейм: {final_merged} строк\")\n",
    "print(f\"- Потери после объединения: {after_duplicates - final_merged} строк ({(after_duplicates - final_merged)/after_duplicates:.2%})\")\n",
    "\n",
    "print(f\"\\n✅ Финальный датафрейм содержит {final_merged} заказов из {initial_orders} исходных.\")\n",
    "\n",
    "# 2. Пример данных\n",
    "print(\"\\n\" + \"=\"*50)\n",
    "print(\"Пример объединенных данных (первые 5 строк):\")\n",
    "print(\"=\"*50)\n",
    "display(final_df.head(5))\n",
    "\n",
    "# 3. Типы данных\n",
    "print(\"\\n\" + \"=\"*50)\n",
    "print(\"Типы данных в объединенной таблице:\")\n",
    "print(\"=\"*50)\n",
    "print(final_df.dtypes)\n",
    "\n",
    "# 4. Основные статистики\n",
    "print(\"\\n\" + \"=\"*50)\n",
    "print(\"Основные статистики по числовым полям:\")\n",
    "print(\"=\"*50)\n",
    "stats = final_df[['revenue_rub', 'tickets_count', 'one_ticket_revenue_rub']].describe()\n",
    "display(stats)\n",
    "\n",
    "# 5. Проверка аномалий\n",
    "print(\"\\n\" + \"=\"*50)\n",
    "print(\"Проверка аномальных значений:\")\n",
    "print(\"=\"*50)\n",
    "print(f\"- Минимальная выручка: {final_df['revenue_rub'].min():.2f} руб. (возможен возврат билета)\")\n",
    "print(f\"- Максимальное количество билетов: {final_df['tickets_count'].max()} шт.\")\n",
    "print(f\"- Средняя цена билета: {final_df['one_ticket_revenue_rub'].mean():.2f} руб.\")\n",
    "\n",
    "# 6. Распределение по типам устройств\n",
    "print(\"\\n\" + \"=\"*50)\n",
    "print(\"Распределение по типам устройств:\")\n",
    "print(\"=\"*50)\n",
    "print(final_df['device_type_canonical'].value_counts(normalize=True).apply(lambda x: f\"{x:.1%}\"))"
   ]
  },
  {
   "cell_type": "markdown",
   "id": "4a568701",
   "metadata": {},
   "source": [
    "### 📌Промежуточные выводы - Предобработка данных, а также подготовка их к исследованию\n",
    "\n",
    "1. **Качество и полнота данных**\n",
    "- Полнота данных: *отличная*, пропуски только в `days_since_prev` - `21 940` записей, что ожидаемо для первых заказов.\n",
    "- Типы данных: *все корректны после преобразования*:\n",
    "    - Даты приведены к `datetime`.\n",
    "    - Числовые поля имеют правильные форматы.\n",
    "- Аномалии:\n",
    "    - Отрицательные значения в `revenue_rub`, минимальное `-90.76 руб.` - вероятно, возвраты билетов.\n",
    "    - Максимальное количество билетов в заказе: `6 шт.`, после обработки выбросов.\n",
    "\n",
    "➡️ **Решение: Пропуски в days_since_prev оставлены без изменений, так как они не влияют на анализ**.\n",
    "\n",
    "2. **Анализ категориальных значений**:\n",
    "- В заказах `orders`:\n",
    "    - currency_code:\n",
    "        - RUB: `99.05%`\n",
    "        - KZT: `0.95%`\n",
    "    - device_type_canonical:\n",
    "        - Мобильные: `80.1%`\n",
    "        - Десктоп: `19.9%`\n",
    "    - age_limit:\n",
    "        - 16+: `27.0%`\n",
    "        - 0+: `21.4%`\n",
    "        - 12+: `21.1%`\n",
    "        - 6+: `18.1%`\n",
    "        - 18+: `12.4%`\n",
    "\n",
    "- В мероприятиях `events`:\n",
    "    - event_type_main:\n",
    "        - Концерты: `38.7% (8 680)`\n",
    "        - Театр: `31.6% (7 076)`\n",
    "        - Другое: `20.8% (4 658)`\n",
    "        - Спорт: `3.9% (872)`\n",
    "    - Топ-3 региона:\n",
    "        - Каменевский: `26.7%`\n",
    "        - Североярская область: `17.0%`\n",
    "        - Широковская область: `5.5%`\n",
    "\n",
    "➡️ **Вывод: Данные чистые, преобразования не требуются**.\n",
    "\n",
    "3. **Обработка выбросов**:\n",
    "- Для **RUB**:\n",
    "    - Параметр `revenue`:\n",
    "        - Порог (99-й перцентиль): `2 569.59 руб`\n",
    "        - Удалено записей: `3 038 (1.06%)`\n",
    "    - Параметр `tickets_count`:\n",
    "        - Порог (99-й перцентиль): `6 шт`\n",
    "        - Удалено записей: `3 038 (1.06%)`\n",
    "\n",
    "- Для **KZT**:\n",
    "    - Параметр `revenue`:\n",
    "        - Порог (99-й перцентиль): `17 617.24 KZT`\n",
    "        - Удалено записей: `29 (0.57%)`\n",
    "    - Параметр `tickets_count`:\n",
    "        - Порог (99-й перцентиль): `6 шт`\n",
    "        - Удалено записей: `29 (0.57%)`\n",
    "        \n",
    "**Итого удалено**: `3 067 записей (1.05% данных)`.\n",
    "\n",
    "➡️ **Действие: Выбросы удалены отдельно по валюте. Это позволило сохранить логику анализа и избежать ошибок при сравнении масштабов валют**.\n",
    "\n",
    "4. **Проверка дубликатов**:\n",
    "- Явные дубликаты : 0 (все заказы уникальны по `order_id`).\n",
    "- Неявные дубликаты :\n",
    "    - Было найдено **85 571 неявных дубликатов (по полям: user_id, event_id, created_dt_msk, tickets_count, total)**.\n",
    "    - Удалены все дубликаты, оставив последнюю запись из каждой группы `keep='last'`.\n",
    "    \n",
    "➡️ **Решение: Дубликаты удалены, так как они могут быть результатами ошибок или повторных транзакций. Теперь данные полностью уникальны по ключевым полям**.\n",
    "\n",
    "5. **Конвертация валют**:\n",
    "    - Конвертировано `2 732 заказов в KZT (0.95%)`\n",
    "    - Средний курс: `0.1932 RUB/KZT`\n",
    "    - Пример: `518.10 KZT → 98.50 RUB`\n",
    "\n",
    "➡️ **Результат: Все значения теперь представлены в единой валюте — рублях.**.\n",
    "\n",
    "6. **Создание новых столбцов**:\n",
    "- `one_ticket_revenue_rub` - средняя выручка с одного билета.\n",
    "- Среднее значение - **194.54 руб**.\n",
    "- Максимальное значение **2 438.27 руб**.\n",
    "\n",
    "- `month` - месяц оформления заказа.\n",
    "- `season` - сезонность (лето, осень, зима, весна).\n",
    "\n",
    "➡️ **Данные охватывают июнь–октябрь 2024 (лето и осень)**.\n",
    "\n",
    "8. **Объединение данных**:\n",
    "\n",
    "- Исходные заказы\n",
    "    - Количество строк: `290 849`\n",
    "    - Процент от исходных: `100.00%`\n",
    "- После удаления выбросов\n",
    "    - Количество строк: `287 782`\n",
    "    - Процент от исходных: `99.05%` (удалено 3 067 строк, или -1.05%)\n",
    "\n",
    "- После удаления дубликатов\n",
    "    - Количество строк: `235 054`\n",
    "    - Процент от исходных: `80.82%` (удалено дополнительно 52 728 строк, или -18.23%)\n",
    "\n",
    "- После объединения с мероприятиями\n",
    "    - Количество строк: `235 054`\n",
    "    - Процент от исходных: `80.82%`\n",
    "\n",
    "- Тип объединения `left join` по `event_id`\n",
    "\n",
    "➡️ **Итоговый датафрейм `final_df` содержит 28 столбцов и 235 054 строк**."
   ]
  },
  {
   "cell_type": "markdown",
   "id": "429a4734",
   "metadata": {},
   "source": [
    "## Исследовательский анализ данных (EDA)\n",
    "\n",
    " ### Анализ распределения заказов по сегментам и их сезонные изменения\n",
    " \n",
    "     Необходимо проанализировать:\n",
    "\n",
    "    - Динамику числа заказов по месяцам\n",
    "    - Сезонное изменение долей заказов (лето vs осень) по типам мероприятий, устройствам и возрастным рейтингам\n",
    "    - Изменение средней стоимости билета по сезонам"
   ]
  },
  {
   "cell_type": "code",
   "execution_count": 17,
   "id": "21d49739",
   "metadata": {},
   "outputs": [
    {
     "data": {
      "image/png": "[encoded data removed]",
      "text/plain": [
       "<Figure size 720x360 with 1 Axes>"
      ]
     },
     "metadata": {},
     "output_type": "display_data"
    },
    {
     "data": {
      "text/html": [
       "<div>\n",
       "<style scoped>\n",
       "    .dataframe tbody tr th:only-of-type {\n",
       "        vertical-align: middle;\n",
       "    }\n",
       "\n",
       "    .dataframe tbody tr th {\n",
       "        vertical-align: top;\n",
       "    }\n",
       "\n",
       "    .dataframe thead th {\n",
       "        text-align: right;\n",
       "    }\n",
       "</style>\n",
       "<table border=\"1\" class=\"dataframe\">\n",
       "  <thead>\n",
       "    <tr style=\"text-align: right;\">\n",
       "      <th></th>\n",
       "      <th>month</th>\n",
       "      <th>orders_count</th>\n",
       "    </tr>\n",
       "  </thead>\n",
       "  <tbody>\n",
       "    <tr>\n",
       "      <th>0</th>\n",
       "      <td>6</td>\n",
       "      <td>29235</td>\n",
       "    </tr>\n",
       "    <tr>\n",
       "      <th>1</th>\n",
       "      <td>7</td>\n",
       "      <td>34070</td>\n",
       "    </tr>\n",
       "    <tr>\n",
       "      <th>2</th>\n",
       "      <td>8</td>\n",
       "      <td>37367</td>\n",
       "    </tr>\n",
       "    <tr>\n",
       "      <th>3</th>\n",
       "      <td>9</td>\n",
       "      <td>56136</td>\n",
       "    </tr>\n",
       "    <tr>\n",
       "      <th>4</th>\n",
       "      <td>10</td>\n",
       "      <td>78246</td>\n",
       "    </tr>\n",
       "  </tbody>\n",
       "</table>\n",
       "</div>"
      ],
      "text/plain": [
       "   month  orders_count\n",
       "0      6         29235\n",
       "1      7         34070\n",
       "2      8         37367\n",
       "3      9         56136\n",
       "4     10         78246"
      ]
     },
     "metadata": {},
     "output_type": "display_data"
    }
   ],
   "source": [
    "# Считаем заказы по месяцам\n",
    "monthly_orders = final_df.groupby('month')['order_id'].count().reset_index()\n",
    "monthly_orders.columns = ['month', 'orders_count']\n",
    "\n",
    "# Визуализация\n",
    "plt.figure(figsize=(10, 5))\n",
    "sns.lineplot(data=monthly_orders, x='month', y='orders_count', marker='o')\n",
    "plt.title('Динамика количества заказов по месяцам')\n",
    "plt.xlabel('Месяц')\n",
    "plt.ylabel('Количество заказов')\n",
    "plt.xticks(range(6, 11), ['Июнь', 'Июль', 'Август', 'Сентябрь', 'Октябрь'])\n",
    "plt.grid()\n",
    "plt.show()\n",
    "\n",
    "display(monthly_orders)"
   ]
  },
  {
   "cell_type": "code",
   "execution_count": 18,
   "id": "18bb69ca",
   "metadata": {
    "scrolled": false
   },
   "outputs": [
    {
     "data": {
      "image/png": "[encoded data removed]",
      "text/plain": [
       "<Figure size 1008x1296 with 3 Axes>"
      ]
     },
     "metadata": {},
     "output_type": "display_data"
    },
    {
     "name": "stdout",
     "output_type": "stream",
     "text": [
      "Доли по типам мероприятий:\n"
     ]
    },
    {
     "data": {
      "text/html": [
       "<style  type=\"text/css\" >\n",
       "</style><table id=\"T_f7ed5_\" ><thead>    <tr>        <th class=\"blank level0\" ></th>        <th class=\"col_heading level0 col0\" >Лето</th>        <th class=\"col_heading level0 col1\" >Осень</th>    </tr></thead><tbody>\n",
       "                <tr>\n",
       "                        <th id=\"T_f7ed5_level0_row0\" class=\"row_heading level0 row0\" >концерты</th>\n",
       "                        <td id=\"T_f7ed5_row0_col0\" class=\"data row0 col0\" >43.1%</td>\n",
       "                        <td id=\"T_f7ed5_row0_col1\" class=\"data row0 col1\" >38.7%</td>\n",
       "            </tr>\n",
       "            <tr>\n",
       "                        <th id=\"T_f7ed5_level0_row1\" class=\"row_heading level0 row1\" >театр</th>\n",
       "                        <td id=\"T_f7ed5_row1_col0\" class=\"data row1 col0\" >19.7%</td>\n",
       "                        <td id=\"T_f7ed5_row1_col1\" class=\"data row1 col1\" >25.7%</td>\n",
       "            </tr>\n",
       "            <tr>\n",
       "                        <th id=\"T_f7ed5_level0_row2\" class=\"row_heading level0 row2\" >другое</th>\n",
       "                        <td id=\"T_f7ed5_row2_col0\" class=\"data row2 col0\" >27.0%</td>\n",
       "                        <td id=\"T_f7ed5_row2_col1\" class=\"data row2 col1\" >20.7%</td>\n",
       "            </tr>\n",
       "            <tr>\n",
       "                        <th id=\"T_f7ed5_level0_row3\" class=\"row_heading level0 row3\" >стендап</th>\n",
       "                        <td id=\"T_f7ed5_row3_col0\" class=\"data row3 col0\" >5.5%</td>\n",
       "                        <td id=\"T_f7ed5_row3_col1\" class=\"data row3 col1\" >4.4%</td>\n",
       "            </tr>\n",
       "            <tr>\n",
       "                        <th id=\"T_f7ed5_level0_row4\" class=\"row_heading level0 row4\" >выставки</th>\n",
       "                        <td id=\"T_f7ed5_row4_col0\" class=\"data row4 col0\" >2.1%</td>\n",
       "                        <td id=\"T_f7ed5_row4_col1\" class=\"data row4 col1\" >1.6%</td>\n",
       "            </tr>\n",
       "            <tr>\n",
       "                        <th id=\"T_f7ed5_level0_row5\" class=\"row_heading level0 row5\" >спорт</th>\n",
       "                        <td id=\"T_f7ed5_row5_col0\" class=\"data row5 col0\" >2.2%</td>\n",
       "                        <td id=\"T_f7ed5_row5_col1\" class=\"data row5 col1\" >7.9%</td>\n",
       "            </tr>\n",
       "            <tr>\n",
       "                        <th id=\"T_f7ed5_level0_row6\" class=\"row_heading level0 row6\" >ёлки</th>\n",
       "                        <td id=\"T_f7ed5_row6_col0\" class=\"data row6 col0\" >0.2%</td>\n",
       "                        <td id=\"T_f7ed5_row6_col1\" class=\"data row6 col1\" >1.0%</td>\n",
       "            </tr>\n",
       "    </tbody></table>"
      ],
      "text/plain": [
       "<pandas.io.formats.style.Styler at 0x7fa8b33a6280>"
      ]
     },
     "metadata": {},
     "output_type": "display_data"
    },
    {
     "name": "stdout",
     "output_type": "stream",
     "text": [
      "\n",
      "Доли по типам устройств:\n"
     ]
    },
    {
     "data": {
      "text/html": [
       "<style  type=\"text/css\" >\n",
       "</style><table id=\"T_3b3bf_\" ><thead>    <tr>        <th class=\"index_name level0\" >device_type_canonical</th>        <th class=\"col_heading level0 col0\" >Десктоп</th>        <th class=\"col_heading level0 col1\" >Мобильные</th>    </tr>    <tr>        <th class=\"index_name level0\" >season</th>        <th class=\"blank\" ></th>        <th class=\"blank\" ></th>    </tr></thead><tbody>\n",
       "                <tr>\n",
       "                        <th id=\"T_3b3bf_level0_row0\" class=\"row_heading level0 row0\" >лето</th>\n",
       "                        <td id=\"T_3b3bf_row0_col0\" class=\"data row0 col0\" >18.9%</td>\n",
       "                        <td id=\"T_3b3bf_row0_col1\" class=\"data row0 col1\" >81.1%</td>\n",
       "            </tr>\n",
       "            <tr>\n",
       "                        <th id=\"T_3b3bf_level0_row1\" class=\"row_heading level0 row1\" >осень</th>\n",
       "                        <td id=\"T_3b3bf_row1_col0\" class=\"data row1 col0\" >18.8%</td>\n",
       "                        <td id=\"T_3b3bf_row1_col1\" class=\"data row1 col1\" >81.2%</td>\n",
       "            </tr>\n",
       "    </tbody></table>"
      ],
      "text/plain": [
       "<pandas.io.formats.style.Styler at 0x7fa8b33928b0>"
      ]
     },
     "metadata": {},
     "output_type": "display_data"
    },
    {
     "name": "stdout",
     "output_type": "stream",
     "text": [
      "\n",
      "Доли по возрастным рейтингам:\n"
     ]
    },
    {
     "data": {
      "text/html": [
       "<style  type=\"text/css\" >\n",
       "</style><table id=\"T_19118_\" ><thead>    <tr>        <th class=\"index_name level0\" >age_limit</th>        <th class=\"col_heading level0 col0\" >0+</th>        <th class=\"col_heading level0 col1\" >6+</th>        <th class=\"col_heading level0 col2\" >12+</th>        <th class=\"col_heading level0 col3\" >16+</th>        <th class=\"col_heading level0 col4\" >18+</th>    </tr>    <tr>        <th class=\"index_name level0\" >season</th>        <th class=\"blank\" ></th>        <th class=\"blank\" ></th>        <th class=\"blank\" ></th>        <th class=\"blank\" ></th>        <th class=\"blank\" ></th>    </tr></thead><tbody>\n",
       "                <tr>\n",
       "                        <th id=\"T_19118_level0_row0\" class=\"row_heading level0 row0\" >лето</th>\n",
       "                        <td id=\"T_19118_row0_col0\" class=\"data row0 col0\" >17.9%</td>\n",
       "                        <td id=\"T_19118_row0_col1\" class=\"data row0 col1\" >18.1%</td>\n",
       "                        <td id=\"T_19118_row0_col2\" class=\"data row0 col2\" >20.4%</td>\n",
       "                        <td id=\"T_19118_row0_col3\" class=\"data row0 col3\" >28.5%</td>\n",
       "                        <td id=\"T_19118_row0_col4\" class=\"data row0 col4\" >15.1%</td>\n",
       "            </tr>\n",
       "            <tr>\n",
       "                        <th id=\"T_19118_level0_row1\" class=\"row_heading level0 row1\" >осень</th>\n",
       "                        <td id=\"T_19118_row1_col0\" class=\"data row1 col0\" >20.9%</td>\n",
       "                        <td id=\"T_19118_row1_col1\" class=\"data row1 col1\" >18.6%</td>\n",
       "                        <td id=\"T_19118_row1_col2\" class=\"data row1 col2\" >22.8%</td>\n",
       "                        <td id=\"T_19118_row1_col3\" class=\"data row1 col3\" >26.6%</td>\n",
       "                        <td id=\"T_19118_row1_col4\" class=\"data row1 col4\" >11.2%</td>\n",
       "            </tr>\n",
       "    </tbody></table>"
      ],
      "text/plain": [
       "<pandas.io.formats.style.Styler at 0x7fa8b33a6160>"
      ]
     },
     "metadata": {},
     "output_type": "display_data"
    }
   ],
   "source": [
    "# Создаем summer_data и autumn_data\n",
    "summer_data = final_df[final_df['season'] == 'лето']\n",
    "autumn_data = final_df[final_df['season'] == 'осень']\n",
    "\n",
    "# Анализ по типам мероприятий\n",
    "event_types = ['концерты', 'театр', 'другое', 'стендап', 'выставки', 'спорт', 'ёлки']\n",
    "\n",
    "summer_event_shares = (summer_data['event_type_main']\n",
    "                      .value_counts(normalize=True)\n",
    "                      .reindex(event_types, fill_value=0))\n",
    "\n",
    "autumn_event_shares = (autumn_data['event_type_main']\n",
    "                      .value_counts(normalize=True)\n",
    "                      .reindex(event_types, fill_value=0))\n",
    "\n",
    "event_comparison = pd.DataFrame({\n",
    "    'Лето': summer_event_shares,\n",
    "    'Осень': autumn_event_shares\n",
    "})\n",
    "\n",
    "# Анализ по устройствам\n",
    "device_comparison = pd.crosstab(\n",
    "    index=final_df['season'],\n",
    "    columns=final_df['device_type_canonical'],\n",
    "    normalize='index'\n",
    ").rename(columns={'mobile': 'Мобильные', 'desktop': 'Десктоп'})\n",
    "\n",
    "# Анализ по возрастным рейтингам\n",
    "age_comparison = pd.crosstab(\n",
    "    index=final_df['season'],\n",
    "    columns=final_df['age_limit'],\n",
    "    normalize='index'\n",
    ").rename(columns={\n",
    "    0: '0+',\n",
    "    6: '6+', \n",
    "    12: '12+',\n",
    "    16: '16+',\n",
    "    18: '18+'\n",
    "})\n",
    "\n",
    "# Визуализация\n",
    "fig, axes = plt.subplots(3, 1, figsize=(14, 18))\n",
    "\n",
    "# График по типам мероприятий\n",
    "event_comparison.plot(kind='bar', ax=axes[0], rot=0)\n",
    "axes[0].set_title('Распределение заказов по типам мероприятий')\n",
    "axes[0].set_ylabel('Доля заказов')\n",
    "axes[0].grid(axis='y')\n",
    "\n",
    "# График по устройствам\n",
    "device_comparison.plot(kind='bar', ax=axes[1], rot=0)\n",
    "axes[1].set_title('Распределение заказов по типам устройств')\n",
    "axes[1].set_ylabel('Доля заказов')\n",
    "axes[1].grid(axis='y')\n",
    "\n",
    "# График по возрастным рейтингам\n",
    "age_comparison.plot(kind='bar', ax=axes[2], rot=0)\n",
    "axes[2].set_title('Распределение заказов по возрастным рейтингам')\n",
    "axes[2].set_ylabel('Доля заказов')\n",
    "axes[2].grid(axis='y')\n",
    "\n",
    "plt.tight_layout()\n",
    "plt.show()\n",
    "\n",
    "# Вывод таблиц\n",
    "print(\"Доли по типам мероприятий:\")\n",
    "display(event_comparison.style.format('{:.1%}'))\n",
    "\n",
    "print(\"\\nДоли по типам устройств:\")\n",
    "display(device_comparison.style.format('{:.1%}'))\n",
    "\n",
    "print(\"\\nДоли по возрастным рейтингам:\")\n",
    "display(age_comparison.style.format('{:.1%}'))"
   ]
  },
  {
   "cell_type": "code",
   "execution_count": 19,
   "id": "1c82e5cd",
   "metadata": {},
   "outputs": [
    {
     "data": {
      "image/png": "[encoded data removed]",
      "text/plain": [
       "<Figure size 1008x576 with 2 Axes>"
      ]
     },
     "metadata": {},
     "output_type": "display_data"
    },
    {
     "data": {
      "text/html": [
       "<style  type=\"text/css\" >\n",
       "</style><table id=\"T_16cc9_\" ><thead>    <tr>        <th class=\"index_name level0\" >season</th>        <th class=\"col_heading level0 col0\" >лето</th>        <th class=\"col_heading level0 col1\" >осень</th>        <th class=\"col_heading level0 col2\" >absolute_change</th>        <th class=\"col_heading level0 col3\" >relative_change</th>    </tr>    <tr>        <th class=\"index_name level0\" >event_type_main</th>        <th class=\"blank\" ></th>        <th class=\"blank\" ></th>        <th class=\"blank\" ></th>        <th class=\"blank\" ></th>    </tr></thead><tbody>\n",
       "                <tr>\n",
       "                        <th id=\"T_16cc9_level0_row0\" class=\"row_heading level0 row0\" >стендап</th>\n",
       "                        <td id=\"T_16cc9_row0_col0\" class=\"data row0 col0\" >216.6 руб</td>\n",
       "                        <td id=\"T_16cc9_row0_col1\" class=\"data row0 col1\" >231.3 руб</td>\n",
       "                        <td id=\"T_16cc9_row0_col2\" class=\"data row0 col2\" >14.7 руб</td>\n",
       "                        <td id=\"T_16cc9_row0_col3\" class=\"data row0 col3\" >6.8%</td>\n",
       "            </tr>\n",
       "            <tr>\n",
       "                        <th id=\"T_16cc9_level0_row1\" class=\"row_heading level0 row1\" >выставки</th>\n",
       "                        <td id=\"T_16cc9_row1_col0\" class=\"data row1 col0\" >86.7 руб</td>\n",
       "                        <td id=\"T_16cc9_row1_col1\" class=\"data row1 col1\" >89.8 руб</td>\n",
       "                        <td id=\"T_16cc9_row1_col2\" class=\"data row1 col2\" >3.1 руб</td>\n",
       "                        <td id=\"T_16cc9_row1_col3\" class=\"data row1 col3\" >3.6%</td>\n",
       "            </tr>\n",
       "            <tr>\n",
       "                        <th id=\"T_16cc9_level0_row2\" class=\"row_heading level0 row2\" >спорт</th>\n",
       "                        <td id=\"T_16cc9_row2_col0\" class=\"data row2 col0\" >55.7 руб</td>\n",
       "                        <td id=\"T_16cc9_row2_col1\" class=\"data row2 col1\" >56.0 руб</td>\n",
       "                        <td id=\"T_16cc9_row2_col2\" class=\"data row2 col2\" >0.4 руб</td>\n",
       "                        <td id=\"T_16cc9_row2_col3\" class=\"data row2 col3\" >0.7%</td>\n",
       "            </tr>\n",
       "            <tr>\n",
       "                        <th id=\"T_16cc9_level0_row3\" class=\"row_heading level0 row3\" >другое</th>\n",
       "                        <td id=\"T_16cc9_row3_col0\" class=\"data row3 col0\" >78.6 руб</td>\n",
       "                        <td id=\"T_16cc9_row3_col1\" class=\"data row3 col1\" >77.7 руб</td>\n",
       "                        <td id=\"T_16cc9_row3_col2\" class=\"data row3 col2\" >-1.0 руб</td>\n",
       "                        <td id=\"T_16cc9_row3_col3\" class=\"data row3 col3\" >-1.3%</td>\n",
       "            </tr>\n",
       "            <tr>\n",
       "                        <th id=\"T_16cc9_level0_row4\" class=\"row_heading level0 row4\" >концерты</th>\n",
       "                        <td id=\"T_16cc9_row4_col0\" class=\"data row4 col0\" >298.6 руб</td>\n",
       "                        <td id=\"T_16cc9_row4_col1\" class=\"data row4 col1\" >271.4 руб</td>\n",
       "                        <td id=\"T_16cc9_row4_col2\" class=\"data row4 col2\" >-27.2 руб</td>\n",
       "                        <td id=\"T_16cc9_row4_col3\" class=\"data row4 col3\" >-9.1%</td>\n",
       "            </tr>\n",
       "            <tr>\n",
       "                        <th id=\"T_16cc9_level0_row5\" class=\"row_heading level0 row5\" >ёлки</th>\n",
       "                        <td id=\"T_16cc9_row5_col0\" class=\"data row5 col0\" >274.3 руб</td>\n",
       "                        <td id=\"T_16cc9_row5_col1\" class=\"data row5 col1\" >231.7 руб</td>\n",
       "                        <td id=\"T_16cc9_row5_col2\" class=\"data row5 col2\" >-42.6 руб</td>\n",
       "                        <td id=\"T_16cc9_row5_col3\" class=\"data row5 col3\" >-15.5%</td>\n",
       "            </tr>\n",
       "            <tr>\n",
       "                        <th id=\"T_16cc9_level0_row6\" class=\"row_heading level0 row6\" >театр</th>\n",
       "                        <td id=\"T_16cc9_row6_col0\" class=\"data row6 col0\" >213.8 руб</td>\n",
       "                        <td id=\"T_16cc9_row6_col1\" class=\"data row6 col1\" >176.1 руб</td>\n",
       "                        <td id=\"T_16cc9_row6_col2\" class=\"data row6 col2\" >-37.7 руб</td>\n",
       "                        <td id=\"T_16cc9_row6_col3\" class=\"data row6 col3\" >-17.6%</td>\n",
       "            </tr>\n",
       "    </tbody></table>"
      ],
      "text/plain": [
       "<pandas.io.formats.style.Styler at 0x7fa8b315aca0>"
      ]
     },
     "metadata": {},
     "output_type": "display_data"
    }
   ],
   "source": [
    "# Группируем данные по типу мероприятия и сезону, считаем среднюю стоимость билета\n",
    "ticket_price_by_type_season = final_df.groupby(['event_type_main', 'season'])['one_ticket_revenue_rub'].mean().unstack()\n",
    "\n",
    "# Рассчитываем абсолютное и относительное изменение\n",
    "ticket_price_by_type_season['absolute_change'] = ticket_price_by_type_season['осень'] - ticket_price_by_type_season['лето']\n",
    "ticket_price_by_type_season['relative_change'] = (ticket_price_by_type_season['осень'] / ticket_price_by_type_season['лето'] - 1) * 100\n",
    "\n",
    "# Сортируем по величине относительного изменения\n",
    "ticket_price_by_type_season = ticket_price_by_type_season.sort_values('relative_change', ascending=False)\n",
    "\n",
    "plt.figure(figsize=(14, 8))\n",
    "\n",
    "# График средней стоимости билета\n",
    "plt.subplot(2, 1, 1)\n",
    "sns.barplot(\n",
    "    data=ticket_price_by_type_season.reset_index().melt(id_vars='event_type_main', \n",
    "                                                      value_vars=['лето', 'осень'],\n",
    "                                                      var_name='season',\n",
    "                                                      value_name='avg_price'),\n",
    "    x='event_type_main',\n",
    "    y='avg_price',\n",
    "    hue='season',\n",
    "    palette=['#FFA07A', '#87CEFA']\n",
    ")\n",
    "plt.title('Средняя стоимость билета по типам мероприятий')\n",
    "plt.ylabel('Средняя стоимость (руб)')\n",
    "plt.xlabel('Тип мероприятия')\n",
    "plt.xticks(rotation=45)\n",
    "plt.grid(axis='y')\n",
    "\n",
    "# График относительного изменения\n",
    "plt.subplot(2, 1, 2)\n",
    "sns.barplot(\n",
    "    data=ticket_price_by_type_season.reset_index(),\n",
    "    x='event_type_main',\n",
    "    y='relative_change',\n",
    "    palette='coolwarm'\n",
    ")\n",
    "plt.title('Относительное изменение стоимости билета осенью\\nпо сравнению с летом (%)')\n",
    "plt.ylabel('Изменение (%)')\n",
    "plt.xlabel('Тип мероприятия')\n",
    "plt.xticks(rotation=45)\n",
    "plt.axhline(0, color='black', linestyle='--')\n",
    "plt.grid(axis='y')\n",
    "\n",
    "plt.tight_layout()\n",
    "plt.show()\n",
    "\n",
    "# Выводим таблицу с результатами\n",
    "display(ticket_price_by_type_season.style.format({\n",
    "    'лето': '{:.1f} руб',\n",
    "    'осень': '{:.1f} руб',\n",
    "    'absolute_change': '{:.1f} руб',\n",
    "    'relative_change': '{:.1f}%'\n",
    "}))"
   ]
  },
  {
   "cell_type": "markdown",
   "id": "1af4d835",
   "metadata": {},
   "source": [
    "### 📌 Промежуточные выводы - Анализ распределения заказов по сегментам и их сезонные изменения\n",
    "\n",
    "1. Динамика числа заказов по месяцам:\n",
    "**Общая динамика: Заказы демонстрируют устойчивый рост с июня по октябрь**.\n",
    "- Лето (июнь–август):\n",
    "    - Июнь: `29 235 заказов`.\n",
    "    - Июль: `34 070 заказов` (+16.5%).\n",
    "    - Август: `37 367 заказов` (+9.7% к июлю).\n",
    "- Осень (сентябрь–октябрь):\n",
    "    - Сентябрь: `56 136 заказов` (+50.4% к августу).\n",
    "    - Октябрь: `78 246 заказов` (+39.4% к сентябрю).\n",
    "    \n",
    "➡️ **Заключение: Осенний период характеризуется значительным ростом числа заказов по сравнению с летними месяцами**.\n",
    "\n",
    "2. Распределение заказов по сегментам:\n",
    "**A. По типам мероприятий**:\n",
    "- Концерты остаются самой популярной категорией `43.1%`, но их доля осенью снизилась на `4.4` п.п. При этом заметно вырос спрос на театральные постановки `+6` п.п. и спортивные мероприятия `5.7` п.п. \n",
    "\n",
    "➡️ **Заключение: Осенний рост спроса сопровождается изменением структуры предпочтений - смещением в сторону семейных и массовых мероприятий**.\n",
    "\n",
    "**B. По типам устройств**:\n",
    "- Мобильные устройства сохраняют доминирующую позицию - около `81%` всех заказов. \n",
    "- Изменений в структуре использования устройств практически нет — доля мобильных немного выросла, десктоп немного снизился `-0.1` п.п.\n",
    "\n",
    "➡️ **Заключение: Изменений в структуре использования устройств практически нет — доля мобильных немного выросла, десктоп немного снизился**.\n",
    "\n",
    "**C. По возрастным рейтингам**:\n",
    "- 0+ -> `+3` п.п.\n",
    "- 6+ -> `+0.5` п.п.\n",
    "- 12+  -> `+2.4` п.п.\n",
    "- 16+  -> `-1.9` п.п.\n",
    "- 18+ -> `-3.9` п.п.\n",
    "\n",
    "➡️ **Заключение: В осенние месяцы наблюдается рост доли заказов на мероприятия для детей и подростков (0+, 6+, 12+), тогда как доля \"взрослых\" категорий (16+, 18+) снизилась.\n",
    "Это может говорить о том, что осенью сервис пользуется большей популярностью среди семейной аудитории**.\n",
    "\n",
    "3. Динамика стоимости билетов:\n",
    "**ТОП-3 роста цены**:\n",
    "1. Стендап: `+6.8% (+14.7 руб)`.\n",
    "2. Выставки: `+3.6% (+3.1 руб)`.\n",
    "3. Спорт: `+0.7% (+0.4 руб)`.\n",
    "\n",
    "**ТОП-3 снижения цены**:\n",
    "1. Концерты: `-9.1% (-27.2 руб)`.\n",
    "2. Ёлки: `-15.5% (-42.6 руб)`.\n",
    "3. Театр: `-17.6% (-37.7 руб)`.\n",
    "\n",
    "➡️ **Заключение**: \n",
    "- Цены различаются по категориям:\n",
    "    - В осенние месяцы выросли цены на стендапы и выставки.\n",
    "    - Сильно снизились цены на театральные представления `-17.6%` и ёлки `-15.5%`.\n",
    "    \n",
    "**Это может быть связано как с изменением спроса, так и с акциями/скидками, проводимыми на определённые категории**."
   ]
  },
  {
   "cell_type": "markdown",
   "id": "8336f777",
   "metadata": {},
   "source": [
    "### Осенняя активность пользователей\n",
    "\n",
    "    Необходимо проанализировать:\n",
    "\n",
    "    - Динамику изменений по дням для:\n",
    "        - общего числа заказов;\n",
    "        - количества активных пользователей DAU;\n",
    "        - среднего числа заказов на одного пользователя;\n",
    "        - средней стоимости одного билета.\n",
    "    - Недельную цикличность"
   ]
  },
  {
   "cell_type": "code",
   "execution_count": 20,
   "id": "7fb248af",
   "metadata": {},
   "outputs": [
    {
     "data": {
      "image/png": "[encoded data removed]",
      "text/plain": [
       "<Figure size 1152x864 with 4 Axes>"
      ]
     },
     "metadata": {},
     "output_type": "display_data"
    },
    {
     "name": "stdout",
     "output_type": "stream",
     "text": [
      "Ежедневная статистика за осень 2024:\n"
     ]
    },
    {
     "data": {
      "text/html": [
       "<div>\n",
       "<style scoped>\n",
       "    .dataframe tbody tr th:only-of-type {\n",
       "        vertical-align: middle;\n",
       "    }\n",
       "\n",
       "    .dataframe tbody tr th {\n",
       "        vertical-align: top;\n",
       "    }\n",
       "\n",
       "    .dataframe thead th {\n",
       "        text-align: right;\n",
       "    }\n",
       "</style>\n",
       "<table border=\"1\" class=\"dataframe\">\n",
       "  <thead>\n",
       "    <tr style=\"text-align: right;\">\n",
       "      <th></th>\n",
       "      <th>total_orders</th>\n",
       "      <th>unique_users</th>\n",
       "      <th>avg_ticket_price</th>\n",
       "      <th>orders_per_user</th>\n",
       "    </tr>\n",
       "    <tr>\n",
       "      <th>created_dt_msk</th>\n",
       "      <th></th>\n",
       "      <th></th>\n",
       "      <th></th>\n",
       "      <th></th>\n",
       "    </tr>\n",
       "  </thead>\n",
       "  <tbody>\n",
       "    <tr>\n",
       "      <th>2024-09-01</th>\n",
       "      <td>1108</td>\n",
       "      <td>564</td>\n",
       "      <td>201.015003</td>\n",
       "      <td>1.964539</td>\n",
       "    </tr>\n",
       "    <tr>\n",
       "      <th>2024-09-02</th>\n",
       "      <td>1173</td>\n",
       "      <td>574</td>\n",
       "      <td>188.608160</td>\n",
       "      <td>2.043554</td>\n",
       "    </tr>\n",
       "    <tr>\n",
       "      <th>2024-09-03</th>\n",
       "      <td>2379</td>\n",
       "      <td>778</td>\n",
       "      <td>115.672608</td>\n",
       "      <td>3.057841</td>\n",
       "    </tr>\n",
       "    <tr>\n",
       "      <th>2024-09-04</th>\n",
       "      <td>1450</td>\n",
       "      <td>684</td>\n",
       "      <td>180.085765</td>\n",
       "      <td>2.119883</td>\n",
       "    </tr>\n",
       "    <tr>\n",
       "      <th>2024-09-05</th>\n",
       "      <td>1658</td>\n",
       "      <td>739</td>\n",
       "      <td>192.235780</td>\n",
       "      <td>2.243572</td>\n",
       "    </tr>\n",
       "  </tbody>\n",
       "</table>\n",
       "</div>"
      ],
      "text/plain": [
       "                total_orders  unique_users  avg_ticket_price  orders_per_user\n",
       "created_dt_msk                                                               \n",
       "2024-09-01              1108           564        201.015003         1.964539\n",
       "2024-09-02              1173           574        188.608160         2.043554\n",
       "2024-09-03              2379           778        115.672608         3.057841\n",
       "2024-09-04              1450           684        180.085765         2.119883\n",
       "2024-09-05              1658           739        192.235780         2.243572"
      ]
     },
     "metadata": {},
     "output_type": "display_data"
    },
    {
     "name": "stdout",
     "output_type": "stream",
     "text": [
      "Среднее число заказов в день: 2203\n",
      "Максимальное число заказов: 3608 (01.10)\n",
      "Минимальное число заказов: 1108\n",
      "\n",
      "Среднее DAU: 923\n",
      "Максимальное DAU: 1272\n"
     ]
    }
   ],
   "source": [
    "# Фильтруем данные только за осенние месяцы (сентябрь и октябрь)\n",
    "autumn_data = final_df[final_df['season'] == 'осень'].copy()\n",
    "\n",
    "# Создаем сводную таблицу с ежедневной статистикой\n",
    "daily_stats = autumn_data.groupby('created_dt_msk').agg({\n",
    "    'order_id': 'count',  # общее число заказов\n",
    "    'user_id': 'nunique',  # количество уникальных пользователей (DAU)\n",
    "    'one_ticket_revenue_rub': 'mean'  # средняя стоимость билета\n",
    "}).rename(columns={\n",
    "    'order_id': 'total_orders',\n",
    "    'user_id': 'unique_users',\n",
    "    'one_ticket_revenue_rub': 'avg_ticket_price'\n",
    "})\n",
    "\n",
    "# Добавляем расчет среднего числа зNs аказов на пользователя\n",
    "daily_stats['orders_per_user'] = daily_stats['total_orders'] / daily_stats['unique_users']\n",
    "\n",
    "# Визуализация динамики по дням с улучшениями\n",
    "plt.figure(figsize=(16, 12))\n",
    "\n",
    "# Настройка общего стиля графиков\n",
    "sns.set_style(\"whitegrid\")\n",
    "plt.rcParams['font.size'] = 12\n",
    "\n",
    "# 1. График общего числа заказов\n",
    "plt.subplot(2, 2, 1)\n",
    "sns.lineplot(data=daily_stats, x=daily_stats.index, y='total_orders', \n",
    "             color='royalblue', linewidth=2)\n",
    "plt.title('Общее число заказов по дням', pad=20, fontsize=14)\n",
    "plt.xlabel('Дата', labelpad=10)\n",
    "plt.ylabel('Количество заказов', labelpad=10)\n",
    "plt.xticks(rotation=45)  # Наклон подписей дат\n",
    "plt.grid(alpha=0.3)\n",
    "\n",
    "# 2. График DAU (уникальных пользователей)\n",
    "plt.subplot(2, 2, 2)\n",
    "sns.lineplot(data=daily_stats, x=daily_stats.index, y='unique_users', \n",
    "             color='green', linewidth=2)\n",
    "plt.title('Количество уникальных пользователей (DAU)', pad=20, fontsize=14)\n",
    "plt.xlabel('Дата', labelpad=10)\n",
    "plt.ylabel('Количество пользователей', labelpad=10)\n",
    "plt.xticks(rotation=45)\n",
    "plt.grid(alpha=0.3)\n",
    "\n",
    "# 3. График среднего числа заказов на пользователя\n",
    "plt.subplot(2, 2, 3)\n",
    "sns.lineplot(data=daily_stats, x=daily_stats.index, y='orders_per_user', \n",
    "             color='purple', linewidth=2)\n",
    "plt.title('Среднее число заказов на пользователя', pad=20, fontsize=14)\n",
    "plt.xlabel('Дата', labelpad=10)\n",
    "plt.ylabel('Заказов на пользователя', labelpad=10)\n",
    "plt.xticks(rotation=45)\n",
    "plt.grid(alpha=0.3)\n",
    "\n",
    "# 4. График средней стоимости билета\n",
    "plt.subplot(2, 2, 4)\n",
    "sns.lineplot(data=daily_stats, x=daily_stats.index, y='avg_ticket_price', \n",
    "             color='coral', linewidth=2)\n",
    "plt.title('Средняя стоимость билета', pad=20, fontsize=14)\n",
    "plt.xlabel('Дата', labelpad=10)\n",
    "plt.ylabel('Стоимость (руб)', labelpad=10)\n",
    "plt.xticks(rotation=45)\n",
    "plt.grid(alpha=0.3)\n",
    "\n",
    "# Улучшаем расположение элементов\n",
    "plt.tight_layout(pad=3.0)\n",
    "plt.show()\n",
    "\n",
    "# Выводим сводную таблицу\n",
    "print(\"Ежедневная статистика за осень 2024:\")\n",
    "display(daily_stats.head())\n",
    "print(f\"Среднее число заказов в день: {daily_stats['total_orders'].mean():.0f}\")\n",
    "print(f\"Максимальное число заказов: {daily_stats['total_orders'].max()} ({daily_stats['total_orders'].idxmax().strftime('%d.%m')})\")\n",
    "print(f\"Минимальное число заказов: {daily_stats['total_orders'].min()}\")\n",
    "print(f\"\\nСреднее DAU: {daily_stats['unique_users'].mean():.0f}\")\n",
    "print(f\"Максимальное DAU: {daily_stats['unique_users'].max()}\")"
   ]
  },
  {
   "cell_type": "code",
   "execution_count": 21,
   "id": "a145a052",
   "metadata": {},
   "outputs": [
    {
     "data": {
      "image/png": "[encoded data removed]",
      "text/plain": [
       "<Figure size 1008x720 with 4 Axes>"
      ]
     },
     "metadata": {},
     "output_type": "display_data"
    },
    {
     "name": "stdout",
     "output_type": "stream",
     "text": [
      "Статистика по дням недели:\n"
     ]
    },
    {
     "data": {
      "text/html": [
       "<div>\n",
       "<style scoped>\n",
       "    .dataframe tbody tr th:only-of-type {\n",
       "        vertical-align: middle;\n",
       "    }\n",
       "\n",
       "    .dataframe tbody tr th {\n",
       "        vertical-align: top;\n",
       "    }\n",
       "\n",
       "    .dataframe thead th {\n",
       "        text-align: right;\n",
       "    }\n",
       "</style>\n",
       "<table border=\"1\" class=\"dataframe\">\n",
       "  <thead>\n",
       "    <tr style=\"text-align: right;\">\n",
       "      <th></th>\n",
       "      <th>weekday</th>\n",
       "      <th>day_name</th>\n",
       "      <th>total_orders</th>\n",
       "      <th>unique_users</th>\n",
       "      <th>avg_ticket_price</th>\n",
       "      <th>is_weekend</th>\n",
       "    </tr>\n",
       "  </thead>\n",
       "  <tbody>\n",
       "    <tr>\n",
       "      <th>0</th>\n",
       "      <td>0</td>\n",
       "      <td>Monday</td>\n",
       "      <td>17877</td>\n",
       "      <td>4446</td>\n",
       "      <td>186.660136</td>\n",
       "      <td>False</td>\n",
       "    </tr>\n",
       "    <tr>\n",
       "      <th>1</th>\n",
       "      <td>1</td>\n",
       "      <td>Tuesday</td>\n",
       "      <td>21535</td>\n",
       "      <td>4793</td>\n",
       "      <td>164.764290</td>\n",
       "      <td>False</td>\n",
       "    </tr>\n",
       "    <tr>\n",
       "      <th>2</th>\n",
       "      <td>2</td>\n",
       "      <td>Wednesday</td>\n",
       "      <td>19257</td>\n",
       "      <td>4811</td>\n",
       "      <td>186.742727</td>\n",
       "      <td>False</td>\n",
       "    </tr>\n",
       "    <tr>\n",
       "      <th>3</th>\n",
       "      <td>3</td>\n",
       "      <td>Thursday</td>\n",
       "      <td>21245</td>\n",
       "      <td>4969</td>\n",
       "      <td>183.039365</td>\n",
       "      <td>False</td>\n",
       "    </tr>\n",
       "    <tr>\n",
       "      <th>4</th>\n",
       "      <td>4</td>\n",
       "      <td>Friday</td>\n",
       "      <td>20121</td>\n",
       "      <td>4869</td>\n",
       "      <td>186.994263</td>\n",
       "      <td>False</td>\n",
       "    </tr>\n",
       "    <tr>\n",
       "      <th>5</th>\n",
       "      <td>5</td>\n",
       "      <td>Saturday</td>\n",
       "      <td>17827</td>\n",
       "      <td>4569</td>\n",
       "      <td>193.215103</td>\n",
       "      <td>True</td>\n",
       "    </tr>\n",
       "    <tr>\n",
       "      <th>6</th>\n",
       "      <td>6</td>\n",
       "      <td>Sunday</td>\n",
       "      <td>16520</td>\n",
       "      <td>4392</td>\n",
       "      <td>197.029634</td>\n",
       "      <td>True</td>\n",
       "    </tr>\n",
       "  </tbody>\n",
       "</table>\n",
       "</div>"
      ],
      "text/plain": [
       "   weekday   day_name  total_orders  unique_users  avg_ticket_price  \\\n",
       "0        0     Monday         17877          4446        186.660136   \n",
       "1        1    Tuesday         21535          4793        164.764290   \n",
       "2        2  Wednesday         19257          4811        186.742727   \n",
       "3        3   Thursday         21245          4969        183.039365   \n",
       "4        4     Friday         20121          4869        186.994263   \n",
       "5        5   Saturday         17827          4569        193.215103   \n",
       "6        6     Sunday         16520          4392        197.029634   \n",
       "\n",
       "   is_weekend  \n",
       "0       False  \n",
       "1       False  \n",
       "2       False  \n",
       "3       False  \n",
       "4       False  \n",
       "5        True  \n",
       "6        True  "
      ]
     },
     "metadata": {},
     "output_type": "display_data"
    },
    {
     "name": "stdout",
     "output_type": "stream",
     "text": [
      "\n",
      "Сравнение будней и выходных:\n",
      "Будни:\n"
     ]
    },
    {
     "data": {
      "text/plain": [
       "weekday                 2.000000\n",
       "total_orders        20007.000000\n",
       "unique_users         4777.600000\n",
       "avg_ticket_price      181.640156\n",
       "is_weekend              0.000000\n",
       "dtype: float64"
      ]
     },
     "metadata": {},
     "output_type": "display_data"
    },
    {
     "name": "stdout",
     "output_type": "stream",
     "text": [
      "\n",
      "Выходные:\n"
     ]
    },
    {
     "data": {
      "text/plain": [
       "weekday                 5.500000\n",
       "total_orders        17173.500000\n",
       "unique_users         4480.500000\n",
       "avg_ticket_price      195.122369\n",
       "is_weekend              1.000000\n",
       "dtype: float64"
      ]
     },
     "metadata": {},
     "output_type": "display_data"
    }
   ],
   "source": [
    "# Фильтруем данные только за осень (сентябрь-октябрь)\n",
    "autumn_data = final_df[final_df['season'] == 'осень'].copy()\n",
    "\n",
    "# Создаем таблицу weekday_stats только для осени\n",
    "weekday_stats = autumn_data.groupby([\n",
    "    autumn_data['created_dt_msk'].dt.weekday.rename('weekday_num'),  \n",
    "    autumn_data['created_dt_msk'].dt.day_name().rename('day_name')  \n",
    "]).agg({\n",
    "    'order_id': 'count',\n",
    "    'user_id': 'nunique',\n",
    "    'one_ticket_revenue_rub': 'mean'\n",
    "}).reset_index()\n",
    "\n",
    "# Переименовываем столбцы\n",
    "weekday_stats.columns = ['weekday', 'day_name', 'total_orders', 'unique_users', 'avg_ticket_price']\n",
    "weekday_stats['is_weekend'] = weekday_stats['weekday'] >= 5  # 5-6 = выходные\n",
    "weekday_stats = weekday_stats.sort_values('weekday')  # Сортируем по дням недели\n",
    "\n",
    "# Сортируем по номеру дня недели для правильного порядка\n",
    "weekday_stats = weekday_stats.sort_values('weekday')\n",
    "\n",
    "# Настройка цветов для будней и выходных\n",
    "weekday_color = '#1f77b4'  # синий для будней\n",
    "weekend_color = '#ff7f0e'   # оранжевый для выходных\n",
    "\n",
    "# Создаем список цветов для каждого дня\n",
    "day_colors = [weekday_color if day < 5 else weekend_color \n",
    "              for day in weekday_stats['weekday']]\n",
    "\n",
    "# Визуализация\n",
    "plt.figure(figsize=(14, 10))\n",
    "\n",
    "# 1. График количества заказов по дням недели\n",
    "plt.subplot(2, 2, 1)\n",
    "bars = plt.bar(weekday_stats['day_name'], weekday_stats['total_orders'], \n",
    "               color=day_colors)\n",
    "plt.title('Общее число заказов по дням недели', pad=20)\n",
    "plt.xlabel('День недели', labelpad=10)\n",
    "plt.ylabel('Количество заказов', labelpad=10)\n",
    "plt.xticks(rotation=45)\n",
    "\n",
    "# 2. График DAU по дням недели\n",
    "plt.subplot(2, 2, 2)\n",
    "plt.bar(weekday_stats['day_name'], weekday_stats['unique_users'], \n",
    "        color=day_colors)\n",
    "plt.title('Количество уникальных пользователей (DAU)', pad=20)\n",
    "plt.xlabel('День недели', labelpad=10)\n",
    "plt.ylabel('Количество пользователей', labelpad=10)\n",
    "plt.xticks(rotation=45)\n",
    "\n",
    "# 3. График средней стоимости билета\n",
    "plt.subplot(2, 2, 3)\n",
    "plt.bar(weekday_stats['day_name'], weekday_stats['avg_ticket_price'], \n",
    "        color=day_colors)\n",
    "plt.title('Средняя стоимость билета', pad=20)\n",
    "plt.xlabel('День недели', labelpad=10)\n",
    "plt.ylabel('Стоимость (руб)', labelpad=10)\n",
    "plt.xticks(rotation=45)\n",
    "\n",
    "# 4. Сравнение будни/выходные (средние значения)\n",
    "plt.subplot(2, 2, 4)\n",
    "metrics = ['total_orders', 'unique_users', 'avg_ticket_price']\n",
    "labels = ['Заказы', 'Пользователи', 'Цена билета']\n",
    "weekday_means = weekday_stats[~weekday_stats['is_weekend']][metrics].mean()\n",
    "weekend_means = weekday_stats[weekday_stats['is_weekend']][metrics].mean()\n",
    "\n",
    "x = range(len(metrics))\n",
    "plt.bar(x, weekday_means, width=0.4, label='Будни', color=weekday_color)\n",
    "plt.bar([i + 0.4 for i in x], weekend_means, width=0.4, label='Выходные', color=weekend_color)\n",
    "\n",
    "plt.title('Сравнение будней и выходных', pad=20)\n",
    "plt.xlabel('Метрика', labelpad=10)\n",
    "plt.ylabel('Среднее значение', labelpad=10)\n",
    "plt.xticks([i + 0.2 for i in x], labels)\n",
    "plt.legend()\n",
    "\n",
    "plt.tight_layout(pad=3.0)\n",
    "plt.show()\n",
    "\n",
    "# Выводим таблицу с данными\n",
    "print(\"Статистика по дням недели:\")\n",
    "display(weekday_stats)\n",
    "\n",
    "print(\"\\nСравнение будней и выходных:\")\n",
    "print(\"Будни:\")\n",
    "display(weekday_stats[~weekday_stats['is_weekend']].mean(numeric_only=True))\n",
    "print(\"\\nВыходные:\")\n",
    "display(weekday_stats[weekday_stats['is_weekend']].mean(numeric_only=True))"
   ]
  },
  {
   "cell_type": "markdown",
   "id": "49f77f59",
   "metadata": {},
   "source": [
    "### 📌 Промежуточные выводы - Осенняя активность пользователей и недельная цикличность\n",
    "\n",
    "\n",
    "1. Динамика по дням (сентябрь-октябрь 2024)\n",
    "**Общая картина - наблюдается выраженная волатильность с резкими всплесками активности**\n",
    "- Общее число заказов: \n",
    "  - Среднедневное значение: `~2 203` заказов.\n",
    "  - Пиковые значения достигают `3 608` заказов (01.10).\n",
    "  - Минимальные значения: `1 108` заказов (01.09).\n",
    "  - **Разброс значений в 3.3 раза между минимумом и максимумом**\n",
    "  \n",
    "- Активные пользователи `DAU`:\n",
    "  - Среднее значение: `~923` пользователей/день.\n",
    "  - Максимум: `1 272` пользователя (31.10).\n",
    "  - **Соотношение заказов/пользователей `~2.4` заказа на пользователя в среднем**.\n",
    "\n",
    "- Среднее число заказов на пользователя:\n",
    "  - Обычный диапазон: `2.0-3.0` заказов/пользователя.\n",
    "  - Аномальные пики:\n",
    "      - `3.06` (03.09).\n",
    "      - `2.83` (01.10).\n",
    "      - `2.46` (31.10).\n",
    "   \n",
    "- Средняя стоимость билета**:\n",
    "  - Средняя: `~187` руб.\n",
    "  - Диапазон: от `115` до `201` руб.\n",
    "  - Зафиксировано резкое падение цены до `115` руб. (03.09)\n",
    "  \n",
    "➡️ **Заключение: Активность пользователей показывает устойчивый рост с сентября по октябрь.\n",
    "Некоторые дни демонстрируют аномально высокую интенсивность покупок, что может быть связано с акциями или сезонными событиями.**. \n",
    "\n",
    "2. Сравнение будней и выходных\n",
    "- Общее число заказов:\n",
    "    - Будни: `~20 007`\n",
    "    - Выходные: `~17 174`\n",
    "    - Разница: `-14.2%`\n",
    "- DAU (уникальные пользователи):\n",
    "    - Будни: `~4 778`\n",
    "    - Выходные: `~4 481`\n",
    "    - Разница: `-6.2%`\n",
    "- Средний чек:\n",
    "    - Будни: `~181.6` руб.\n",
    "    - Выходные: `~195.1` руб.\n",
    "    - Разница: `+7.4%`\n",
    "- Заказов на пользователя:\n",
    "    - Будни: `~4.2`\n",
    "    - Выходные: `~3.9`\n",
    "    - Разница: `-7.1%`\n",
    "\n",
    "➡️ **Заключение**:\n",
    "\n",
    "- Выходные приносят на `14.2%` меньше заказов , но:\n",
    "    - Средний чек выше на `7.4%`\n",
    "    - Конверсия (заказов на пользователя) выше в будни на `7.1%`\n",
    "\n",
    "- Это говорит о том, что:\n",
    "     - В будни пользователи делают больше заказов, возможно, более спонтанных.\n",
    "     - В выходные наблюдается более осознанный выбор, сопровождающийся высоким средним чеком.\n",
    "\n",
    "➡️ **Заключение: Осенний период показывает устойчивый рост спроса с выраженной недельной цикличностью. Выходные, несмотря на меньшее количество транзакций, демонстрируют более высокую маржинальность. Рекомендуется развивать премиум-сегмент в выходные и массовые мероприятия в будни**."
   ]
  },
  {
   "cell_type": "markdown",
   "id": "7dddef2c",
   "metadata": {},
   "source": [
    "### Популярные события и партнёры\n",
    "\n",
    "    Необходимо посчитать:\n",
    "\n",
    "    - Уникальное количество мероприятий и общее число заказов для каждого региона\n",
    "    - Общее число уникальных мероприятий, обработанных заказов и суммарную выручку с заказов билетов для каждого билетного партнера"
   ]
  },
  {
   "cell_type": "code",
   "execution_count": 22,
   "id": "a90f7545",
   "metadata": {
    "scrolled": false
   },
   "outputs": [
    {
     "data": {
      "image/png": "[encoded data removed]",
      "text/plain": [
       "<Figure size 864x432 with 1 Axes>"
      ]
     },
     "metadata": {},
     "output_type": "display_data"
    },
    {
     "data": {
      "image/png": "[encoded data removed]",
      "text/plain": [
       "<Figure size 864x432 with 1 Axes>"
      ]
     },
     "metadata": {},
     "output_type": "display_data"
    },
    {
     "data": {
      "image/png": "[encoded data removed]",
      "text/plain": [
       "<Figure size 1080x720 with 2 Axes>"
      ]
     },
     "metadata": {},
     "output_type": "display_data"
    },
    {
     "name": "stdout",
     "output_type": "stream",
     "text": [
      "Топ-5 регионов по количеству заказов:\n"
     ]
    },
    {
     "data": {
      "text/html": [
       "<style  type=\"text/css\" >\n",
       "</style><table id=\"T_85d58_\" ><thead>    <tr>        <th class=\"blank level0\" ></th>        <th class=\"col_heading level0 col0\" >unique_events</th>        <th class=\"col_heading level0 col1\" >total_orders</th>        <th class=\"col_heading level0 col2\" >total_revenue</th>        <th class=\"col_heading level0 col3\" >events_share</th>        <th class=\"col_heading level0 col4\" >orders_share</th>        <th class=\"col_heading level0 col5\" >revenue_share</th>    </tr>    <tr>        <th class=\"index_name level0\" >region_name</th>        <th class=\"blank\" ></th>        <th class=\"blank\" ></th>        <th class=\"blank\" ></th>        <th class=\"blank\" ></th>        <th class=\"blank\" ></th>        <th class=\"blank\" ></th>    </tr></thead><tbody>\n",
       "                <tr>\n",
       "                        <th id=\"T_85d58_level0_row0\" class=\"row_heading level0 row0\" >Каменевский регион</th>\n",
       "                        <td id=\"T_85d58_row0_col0\" class=\"data row0 col0\" >5,933</td>\n",
       "                        <td id=\"T_85d58_row0_col1\" class=\"data row0 col1\" >74,436</td>\n",
       "                        <td id=\"T_85d58_row0_col2\" class=\"data row0 col2\" >47,236,986 руб</td>\n",
       "                        <td id=\"T_85d58_row0_col3\" class=\"data row0 col3\" >26.5%</td>\n",
       "                        <td id=\"T_85d58_row0_col4\" class=\"data row0 col4\" >31.7%</td>\n",
       "                        <td id=\"T_85d58_row0_col5\" class=\"data row0 col5\" >38.0%</td>\n",
       "            </tr>\n",
       "            <tr>\n",
       "                        <th id=\"T_85d58_level0_row1\" class=\"row_heading level0 row1\" >Североярская область</th>\n",
       "                        <td id=\"T_85d58_row1_col0\" class=\"data row1 col0\" >3,797</td>\n",
       "                        <td id=\"T_85d58_row1_col1\" class=\"data row1 col1\" >37,438</td>\n",
       "                        <td id=\"T_85d58_row1_col2\" class=\"data row1 col2\" >18,700,443 руб</td>\n",
       "                        <td id=\"T_85d58_row1_col3\" class=\"data row1 col3\" >17.0%</td>\n",
       "                        <td id=\"T_85d58_row1_col4\" class=\"data row1 col4\" >15.9%</td>\n",
       "                        <td id=\"T_85d58_row1_col5\" class=\"data row1 col5\" >15.1%</td>\n",
       "            </tr>\n",
       "            <tr>\n",
       "                        <th id=\"T_85d58_level0_row2\" class=\"row_heading level0 row2\" >Широковская область</th>\n",
       "                        <td id=\"T_85d58_row2_col0\" class=\"data row2 col0\" >1,232</td>\n",
       "                        <td id=\"T_85d58_row2_col1\" class=\"data row2 col1\" >13,649</td>\n",
       "                        <td id=\"T_85d58_row2_col2\" class=\"data row2 col2\" >7,257,465 руб</td>\n",
       "                        <td id=\"T_85d58_row2_col3\" class=\"data row2 col3\" >5.5%</td>\n",
       "                        <td id=\"T_85d58_row2_col4\" class=\"data row2 col4\" >5.8%</td>\n",
       "                        <td id=\"T_85d58_row2_col5\" class=\"data row2 col5\" >5.8%</td>\n",
       "            </tr>\n",
       "            <tr>\n",
       "                        <th id=\"T_85d58_level0_row3\" class=\"row_heading level0 row3\" >Озернинский край</th>\n",
       "                        <td id=\"T_85d58_row3_col0\" class=\"data row3 col0\" >349</td>\n",
       "                        <td id=\"T_85d58_row3_col1\" class=\"data row3 col1\" >8,557</td>\n",
       "                        <td id=\"T_85d58_row3_col2\" class=\"data row3 col2\" >7,800,168 руб</td>\n",
       "                        <td id=\"T_85d58_row3_col3\" class=\"data row3 col3\" >1.6%</td>\n",
       "                        <td id=\"T_85d58_row3_col4\" class=\"data row3 col4\" >3.6%</td>\n",
       "                        <td id=\"T_85d58_row3_col5\" class=\"data row3 col5\" >6.3%</td>\n",
       "            </tr>\n",
       "            <tr>\n",
       "                        <th id=\"T_85d58_level0_row4\" class=\"row_heading level0 row4\" >Медовская область</th>\n",
       "                        <td id=\"T_85d58_row4_col0\" class=\"data row4 col0\" >504</td>\n",
       "                        <td id=\"T_85d58_row4_col1\" class=\"data row4 col1\" >6,808</td>\n",
       "                        <td id=\"T_85d58_row4_col2\" class=\"data row4 col2\" >1,938,677 руб</td>\n",
       "                        <td id=\"T_85d58_row4_col3\" class=\"data row4 col3\" >2.3%</td>\n",
       "                        <td id=\"T_85d58_row4_col4\" class=\"data row4 col4\" >2.9%</td>\n",
       "                        <td id=\"T_85d58_row4_col5\" class=\"data row4 col5\" >1.6%</td>\n",
       "            </tr>\n",
       "    </tbody></table>"
      ],
      "text/plain": [
       "<pandas.io.formats.style.Styler at 0x7fa8b0126850>"
      ]
     },
     "metadata": {},
     "output_type": "display_data"
    },
    {
     "name": "stdout",
     "output_type": "stream",
     "text": [
      "\n",
      "Топ-5 партнёров по количеству заказов:\n"
     ]
    },
    {
     "data": {
      "text/html": [
       "<style  type=\"text/css\" >\n",
       "</style><table id=\"T_f3c02_\" ><thead>    <tr>        <th class=\"blank level0\" ></th>        <th class=\"col_heading level0 col0\" >unique_events</th>        <th class=\"col_heading level0 col1\" >total_orders</th>        <th class=\"col_heading level0 col2\" >total_revenue</th>        <th class=\"col_heading level0 col3\" >events_share</th>        <th class=\"col_heading level0 col4\" >orders_share</th>        <th class=\"col_heading level0 col5\" >revenue_share</th>    </tr>    <tr>        <th class=\"index_name level0\" >service_name</th>        <th class=\"blank\" ></th>        <th class=\"blank\" ></th>        <th class=\"blank\" ></th>        <th class=\"blank\" ></th>        <th class=\"blank\" ></th>        <th class=\"blank\" ></th>    </tr></thead><tbody>\n",
       "                <tr>\n",
       "                        <th id=\"T_f3c02_level0_row0\" class=\"row_heading level0 row0\" >Билеты без проблем</th>\n",
       "                        <td id=\"T_f3c02_row0_col0\" class=\"data row0 col0\" >4,249</td>\n",
       "                        <td id=\"T_f3c02_row0_col1\" class=\"data row0 col1\" >52,583</td>\n",
       "                        <td id=\"T_f3c02_row0_col2\" class=\"data row0 col2\" >20,892,572 руб</td>\n",
       "                        <td id=\"T_f3c02_row0_col3\" class=\"data row0 col3\" >17.4%</td>\n",
       "                        <td id=\"T_f3c02_row0_col4\" class=\"data row0 col4\" >22.4%</td>\n",
       "                        <td id=\"T_f3c02_row0_col5\" class=\"data row0 col5\" >16.8%</td>\n",
       "            </tr>\n",
       "            <tr>\n",
       "                        <th id=\"T_f3c02_level0_row1\" class=\"row_heading level0 row1\" >Лови билет!</th>\n",
       "                        <td id=\"T_f3c02_row1_col0\" class=\"data row1 col0\" >4,867</td>\n",
       "                        <td id=\"T_f3c02_row1_col1\" class=\"data row1 col1\" >33,530</td>\n",
       "                        <td id=\"T_f3c02_row1_col2\" class=\"data row1 col2\" >13,532,034 руб</td>\n",
       "                        <td id=\"T_f3c02_row1_col3\" class=\"data row1 col3\" >20.0%</td>\n",
       "                        <td id=\"T_f3c02_row1_col4\" class=\"data row1 col4\" >14.3%</td>\n",
       "                        <td id=\"T_f3c02_row1_col5\" class=\"data row1 col5\" >10.9%</td>\n",
       "            </tr>\n",
       "            <tr>\n",
       "                        <th id=\"T_f3c02_level0_row2\" class=\"row_heading level0 row2\" >Билеты в руки</th>\n",
       "                        <td id=\"T_f3c02_row2_col0\" class=\"data row2 col0\" >3,535</td>\n",
       "                        <td id=\"T_f3c02_row2_col1\" class=\"data row2 col1\" >29,184</td>\n",
       "                        <td id=\"T_f3c02_row2_col2\" class=\"data row2 col2\" >10,627,515 руб</td>\n",
       "                        <td id=\"T_f3c02_row2_col3\" class=\"data row2 col3\" >14.5%</td>\n",
       "                        <td id=\"T_f3c02_row2_col4\" class=\"data row2 col4\" >12.4%</td>\n",
       "                        <td id=\"T_f3c02_row2_col5\" class=\"data row2 col5\" >8.6%</td>\n",
       "            </tr>\n",
       "            <tr>\n",
       "                        <th id=\"T_f3c02_level0_row3\" class=\"row_heading level0 row3\" >Мой билет</th>\n",
       "                        <td id=\"T_f3c02_row3_col0\" class=\"data row3 col0\" >1,299</td>\n",
       "                        <td id=\"T_f3c02_row3_col1\" class=\"data row3 col1\" >27,991</td>\n",
       "                        <td id=\"T_f3c02_row3_col2\" class=\"data row3 col2\" >17,611,991 руб</td>\n",
       "                        <td id=\"T_f3c02_row3_col3\" class=\"data row3 col3\" >5.3%</td>\n",
       "                        <td id=\"T_f3c02_row3_col4\" class=\"data row3 col4\" >11.9%</td>\n",
       "                        <td id=\"T_f3c02_row3_col5\" class=\"data row3 col5\" >14.2%</td>\n",
       "            </tr>\n",
       "            <tr>\n",
       "                        <th id=\"T_f3c02_level0_row4\" class=\"row_heading level0 row4\" >Облачко</th>\n",
       "                        <td id=\"T_f3c02_row4_col0\" class=\"data row4 col0\" >2,335</td>\n",
       "                        <td id=\"T_f3c02_row4_col1\" class=\"data row4 col1\" >23,037</td>\n",
       "                        <td id=\"T_f3c02_row4_col2\" class=\"data row4 col2\" >16,094,058 руб</td>\n",
       "                        <td id=\"T_f3c02_row4_col3\" class=\"data row4 col3\" >9.6%</td>\n",
       "                        <td id=\"T_f3c02_row4_col4\" class=\"data row4 col4\" >9.8%</td>\n",
       "                        <td id=\"T_f3c02_row4_col5\" class=\"data row4 col5\" >13.0%</td>\n",
       "            </tr>\n",
       "    </tbody></table>"
      ],
      "text/plain": [
       "<pandas.io.formats.style.Styler at 0x7fa8b10c1070>"
      ]
     },
     "metadata": {},
     "output_type": "display_data"
    }
   ],
   "source": [
    "# Анализ популярных событий и партнёров по регионам\n",
    "# 1. Анализ регионов: количество мероприятий и заказов\n",
    "region_stats = final_df.groupby('region_name').agg(\n",
    "    unique_events=('event_id', 'nunique'),\n",
    "    total_orders=('order_id', 'count'),\n",
    "    total_revenue=('revenue_rub', 'sum')\n",
    ").sort_values('total_orders', ascending=False)\n",
    "\n",
    "# Добавляем доли\n",
    "region_stats['events_share'] = region_stats['unique_events'] / region_stats['unique_events'].sum() * 100\n",
    "region_stats['orders_share'] = region_stats['total_orders'] / region_stats['total_orders'].sum() * 100\n",
    "region_stats['revenue_share'] = region_stats['total_revenue'] / region_stats['total_revenue'].sum() * 100\n",
    "\n",
    "# Визуализация топ-10 регионов по заказам\n",
    "plt.figure(figsize=(12, 6))\n",
    "top_regions = region_stats.head(10).sort_values('total_orders', ascending=True)\n",
    "plt.barh(top_regions.index, top_regions['total_orders'], color='skyblue')\n",
    "plt.title('Топ-10 регионов по количеству заказов')\n",
    "plt.xlabel('Количество заказов')\n",
    "plt.ylabel('Регион')\n",
    "plt.grid(axis='x', alpha=0.3)\n",
    "plt.show()\n",
    "\n",
    "# 2. Анализ партнёров (билетных операторов)\n",
    "partner_stats = final_df.groupby('service_name').agg(\n",
    "    unique_events=('event_id', 'nunique'),\n",
    "    total_orders=('order_id', 'count'),\n",
    "    total_revenue=('revenue_rub', 'sum')\n",
    ").sort_values('total_orders', ascending=False)\n",
    "\n",
    "# Добавляем доли\n",
    "partner_stats['events_share'] = partner_stats['unique_events'] / partner_stats['unique_events'].sum() * 100\n",
    "partner_stats['orders_share'] = partner_stats['total_orders'] / partner_stats['total_orders'].sum() * 100\n",
    "partner_stats['revenue_share'] = partner_stats['total_revenue'] / partner_stats['total_revenue'].sum() * 100\n",
    "\n",
    "# Визуализация топ-10 партнёров по заказам\n",
    "plt.figure(figsize=(12, 6))\n",
    "top_partners = partner_stats.head(10).sort_values('total_orders', ascending=True)\n",
    "plt.barh(top_partners.index, top_partners['total_orders'], color='lightgreen')\n",
    "plt.title('Топ-10 партнёров по количеству заказов')\n",
    "plt.xlabel('Количество заказов')\n",
    "plt.ylabel('Партнёр')\n",
    "plt.grid(axis='x', alpha=0.3)\n",
    "plt.show()\n",
    "\n",
    "# 3. Анализ распределения мероприятий по регионам и партнёрам\n",
    "# Создаем сводную таблицу для визуализации\n",
    "region_partner_matrix = pd.pivot_table(\n",
    "    final_df,\n",
    "    index='region_name',\n",
    "    columns='service_name',\n",
    "    values='order_id',\n",
    "    aggfunc='count',\n",
    "    fill_value=0\n",
    ")\n",
    "\n",
    "# Нормализуем данные для тепловой карты\n",
    "normalized_matrix = region_partner_matrix.div(region_partner_matrix.sum(axis=1), axis=0)\n",
    "\n",
    "# Визуализация тепловой карты (только топ-10 регионов и партнёров)\n",
    "plt.figure(figsize=(15, 10))\n",
    "sns.heatmap(\n",
    "    normalized_matrix.loc[region_stats.head(10).index, partner_stats.head(10).index],\n",
    "    cmap='YlGnBu',\n",
    "    annot=True,\n",
    "    fmt='.1%',\n",
    "    linewidths=0.5\n",
    ")\n",
    "plt.title('Распределение заказов между регионами и партнёрами (топ-10)')\n",
    "plt.xlabel('Партнёр')\n",
    "plt.ylabel('Регион')\n",
    "plt.xticks(rotation=45)\n",
    "plt.show()\n",
    "\n",
    "# Вывод таблиц с результатами\n",
    "print(\"Топ-5 регионов по количеству заказов:\")\n",
    "display(region_stats.head(5).style.format({\n",
    "    'unique_events': '{:,.0f}',\n",
    "    'total_orders': '{:,.0f}',\n",
    "    'total_revenue': '{:,.0f} руб',\n",
    "    'events_share': '{:.1f}%',\n",
    "    'orders_share': '{:.1f}%',\n",
    "    'revenue_share': '{:.1f}%'\n",
    "}))\n",
    "\n",
    "print(\"\\nТоп-5 партнёров по количеству заказов:\")\n",
    "display(partner_stats.head(5).style.format({\n",
    "    'unique_events': '{:,.0f}',\n",
    "    'total_orders': '{:,.0f}',\n",
    "    'total_revenue': '{:,.0f} руб',\n",
    "    'events_share': '{:.1f}%',\n",
    "    'orders_share': '{:.1f}%',\n",
    "    'revenue_share': '{:.1f}%'\n",
    "}))"
   ]
  },
  {
   "cell_type": "markdown",
   "id": "0eb9808e",
   "metadata": {},
   "source": [
    "### 📌 Промежуточные выводы - Популярные события и партнёры\n",
    "\n",
    "1. Региональное распределение: явные лидеры и концентрация спроса\n",
    "**Абсолютные показатели:**\n",
    "- **Каменевский регион** — безусловный лидер:\n",
    "  - доля заказов - `31.7%` \n",
    "  - доля выручки - `38.0%`\n",
    "- **Североярская область** занимает второе место:\n",
    "  - доля заказов - `15.9%` \n",
    "  - доля выручки - `15.1%` \n",
    "\n",
    "➡️ **Ключевые наблюдения:**\n",
    "- **Каменевский регион — явный лидер по всем метрикам**, особенно по выручке.\n",
    "- **Североярская область** занимает второе место по числу заказов и выручке.\n",
    "- **Озернинский край** действительно выделяется высокой долей выручки при небольшом количестве мероприятий → **высокая маржинальность** подтверждена.\n",
    "- **Медовская область** имеет низкую выручку, но это объясняется малым количеством мероприятий и заказов.\n",
    "\n",
    "2. Партнёры: доминирование \"Билеты без проблем\"**\n",
    "**Топ-5 партнёров контролируют 70.8% заказов:**\n",
    "- **\"Билеты без проблем\"**:\n",
    "   - `22.4%` заказов `52 583`.\n",
    "   - `16.8%` выручки `20.9` млн. руб.\n",
    "   - Средний чек `397`руб.\n",
    "- **\"Лови билет!\"**:\n",
    "   - `14.3%` заказов.\n",
    "   - `10.9%` выручки.\n",
    "- **\"Мой билет\"** и **\"Облачко\"** демонстрируют высокую маржинальность:\n",
    "   - При `9-12%` заказов генерируют `13-14% выручки`.\n",
    "\n",
    "**Динамика по партнёрам:**\n",
    "- **\"Билеты без проблем\"** лидирует по охвату мероприятий `4 249`, но их средний чек ниже. Это может указывать на массовые недорогие события.\n",
    "- **\"Мой билет\"** и **\"Облачко\"** работают с более дорогими билетами, средний чек `~600-700 руб`.\n",
    "\n",
    "3. Распределение между регионами и партнёрами (тепловая карта)\n",
    "- **Каменевский регион** равномерно распределяет заказы между партнёрами:\n",
    "  - \"Билеты без проблем\" — `25-30%`.\n",
    "  - \"Лови билет!\" — `15-20%`.\n",
    "  - Остальные — до `10%`.\n",
    "- **Озернинский край** зависит от `\"Облачко\" 40%` заказов, что указывает на эксклюзивные события или местное партнёрство.\n",
    "- **Медовская область** завязана на `\"Билеты в руки\" 35%` заказов — возможна региональная монополия.\n",
    "\n",
    "➡️ **Рекомендации для команды продукта**\n",
    "- **Фокус на топ-регионы**:\n",
    "   - Усилить маркетинг в Каменевском регионе и Североярской области.\n",
    "   - Изучить успешные практики Озернинского края для тиражирования в других регионах.\n",
    "\n",
    "- **Партнёрская стратегия**:\n",
    "   - Развивать сотрудничество с **\"Мой билет\"** и **\"Облачко\"** для повышения среднего чека.\n",
    "   - Анализировать причины низкого среднего чека у **\"Билеты без проблем\"** (возможно, стоит пересмотреть ассортимент событий).\n",
    "\n",
    "- **Баланс между массовостью и премиумом**:\n",
    "   - В регионах с низкой активностью тестировать премиум-мероприятия (по модели **Озернинского края**).\n",
    "   - В топ-регионах расширять линейку массовых событий для удержания аудитории.\n",
    "\n",
    "- **Децентрализация**:\n",
    "   - Стимулировать организаторов из менее активных регионов (например, через специальные условия для новых партнёров).\n",
    "\n",
    "➡️ **Заключение: Рынок билетов сильно сегментирован, с явными лидерами в регионах и среди партнёров. Оптимизация сервиса требует как поддержки ключевых игроков, так и развития нишевых направлений**."
   ]
  },
  {
   "cell_type": "markdown",
   "id": "26092250",
   "metadata": {},
   "source": [
    "## Статистический анализ данных\n",
    "\n",
    "Команда продукта предполагает, что пользователи мобильных устройств проявляют большую активность в сервисе по сравнению с пользователями стационарных устройств. \n",
    "\n",
    "- Для проверки этого утверждения необходимо:\n",
    "\n",
    "    - Проанализировать распределение ключевых метрик по типам устройств.\n",
    "    - Предоставить обоснование выбора статистического теста.\n",
    "    - Проверить две статистические гипотезы:\n",
    "        - `среднем количестве заказов на пользователя`.\n",
    "        - `среднем времени между заказами`.\n",
    "    - Использовать только данные за осенний период `сентябрь-октябрь 2024` для чистоты анализа.\n",
    "    \n",
    "    \n",
    "- Формулировка гипотез\n",
    "    - **Гипотеза 1: Среднее количество заказов**\n",
    "\n",
    "        - **Нулевая гипотеза (H₀)**: Среднее количество заказов на пользователя мобильных и десктопных устройств одинаково. Формально: `μ_mobile = μ_desktop`\n",
    "        - **Альтернативная гипотеза (H₁)**: Пользователи мобильных устройств совершают больше заказов в среднем. Формально: `μ_mobile > μ_desktop`\n",
    "    - **Гипотеза 2: Среднее время между заказами**\n",
    "\n",
    "        - **Нулевая гипотеза (H₀)**: Среднее время между заказами у мобильных и десктопных пользователей одинаково. Формально: `τ_mobile = τ_desktop`\n",
    "        - **Альтернативная гипотеза (H₁)**: Пользователи мобильных устройств делают заказы реже (время между заказами больше). Формально: `τ_mobile > τ_desktop`\n"
   ]
  },
  {
   "cell_type": "code",
   "execution_count": 23,
   "id": "6e564ab2",
   "metadata": {},
   "outputs": [
    {
     "name": "stdout",
     "output_type": "stream",
     "text": [
      "Сводная таблица метрик по типам устройств:\n"
     ]
    },
    {
     "data": {
      "text/html": [
       "<div>\n",
       "<style scoped>\n",
       "    .dataframe tbody tr th:only-of-type {\n",
       "        vertical-align: middle;\n",
       "    }\n",
       "\n",
       "    .dataframe tbody tr th {\n",
       "        vertical-align: top;\n",
       "    }\n",
       "\n",
       "    .dataframe thead th {\n",
       "        text-align: right;\n",
       "    }\n",
       "</style>\n",
       "<table border=\"1\" class=\"dataframe\">\n",
       "  <thead>\n",
       "    <tr style=\"text-align: right;\">\n",
       "      <th></th>\n",
       "      <th>Метрика</th>\n",
       "      <th>Мобильные</th>\n",
       "      <th>Десктопные</th>\n",
       "    </tr>\n",
       "  </thead>\n",
       "  <tbody>\n",
       "    <tr>\n",
       "      <th>0</th>\n",
       "      <td>Количество пользователей</td>\n",
       "      <td>14165.0</td>\n",
       "      <td>4836.0</td>\n",
       "    </tr>\n",
       "    <tr>\n",
       "      <th>1</th>\n",
       "      <td>Среднее заказов на пользователя</td>\n",
       "      <td>7.7</td>\n",
       "      <td>5.2</td>\n",
       "    </tr>\n",
       "    <tr>\n",
       "      <th>2</th>\n",
       "      <td>Медиана заказов</td>\n",
       "      <td>2.0</td>\n",
       "      <td>2.0</td>\n",
       "    </tr>\n",
       "    <tr>\n",
       "      <th>3</th>\n",
       "      <td>Среднее время между заказами (дни)</td>\n",
       "      <td>20.0</td>\n",
       "      <td>14.4</td>\n",
       "    </tr>\n",
       "    <tr>\n",
       "      <th>4</th>\n",
       "      <td>Медиана времени между заказами</td>\n",
       "      <td>8.0</td>\n",
       "      <td>4.0</td>\n",
       "    </tr>\n",
       "  </tbody>\n",
       "</table>\n",
       "</div>"
      ],
      "text/plain": [
       "                              Метрика Мобильные Десктопные\n",
       "0            Количество пользователей   14165.0     4836.0\n",
       "1     Среднее заказов на пользователя       7.7        5.2\n",
       "2                     Медиана заказов       2.0        2.0\n",
       "3  Среднее время между заказами (дни)      20.0       14.4\n",
       "4      Медиана времени между заказами       8.0        4.0"
      ]
     },
     "metadata": {},
     "output_type": "display_data"
    }
   ],
   "source": [
    "# Подготовка данных для анализа\n",
    "# Группируем данные по пользователям и типам устройств\n",
    "user_stats = autumn_data.groupby(['user_id', 'device_type_canonical']).agg(\n",
    "    orders_count=('order_id', 'count'),          # Количество заказов\n",
    "    avg_days_between=('days_since_prev', 'mean') # Среднее время между заказами\n",
    ").reset_index()\n",
    "\n",
    "# Разделяем на мобильных и десктопных пользователей\n",
    "mobile_users = user_stats[user_stats['device_type_canonical'] == 'mobile']\n",
    "desktop_users = user_stats[user_stats['device_type_canonical'] == 'desktop']\n",
    "\n",
    "# Создаем сводную таблицу с основными метриками\n",
    "summary_table = pd.DataFrame({\n",
    "    'Метрика': ['Количество пользователей', \n",
    "                'Среднее заказов на пользователя', \n",
    "                'Медиана заказов',\n",
    "                'Среднее время между заказами (дни)',\n",
    "                'Медиана времени между заказами'],\n",
    "    'Мобильные': [len(mobile_users),\n",
    "                 mobile_users['orders_count'].mean(),\n",
    "                 mobile_users['orders_count'].median(),\n",
    "                 mobile_users['avg_days_between'].mean(),\n",
    "                 mobile_users['avg_days_between'].median()],\n",
    "    'Десктопные': [len(desktop_users),\n",
    "                  desktop_users['orders_count'].mean(),\n",
    "                  desktop_users['orders_count'].median(),\n",
    "                  desktop_users['avg_days_between'].mean(),\n",
    "                  desktop_users['avg_days_between'].median()]\n",
    "})\n",
    "\n",
    "# Форматируем числа для лучшей читаемости\n",
    "summary_table['Мобильные'] = summary_table['Мобильные'].apply(lambda x: f\"{x:.1f}\" if isinstance(x, float) else x)\n",
    "summary_table['Десктопные'] = summary_table['Десктопные'].apply(lambda x: f\"{x:.1f}\" if isinstance(x, float) else x)\n",
    "\n",
    "# Выводим сводную таблицу\n",
    "print(\"Сводная таблица метрик по типам устройств:\")\n",
    "display(summary_table)"
   ]
  },
  {
   "cell_type": "code",
   "execution_count": 24,
   "id": "ac1dc5ad",
   "metadata": {},
   "outputs": [
    {
     "data": {
      "image/png": "[encoded data removed]",
      "text/plain": [
       "<Figure size 864x360 with 2 Axes>"
      ]
     },
     "metadata": {},
     "output_type": "display_data"
    }
   ],
   "source": [
    "# Визуализация\n",
    "plt.figure(figsize=(12, 5))\n",
    "\n",
    "# График 1: Барплот для среднего количества заказов\n",
    "plt.subplot(1, 2, 1)\n",
    "sns.barplot(data=user_stats, x='device_type_canonical', y='orders_count', \n",
    "            estimator=np.mean, ci=95, palette=['#1f77b4', '#ff7f0e'])\n",
    "plt.title('Среднее количество заказов')\n",
    "plt.xlabel('Тип устройства')\n",
    "plt.ylabel('Заказов на пользователя')\n",
    "\n",
    "# График 2: Барплот для среднего времени между заказами\n",
    "plt.subplot(1, 2, 2)\n",
    "sns.barplot(data=user_stats.dropna(), x='device_type_canonical', \n",
    "            y='avg_days_between', estimator=np.mean, ci=95, \n",
    "            palette=['#1f77b4', '#ff7f0e'])\n",
    "plt.title('Среднее время между заказами')\n",
    "plt.xlabel('Тип устройства')\n",
    "plt.ylabel('Дней между заказами')\n",
    "\n",
    "plt.tight_layout()\n",
    "plt.show()"
   ]
  },
  {
   "cell_type": "markdown",
   "id": "33412d7b",
   "metadata": {},
   "source": [
    "Перед выбором теста важно изучить распределение сравниваемых метрик. Для этого был использован `тест Шапиро-Уилка`, чтобы проверить нормальность распределения."
   ]
  },
  {
   "cell_type": "code",
   "execution_count": 25,
   "id": "0b47b880",
   "metadata": {},
   "outputs": [
    {
     "name": "stdout",
     "output_type": "stream",
     "text": [
      "\n",
      "Проверка нормальности распределения (тест Шапиро-Уилка):\n",
      "Количество заказов (мобильные): p-value = 0.00000\n",
      "Количество заказов (десктопные): p-value = 0.00000\n",
      "\n",
      "Время между заказами (мобильные): p-value = 0.00000\n",
      "Время между заказами (десктопные): p-value = 0.00000\n"
     ]
    }
   ],
   "source": [
    "# Проверка нормальности распределения\n",
    "print(\"\\nПроверка нормальности распределения (тест Шапиро-Уилка):\")\n",
    "\n",
    "# Для количества заказов\n",
    "_, p_mobile_orders = shapiro(mobile_users['orders_count'].sample(1000))  \n",
    "_, p_desktop_orders = shapiro(desktop_users['orders_count'].sample(1000))\n",
    "\n",
    "print(f\"Количество заказов (мобильные): p-value = {p_mobile_orders:.5f}\")\n",
    "print(f\"Количество заказов (десктопные): p-value = {p_desktop_orders:.5f}\")\n",
    "\n",
    "# Для времени между заказами (исключаем NaN)\n",
    "_, p_mobile_time = shapiro(mobile_users['avg_days_between'].dropna().sample(1000))\n",
    "_, p_desktop_time = shapiro(desktop_users['avg_days_between'].dropna().sample(1000))\n",
    "\n",
    "print(f\"\\nВремя между заказами (мобильные): p-value = {p_mobile_time:.5f}\")\n",
    "print(f\"Время между заказами (десктопные): p-value = {p_desktop_time:.5f}\")"
   ]
  },
  {
   "cell_type": "markdown",
   "id": "6e853f82",
   "metadata": {},
   "source": [
    "Все `p-value < 0.05` → распределения не являются нормальными. Это означает, что мы не можем использовать параметрические тесты, такие как `t-тест Стьюдента`, так как он предполагает нормальное распределение данных.\n",
    "\n",
    "В связи с этим для проверки гипотез выбираем `U-тест Манна-Уитни` — непараметрический тест, который:\n",
    "\n",
    "    - Не предполагает нормальности распределения\n",
    "    - Устойчив к выбросам\n",
    "    - Позволяет сравнивать не только средние, но и общее положение распределений\n",
    "    \n",
    "Помимо этого, необходимо проверить пересечение пользователей для подтверждения, что группы независимы."
   ]
  },
  {
   "cell_type": "code",
   "execution_count": 26,
   "id": "46117751",
   "metadata": {},
   "outputs": [
    {
     "name": "stdout",
     "output_type": "stream",
     "text": [
      "Пользователи, использующие оба типа устройств: 3198 (20.2%)\n"
     ]
    }
   ],
   "source": [
    "# Уникальные пользователи по устройствам\n",
    "mobile_users = set(autumn_data[autumn_data['device_type_canonical'] == 'mobile']['user_id'])\n",
    "desktop_users = set(autumn_data[autumn_data['device_type_canonical'] == 'desktop']['user_id'])\n",
    "\n",
    "# Пересечение пользователей\n",
    "common_users = mobile_users & desktop_users\n",
    "print(f\"Пользователи, использующие оба типа устройств: {len(common_users)} ({len(common_users)/len(mobile_users|desktop_users):.1%})\")"
   ]
  },
  {
   "cell_type": "markdown",
   "id": "68e1a6a7",
   "metadata": {},
   "source": [
    "Обнаружено `3 198 пользователей 20.2%`, использующих оба типа устройств, что нарушает предположение о независимости групп стат.тестов."
   ]
  },
  {
   "cell_type": "code",
   "execution_count": 27,
   "id": "0340e27c",
   "metadata": {},
   "outputs": [
    {
     "name": "stdout",
     "output_type": "stream",
     "text": [
      "Чистая группа мобильных пользователей: 10967\n",
      "Чистая группа десктопных пользователей: 1638\n"
     ]
    }
   ],
   "source": [
    "# Получаем списки пользователей\n",
    "mobile_users = set(autumn_data[autumn_data['device_type_canonical'] == 'mobile']['user_id'])\n",
    "desktop_users = set(autumn_data[autumn_data['device_type_canonical'] == 'desktop']['user_id'])\n",
    "\n",
    "# Находим общих пользователей\n",
    "common_users = mobile_users & desktop_users\n",
    "\n",
    "# Чистые выборки без пересечения\n",
    "pure_mobile = autumn_data[(autumn_data['device_type_canonical'] == 'mobile') \n",
    "                           & (~autumn_data['user_id'].isin(common_users))]\n",
    "\n",
    "pure_desktop = autumn_data[(autumn_data['device_type_canonical'] == 'desktop') \n",
    "                           & (~autumn_data['user_id'].isin(common_users))]\n",
    "\n",
    "# Группируем по чистым выборкам\n",
    "user_stats_mobile = pure_mobile.groupby('user_id')['order_id'].count().reset_index(name='orders_count')\n",
    "user_stats_desktop = pure_desktop.groupby('user_id')['order_id'].count().reset_index(name='orders_count')\n",
    "\n",
    "print(f\"Чистая группа мобильных пользователей: {user_stats_mobile.shape[0]}\")\n",
    "print(f\"Чистая группа десктопных пользователей: {user_stats_desktop.shape[0]}\")"
   ]
  },
  {
   "cell_type": "markdown",
   "id": "fcb9c25c",
   "metadata": {},
   "source": [
    "Однако перед тестированием гипотез надо проверить, что объем данных достаточен для получения статистически значимых результатов."
   ]
  },
  {
   "cell_type": "code",
   "execution_count": 28,
   "id": "d07030c2",
   "metadata": {},
   "outputs": [
    {
     "name": "stdout",
     "output_type": "stream",
     "text": [
      "Среднее количество заказов (мобильные): 2.373\n",
      "Среднее количество заказов (десктоп): 1.606\n",
      "Стандартное отклонение (мобильные): 2.894\n",
      "Стандартное отклонение (десктоп): 1.586\n",
      "Объединённое стандартное отклонение (pooled std): 2.334\n",
      "Размер эффекта (Cohen's d): 0.329\n",
      "Требуемый размер выборки в каждой группе: 147\n",
      "Фактический размер мобильной группы: 10967\n",
      "Фактический размер десктопной группы: 1638\n",
      "\n",
      "Достаточность выборки:\n",
      "Мобильная группа: достаточна\n",
      "Десктопная группа: достаточна\n"
     ]
    }
   ],
   "source": [
    "# Средние и стандартные отклонения\n",
    "mean_mobile = user_stats_mobile['orders_count'].mean()\n",
    "mean_desktop = user_stats_desktop['orders_count'].mean()\n",
    "std_mobile = user_stats_mobile['orders_count'].std()\n",
    "std_desktop = user_stats_desktop['orders_count'].std()\n",
    "\n",
    "# Объединённое стандартное отклонение (pooled std)\n",
    "pooled_std = np.sqrt((std_mobile**2 + std_desktop**2) / 2)\n",
    "\n",
    "# Размер эффекта (Cohen's d)\n",
    "effect_size = (mean_mobile - mean_desktop) / pooled_std\n",
    "\n",
    "# Расчёт необходимого размера выборки в каждой группе\n",
    "required_n = tt_ind_solve_power(\n",
    "    effect_size=effect_size,\n",
    "    alpha=0.05,\n",
    "    power=0.8,\n",
    "    alternative='two-sided'  # или 'one-sided' → но в tt_ind_solve_power используется 'two-sided' как основа\n",
    ")\n",
    "\n",
    "# Вывод результатов\n",
    "print(f\"Среднее количество заказов (мобильные): {mean_mobile:.3f}\")\n",
    "print(f\"Среднее количество заказов (десктоп): {mean_desktop:.3f}\")\n",
    "print(f\"Стандартное отклонение (мобильные): {std_mobile:.3f}\")\n",
    "print(f\"Стандартное отклонение (десктоп): {std_desktop:.3f}\")\n",
    "print(f\"Объединённое стандартное отклонение (pooled std): {pooled_std:.3f}\")\n",
    "print(f\"Размер эффекта (Cohen's d): {effect_size:.3f}\")\n",
    "print(f\"Требуемый размер выборки в каждой группе: {int(np.ceil(required_n))}\")\n",
    "print(f\"Фактический размер мобильной группы: {len(user_stats_mobile)}\")\n",
    "print(f\"Фактический размер десктопной группы: {len(user_stats_desktop)}\")\n",
    "\n",
    "# Проверка достаточности\n",
    "is_mobile_enough = len(user_stats_mobile) >= required_n\n",
    "is_desktop_enough = len(user_stats_desktop) >= required_n\n",
    "\n",
    "print(f\"\\nДостаточность выборки:\")\n",
    "print(f\"Мобильная группа: {'достаточна' if is_mobile_enough else 'недостаточна'}\")\n",
    "print(f\"Десктопная группа: {'достаточна' if is_desktop_enough else 'недостаточна'}\")"
   ]
  },
  {
   "cell_type": "markdown",
   "id": "c04cea8b",
   "metadata": {},
   "source": [
    "- Проверка достаточности выборки производилась с помощью `tt_ind_solve_power` для непрерывных метрик (количество заказов, время между заказами), t-тестовая модель для расчёта мощности (power analysis)."
   ]
  },
  {
   "cell_type": "code",
   "execution_count": 29,
   "id": "b9092b3a",
   "metadata": {},
   "outputs": [
    {
     "name": "stdout",
     "output_type": "stream",
     "text": [
      "\n",
      "Гипотеза 1: Среднее количество заказов\n",
      "H₀: μ_mobile = μ_desktop\n",
      "H₁: μ_mobile > μ_desktop\n",
      "\n",
      "Результат U-теста:\n",
      "-> U-статистика: 10674654.500\n",
      "-> p-value: 0.0000000000\n",
      "\n",
      "Вывод: p-value < 0.05 -> Отвергаем H₀\n",
      "Мобильные пользователи совершают больше заказов в среднем\n",
      "\n",
      "----------------------------------------\n",
      "\n",
      "Гипотеза 2: Время между заказами\n",
      "H₀: τ_mobile = τ_desktop\n",
      "H₁: τ_mobile > τ_desktop\n",
      "\n",
      "Результат U-теста:\n",
      "-> U-статистика: 3270642.000\n",
      "-> p-value: 0.2836466707\n",
      "\n",
      "Вывод: p-value > 0.05 -> Не можем отвергнуть H₀\n",
      "Среднее время между заказами не отличается между группами\n"
     ]
    }
   ],
   "source": [
    "# Проверка статистических гипотез\n",
    "alpha = 0.05  # Уровень значимости\n",
    "\n",
    "print(\"\\nГипотеза 1: Среднее количество заказов\")\n",
    "print(\"H₀: μ_mobile = μ_desktop\")\n",
    "print(\"H₁: μ_mobile > μ_desktop\")\n",
    "\n",
    "# U-тест Манна-Уитни (односторонний)\n",
    "stat, p_value = mannwhitneyu(\n",
    "    user_stats_mobile['orders_count'], \n",
    "    user_stats_desktop['orders_count'], \n",
    "    alternative='greater'\n",
    ")\n",
    "\n",
    "print(f\"\\nРезультат U-теста:\")\n",
    "print(f\"-> U-статистика: {stat:.3f}\")\n",
    "print(f\"-> p-value: {p_value:.10f}\")\n",
    "\n",
    "if p_value > alpha:\n",
    "    print(f\"\\nВывод: p-value > {alpha} -> Не можем отвергнуть H₀\")\n",
    "    print(\"Среднее количество заказов не отличается между группами\")\n",
    "else:\n",
    "    print(f\"\\nВывод: p-value < {alpha} -> Отвергаем H₀\")\n",
    "    print(\"Мобильные пользователи совершают больше заказов в среднем\")\n",
    "\n",
    "print(\"\\n----------------------------------------\")\n",
    "\n",
    "print(\"\\nГипотеза 2: Время между заказами\")\n",
    "print(\"H₀: τ_mobile = τ_desktop\")\n",
    "print(\"H₁: τ_mobile > τ_desktop\")\n",
    "\n",
    "# U-тест Манна-Уитни (односторонний)\n",
    "time_mobile = pure_mobile.groupby('user_id')['days_since_prev'].mean().dropna()\n",
    "time_desktop = pure_desktop.groupby('user_id')['days_since_prev'].mean().dropna()\n",
    "\n",
    "stat, p_value = mannwhitneyu(\n",
    "    time_mobile,\n",
    "    time_desktop,\n",
    "    alternative='greater'\n",
    ")\n",
    "\n",
    "print(f\"\\nРезультат U-теста:\")\n",
    "print(f\"-> U-статистика: {stat:.3f}\")\n",
    "print(f\"-> p-value: {p_value:.10f}\")\n",
    "\n",
    "if p_value > alpha:\n",
    "    print(f\"\\nВывод: p-value > {alpha} -> Не можем отвергнуть H₀\")\n",
    "    print(\"Среднее время между заказами не отличается между группами\")\n",
    "else:\n",
    "    print(f\"\\nВывод: p-value < {alpha} -> Отвергаем H₀\")\n",
    "    print(\"Мобильные пользователи делают заказы реже (время между заказами больше)\")"
   ]
  },
  {
   "cell_type": "markdown",
   "id": "c21d3030",
   "metadata": {},
   "source": [
    "### 📌 Промежуточные выводы - Стат.анализ данных\n",
    "\n",
    "**1. Описательная статистика (осень 2024)**\n",
    "- Мобильные пользователи совершают **на 34% больше заказов** в среднем.\n",
    "- Время между заказами у мобильных пользователей примерно одинаковое с десктопными, но чуть больше по медиане.\n",
    "- Среднее количество заказов на пользователя:\n",
    "    - Мобильные `~7.7`\n",
    "    - Десктопные `~5.2`\n",
    "- Среднее время между заказами:\n",
    "    - Мобильные `~20` дней\n",
    "    - Десктопные `~14.4` дней\n",
    "\n",
    "➡️ **Заключение: Медиана времени между заказами выше у мобильных пользователей (`8` дней vs `4` дня), но статистически различий нет**.\n",
    "\n",
    "**2. Проверка гипотез**\n",
    "\n",
    "**Гипотеза 1: Среднее количество заказов**\n",
    "- Тест: U-тест Манна-Уитни (односторонний).  \n",
    "  *Обоснование:* Данные не нормальны (`p-value Шапиро-Уилка ≈ 0`), выборки независимы.\n",
    "- Результат:  \n",
    "  - U-статистика = `10 674 654.5`.  \n",
    "  - **p-value = 0.0000000000 (практически 0). \n",
    "  \n",
    "✅ **Вывод: p-value < 0.05 → Отвергаем H₀. \n",
    "Мобильные пользователи совершают значительно больше заказов в среднем**.\n",
    "\n",
    " **Гипотеза 2: Среднее время между заказами**\n",
    "- **Тест:** U-тест Манна-Уитни (односторонний).  \n",
    "  *Обоснование:* Аналогично первой гипотезе (непараметрические данные).\n",
    "- **Результат:**  \n",
    "  - U-статистика = `3 270 642.0`. \n",
    "  - **p-value = `0.2836 (> 0.05)`**.  \n",
    "  \n",
    "❌ **Вывод: p-value > 0.05 → Не можем отвергнуть H₀.\n",
    "Нет значимой разницы во времени между заказами у мобильных и десктопных пользователей**.\n",
    "\n",
    "**3. Интерпретация результатов**\n",
    "- **Парадокс активности**:  \n",
    "   - Мобильные пользователи совершают больше заказов, но не чаще, чем десктопные.  \n",
    "   - Это говорит о том, что:\n",
    "       - Мобильная группа более склонна к покупке билетов за один сеанс\n",
    "       - Десктопные пользователи могут быть менее импульсивны, но их заказы происходят чаще\n",
    "- **Статистическая значимость**:\n",
    "   - Разница в количестве заказов подтверждена тестом с очень низким `p-value`.\n",
    "   - Разница во времени между заказами не является статистически значимой.    \n",
    "- **Ограничения**:\n",
    "   - Анализ проводился только по данным за осенний период — возможное влияние сезонности.\n",
    "   - После удаления пересечений число десктопных пользователей стало меньше `~1 638` против `~10 967` мобильных, что может снизить мощность теста.\n",
    "\n",
    "➡️ **Рекомендации для продукта**\n",
    "- **Для мобильных пользователей:**  \n",
    "   - Продолжать развивать текущие практики , так как они показывают наибольшую конверсию.\n",
    "   - Тестировать push-уведомления и избранное , чтобы увеличить частоту заказов.\n",
    "   - Улучшать персонализацию мероприятий для повышения повторного спроса.\n",
    "   \n",
    "- **Для десктопных пользователей:**  \n",
    "   - Активнее работать с `email-рассылками` и `remarketing'ом`.\n",
    "   - Повышать лояльность через программы лояльности или рекомендаций.\n",
    "   - Тестировать новые триггеры для повторных заказов.\n",
    "\n",
    "➡️ **Заключение: Статистический анализ подтвердил, что мобильные пользователи**:\n",
    "- Совершают больше заказов в среднем `7.7 vs 5.2` — **гипотеза подтверждена**.\n",
    "- Разницы во времени между заказами нет — **гипотеза не подтверждена**."
   ]
  },
  {
   "cell_type": "markdown",
   "id": "3efac270",
   "metadata": {},
   "source": [
    "## Общий вывод и рекомендации по анализу динамики продаж билетов на Яндекс Афише (июнь–октябрь 2024)\n",
    "\n",
    "**1. Общая характеристика данных**\n",
    "- **Период анализа**: июнь–октябрь 2024 года (5 месяцев).\n",
    "- **Объем данных**:\n",
    "  - **Заказы**: `235 054` записей после предобработки.\n",
    "  - **Мероприятия**: `22 427` событий.\n",
    "  - **География**: `20+` регионов, включая Каменевский регион (лидер по продажам), Североярскую область, Озернинский край.\n",
    "  - **Типы мероприятий**: `концерты, театр, выставки, спорт, стендап, ёлки и др`.\n",
    "  \n",
    "- **Источники данных**:\n",
    "  - `final_tickets_orders_df.csv` — информация о заказах.\n",
    "  - `final_tickets_events_df.csv` — описание мероприятий.\n",
    "  - `final_tickets_tenge_df.csv` — курс тенге к рублю (для конвертации валют).\n",
    "\n",
    "**2. Предобработка данных**:\n",
    "- Удалены дубликаты `85 571 неявных дубликатов`.\n",
    "- Обработаны выбросы (отсечены значения выше 99-го перцентиля по `revenue` и `tickets_count`).\n",
    "- Конвертирована валюта (`тенге → рубли`).\n",
    "- Добавлены новые столбцы: `one_ticket_revenue_rub`, `month`, `season`.\n",
    "\n",
    "**3. Ключевые результаты анализа**\n",
    "\n",
    "**Динамика продаж**\n",
    "- **Общий тренд**:  \n",
    "    - Рост числа заказов с **29 235 в июне** до **78 246 в октябре** `+167%`.  \n",
    "    - Пик продаж — **1 октября** `3 608 заказов`.  \n",
    "    - Осенью (сентябрь–октябрь) продажи выросли на **43.3%** по сравнению с летом (июнь–август).\n",
    "\n",
    "- **Сезонные изменения**:\n",
    "  - **Лето**:  \n",
    "    - Лидеры — концерты `43.1%`, театр `19.7%`, другие мероприятия `27%`.    \n",
    "  - **Осень**:  \n",
    "    - Концерты - `38.7%`, театр `25.7%`, спорт `7.9%`.      \n",
    "\n",
    "➡️ **Рост популярности театра `+6` п.п, спорта `+5.7` п.п., ёлки до `1.0%`**.\n",
    "\n",
    "- **Стоимость билетов**\n",
    "    - **Средняя цена билета**: **194.54 руб.** \n",
    "    \n",
    "- **Изменения по категориям**:  \n",
    "    - **Рост цен**:  \n",
    "        - Стендап: `+6.8%`, до `231.3` руб.\n",
    "        - Выставки: `+3.6%`, до `89.8` руб.  \n",
    "    - **Снижение цен**:  \n",
    "        - Театр: `-17.6%`, до `176.1` руб.\n",
    "        - Ёлки: `-15.5%`, до `231.7` руб.\n",
    "        - Концерты: `-9.1%`, до `271.4` руб.  \n",
    "\n",
    "- **Пользовательская активность**\n",
    "    - **Устройства**:  \n",
    "      - **Мобильные пользователи** `81.2% от общего числа`:  \n",
    "        - Совершают **больше заказов** `7.7 vs 5.2 у десктопных`.  \n",
    "        - Время между заказами: `20` дней vs `14.4` дней у десктопных.  \n",
    "        - **Гипотеза 1 подтверждена: мобильные совершают значительно больше заказов**.\n",
    "        - **Гипотеза 2 опровергнута: время между заказами не отличается значимо**.\n",
    "\n",
    "- **Возрастные категории**:\n",
    "- **Лето**:\n",
    "    - 16+: `28.5%`\n",
    "    - 12+: `20.4%`\n",
    "    - 0+: `17.9%`\n",
    "- **Осень**: \n",
    "    - 16+: `26.6%`\n",
    "    - 12+: `22.8%` (+2.4 п.п.)\n",
    "    - 0+: `20.9%` (+3.0 п.п.)   \n",
    "\n",
    "➡️ **Осенью увеличилась доля заказов на мероприятия для детей и подростков**.\n",
    "\n",
    "\n",
    "- **Недельная цикличность**:  \n",
    "    - **Пики**: вторник (максимум заказов), четверг (стабильный спрос).  \n",
    "    - **Спад**: воскресенье (минимум заказов, но самые дорогие билеты).  \n",
    "    - **Будни vs выходные**:  \n",
    "        - Будни: `+14.2%` заказов, но `-7.4%` чека\n",
    "        - Выходные: выше маржинальность , но ниже конверсия\n",
    "\n",
    "- **Регионы и партнеры**\n",
    "    - **Топ-3 региона**:  \n",
    "      - **Каменевский регион**:  \n",
    "         - `31.7%` заказов, `38%` выручки.  \n",
    "         - Высокий средний чек `~650 руб.`  \n",
    "      - **Североярская область**:  \n",
    "         - `15.9%` заказов, `15.1%` выручки.  \n",
    "      - **Озернинский край**:  \n",
    "         - Всего `3.6%` заказов, но `6.3%` выручки (премиум-сегмент).  \n",
    "         \n",
    "➡️ **Активность пользователей и выручка сильно сконцентрированы в Каменевском регионе и Североярской области. Озернинский край демонстрирует потенциал для развития премиум-сегмента**.\n",
    "\n",
    "- **Топ-3 партнера**:  \n",
    "    - **\"Билеты без проблем\"**: `22.4%` заказов, `16.8%` выручки.  \n",
    "    - **\"Лови билет!\"**: `14.3%` заказов, `10.9%` выручки.  \n",
    "    - **\"Мой билет\"**: `11.9%` заказов, `14.2%` выручки (высокий средний чек `~600-700` руб.).  \n",
    "    \n",
    "\n",
    "- **Проверка гипотез**\n",
    "    - **Гипотеза 1**: Мобильные пользователи совершают больше заказов. \n",
    "        - `H₁: μ_mobile > μ_desktop`\n",
    "        - `U-тест Манна-Уитни`\n",
    "        - `p-value = 0.0000000000`\n",
    "        \n",
    "✅ **Подтверждена. Мобильные совершают больше заказов (в среднем 7.7 против 5.2)**\n",
    "\n",
    "\n",
    "- **Проверка гипотез**\n",
    "    - **Гипотеза 2**: Мобильные пользователи делают заказы реже.  \n",
    "        - `H₂: τ_mobile > τ_desktop`\n",
    "        - `U-тест Манна-Уитни`\n",
    "        - `p-value = 0.2836`\n",
    "        \n",
    "❌ **Не подтверждена. Разницы во времени между заказами нет**\n",
    "   \n",
    "\n",
    "➡️ **4. Рекомендации для команды продукта**\n",
    "\n",
    "- **Оптимизация под мобильных пользователей**\n",
    "    - **Упрощение покупки**:  \n",
    "      - Добавить кнопку \"Купить снова\" для повторных заказов.  \n",
    "      - Внедрить быструю оплату через `Apple Pay/Google Pay`.  \n",
    "    - **Персонализация**:  \n",
    "      - `Push-уведомления` о новых событиях на основе истории покупок.  \n",
    "      - Рекомендации в стиле `\"Вам может понравиться\"`. \n",
    "    - **Семейный формат**:\n",
    "      - Скидки на детские мероприятия\n",
    "      - Билеты `\"2+1 бесплатно\"` на ёлки и семейные шоу\n",
    "\n",
    "\n",
    "- **Удержание десктопных пользователей**\n",
    "    - **Повышение вовлеченности**:  \n",
    "      - `Email-рассылки` с эксклюзивными предложениями.  \n",
    "      - `Программа лояльности`, бонусы за частые покупки.\n",
    "      - `Улучшение интерфейса`, удобный поиск по фильтрам.\n",
    "\n",
    "\n",
    "- **Развитие регионов**\n",
    "    - **Для лидеров (Каменевский регион, Североярская область)**:  \n",
    "      - Увеличить количество массовых мероприятий.  \n",
    "      - Запустить промоакции `\"2 билета по цене 1\" для театров`.  \n",
    "    - **Для нишевых регионов (Озернинский край)**:  \n",
    "      - Продвигать премиум-мероприятия `концерты, гастроли`.\n",
    "      - Увеличивать количество эксклюзивных событий.  \n",
    "\n",
    "\n",
    "- **Работа с партнерами**\n",
    "    - **\"Билеты без проблем\"**:  \n",
    "      - Анализировать причины низкого среднего чека (возможно, расширить ассортимент премиум-событий).  \n",
    "    - **\"Мой билет\" и \"Облачко\"**:  \n",
    "      - Увеличить квоту на эксклюзивные мероприятия.  \n",
    "\n",
    "\n",
    "- **Ценовая стратегия**\n",
    "    - **Для театров и ёлок**:  \n",
    "      - Ввести динамическое ценообразование (скидки на утренние сеансы).  \n",
    "    - **Для выставок и стендапов**:  \n",
    "      - Повысить цены в выходные дни `+10-15%`.\n",
    "    - **Для спортивных событий**:\n",
    "      - Увеличить доступность.\n",
    "      - Таргетировать семьи и молодежь. \n",
    "\n",
    "\n",
    "➡️ **5. Заключение: Анализ выявил сезонные тренды, различия в поведении мобильных и десктопных пользователей, а также региональные особенности и возможности роста через партнёров**.  \n",
    "\n",
    "- **Ключевые точки роста**:  \n",
    "1. Улучшение мобильного опыта.  \n",
    "2. Развитие премиум-сегмента в нишевых регионах.  \n",
    "3. Гибкое ценообразование для повышения маржинальности.  "
   ]
  }
 ],
 "metadata": {
  "ExecuteTimeLog": [
   {
    "duration": 1373,
    "start_time": "2025-07-09T06:06:40.108Z"
   },
   {
    "duration": 3,
    "start_time": "2025-07-09T06:07:05.361Z"
   },
   {
    "duration": 116,
    "start_time": "2025-07-09T06:18:14.306Z"
   },
   {
    "duration": 1454,
    "start_time": "2025-07-09T06:18:26.067Z"
   },
   {
    "duration": 1639,
    "start_time": "2025-07-09T06:20:23.475Z"
   },
   {
    "duration": 1402,
    "start_time": "2025-07-09T06:20:32.026Z"
   },
   {
    "duration": 3,
    "start_time": "2025-07-09T06:20:47.142Z"
   },
   {
    "duration": 1251,
    "start_time": "2025-07-09T06:20:55.945Z"
   },
   {
    "duration": 1406,
    "start_time": "2025-07-09T06:20:57.198Z"
   },
   {
    "duration": 1692,
    "start_time": "2025-07-09T06:21:57.264Z"
   },
   {
    "duration": 1381,
    "start_time": "2025-07-09T06:23:13.104Z"
   },
   {
    "duration": 101,
    "start_time": "2025-07-09T06:31:14.787Z"
   },
   {
    "duration": 32,
    "start_time": "2025-07-09T06:38:55.034Z"
   },
   {
    "duration": 101,
    "start_time": "2025-07-09T06:39:05.855Z"
   },
   {
    "duration": 233,
    "start_time": "2025-07-09T06:41:09.972Z"
   },
   {
    "duration": 41,
    "start_time": "2025-07-09T06:43:15.898Z"
   },
   {
    "duration": 541,
    "start_time": "2025-07-09T06:44:09.489Z"
   },
   {
    "duration": 132,
    "start_time": "2025-07-09T06:45:42.324Z"
   },
   {
    "duration": 268,
    "start_time": "2025-07-09T06:47:49.232Z"
   },
   {
    "duration": 333,
    "start_time": "2025-07-09T06:50:25.248Z"
   },
   {
    "duration": 1225,
    "start_time": "2025-07-09T06:50:47.479Z"
   },
   {
    "duration": 1884,
    "start_time": "2025-07-09T06:50:48.707Z"
   },
   {
    "duration": 122,
    "start_time": "2025-07-09T06:50:50.593Z"
   },
   {
    "duration": 44,
    "start_time": "2025-07-09T06:50:50.716Z"
   },
   {
    "duration": 267,
    "start_time": "2025-07-09T06:50:50.763Z"
   },
   {
    "duration": 60,
    "start_time": "2025-07-09T06:50:51.031Z"
   },
   {
    "duration": 619,
    "start_time": "2025-07-09T06:50:51.093Z"
   },
   {
    "duration": 156,
    "start_time": "2025-07-09T06:50:51.714Z"
   },
   {
    "duration": 311,
    "start_time": "2025-07-09T06:50:51.872Z"
   },
   {
    "duration": 98,
    "start_time": "2025-07-09T06:52:39.135Z"
   },
   {
    "duration": 445,
    "start_time": "2025-07-09T06:54:08.900Z"
   },
   {
    "duration": 310,
    "start_time": "2025-07-09T07:09:33.910Z"
   },
   {
    "duration": 96,
    "start_time": "2025-07-09T07:10:44.824Z"
   },
   {
    "duration": 236,
    "start_time": "2025-07-09T07:12:09.588Z"
   },
   {
    "duration": 1206,
    "start_time": "2025-07-09T07:12:43.983Z"
   },
   {
    "duration": 1791,
    "start_time": "2025-07-09T07:12:45.191Z"
   },
   {
    "duration": 112,
    "start_time": "2025-07-09T07:12:46.984Z"
   },
   {
    "duration": 34,
    "start_time": "2025-07-09T07:12:47.099Z"
   },
   {
    "duration": 267,
    "start_time": "2025-07-09T07:12:47.135Z"
   },
   {
    "duration": 62,
    "start_time": "2025-07-09T07:12:47.404Z"
   },
   {
    "duration": 645,
    "start_time": "2025-07-09T07:12:47.468Z"
   },
   {
    "duration": 154,
    "start_time": "2025-07-09T07:12:48.114Z"
   },
   {
    "duration": 442,
    "start_time": "2025-07-09T07:12:48.270Z"
   },
   {
    "duration": 105,
    "start_time": "2025-07-09T07:12:48.714Z"
   },
   {
    "duration": 488,
    "start_time": "2025-07-09T07:12:48.821Z"
   },
   {
    "duration": 4624,
    "start_time": "2025-07-09T07:14:12.415Z"
   },
   {
    "duration": 4481,
    "start_time": "2025-07-09T07:15:20.085Z"
   },
   {
    "duration": 4589,
    "start_time": "2025-07-09T07:15:36.567Z"
   },
   {
    "duration": 4493,
    "start_time": "2025-07-09T07:15:52.567Z"
   },
   {
    "duration": 4661,
    "start_time": "2025-07-09T07:19:26.948Z"
   },
   {
    "duration": 1206,
    "start_time": "2025-07-09T07:21:12.974Z"
   },
   {
    "duration": 1868,
    "start_time": "2025-07-09T07:21:14.182Z"
   },
   {
    "duration": 114,
    "start_time": "2025-07-09T07:21:16.051Z"
   },
   {
    "duration": 34,
    "start_time": "2025-07-09T07:21:16.168Z"
   },
   {
    "duration": 282,
    "start_time": "2025-07-09T07:21:16.204Z"
   },
   {
    "duration": 55,
    "start_time": "2025-07-09T07:21:16.487Z"
   },
   {
    "duration": 683,
    "start_time": "2025-07-09T07:21:16.544Z"
   },
   {
    "duration": 159,
    "start_time": "2025-07-09T07:21:17.228Z"
   },
   {
    "duration": 4349,
    "start_time": "2025-07-09T07:21:17.389Z"
   },
   {
    "duration": 111,
    "start_time": "2025-07-09T07:21:21.741Z"
   },
   {
    "duration": 432,
    "start_time": "2025-07-09T07:21:21.853Z"
   },
   {
    "duration": 4,
    "start_time": "2025-07-09T07:43:39.594Z"
   },
   {
    "duration": 1189,
    "start_time": "2025-07-09T07:44:18.799Z"
   },
   {
    "duration": 1784,
    "start_time": "2025-07-09T07:44:19.990Z"
   },
   {
    "duration": 109,
    "start_time": "2025-07-09T07:44:21.776Z"
   },
   {
    "duration": 34,
    "start_time": "2025-07-09T07:44:21.887Z"
   },
   {
    "duration": 252,
    "start_time": "2025-07-09T07:44:21.923Z"
   },
   {
    "duration": 53,
    "start_time": "2025-07-09T07:44:22.177Z"
   },
   {
    "duration": 659,
    "start_time": "2025-07-09T07:44:22.232Z"
   },
   {
    "duration": 153,
    "start_time": "2025-07-09T07:44:22.893Z"
   },
   {
    "duration": 4354,
    "start_time": "2025-07-09T07:44:23.048Z"
   },
   {
    "duration": 110,
    "start_time": "2025-07-09T07:44:27.404Z"
   },
   {
    "duration": 430,
    "start_time": "2025-07-09T07:44:27.516Z"
   },
   {
    "duration": 204,
    "start_time": "2025-07-09T08:45:41.239Z"
   },
   {
    "duration": 953,
    "start_time": "2025-07-09T08:51:10.301Z"
   },
   {
    "duration": 510,
    "start_time": "2025-07-09T09:13:00.112Z"
   },
   {
    "duration": 516,
    "start_time": "2025-07-09T09:23:54.447Z"
   },
   {
    "duration": 517,
    "start_time": "2025-07-09T09:24:11.636Z"
   },
   {
    "duration": 74,
    "start_time": "2025-07-09T09:33:58.289Z"
   },
   {
    "duration": 594,
    "start_time": "2025-07-09T09:52:05.540Z"
   },
   {
    "duration": 1269,
    "start_time": "2025-07-09T09:53:30.307Z"
   },
   {
    "duration": 2142,
    "start_time": "2025-07-09T09:53:31.579Z"
   },
   {
    "duration": 105,
    "start_time": "2025-07-09T09:53:33.723Z"
   },
   {
    "duration": 82,
    "start_time": "2025-07-09T09:53:33.830Z"
   },
   {
    "duration": 246,
    "start_time": "2025-07-09T09:53:33.914Z"
   },
   {
    "duration": 53,
    "start_time": "2025-07-09T09:53:34.161Z"
   },
   {
    "duration": 681,
    "start_time": "2025-07-09T09:53:34.216Z"
   },
   {
    "duration": 139,
    "start_time": "2025-07-09T09:53:34.899Z"
   },
   {
    "duration": 4465,
    "start_time": "2025-07-09T09:53:35.040Z"
   },
   {
    "duration": 107,
    "start_time": "2025-07-09T09:53:39.506Z"
   },
   {
    "duration": 440,
    "start_time": "2025-07-09T09:53:39.615Z"
   },
   {
    "duration": 3,
    "start_time": "2025-07-09T10:06:01.820Z"
   },
   {
    "duration": 1254,
    "start_time": "2025-07-09T10:08:58.005Z"
   },
   {
    "duration": 2063,
    "start_time": "2025-07-09T10:08:59.262Z"
   },
   {
    "duration": 113,
    "start_time": "2025-07-09T10:09:01.327Z"
   },
   {
    "duration": 50,
    "start_time": "2025-07-09T10:09:01.442Z"
   },
   {
    "duration": 378,
    "start_time": "2025-07-09T10:09:01.494Z"
   },
   {
    "duration": 55,
    "start_time": "2025-07-09T10:09:01.874Z"
   },
   {
    "duration": 713,
    "start_time": "2025-07-09T10:09:01.931Z"
   },
   {
    "duration": 144,
    "start_time": "2025-07-09T10:09:02.646Z"
   },
   {
    "duration": 4742,
    "start_time": "2025-07-09T10:09:02.792Z"
   },
   {
    "duration": 115,
    "start_time": "2025-07-09T10:09:07.536Z"
   },
   {
    "duration": 504,
    "start_time": "2025-07-09T10:09:07.653Z"
   },
   {
    "duration": 1254,
    "start_time": "2025-07-09T10:31:26.308Z"
   },
   {
    "duration": 1988,
    "start_time": "2025-07-09T10:31:27.564Z"
   },
   {
    "duration": 116,
    "start_time": "2025-07-09T10:31:29.554Z"
   },
   {
    "duration": 61,
    "start_time": "2025-07-09T10:31:29.672Z"
   },
   {
    "duration": 318,
    "start_time": "2025-07-09T10:31:29.734Z"
   },
   {
    "duration": 61,
    "start_time": "2025-07-09T10:31:30.054Z"
   },
   {
    "duration": 712,
    "start_time": "2025-07-09T10:31:30.117Z"
   },
   {
    "duration": 150,
    "start_time": "2025-07-09T10:31:30.831Z"
   },
   {
    "duration": 4755,
    "start_time": "2025-07-09T10:31:30.982Z"
   },
   {
    "duration": 144,
    "start_time": "2025-07-09T10:31:35.741Z"
   },
   {
    "duration": 460,
    "start_time": "2025-07-09T10:31:35.886Z"
   },
   {
    "duration": 221,
    "start_time": "2025-07-09T11:05:07.059Z"
   },
   {
    "duration": 340,
    "start_time": "2025-07-09T11:14:53.767Z"
   },
   {
    "duration": 342,
    "start_time": "2025-07-09T11:16:14.809Z"
   },
   {
    "duration": 434,
    "start_time": "2025-07-09T11:50:24.363Z"
   },
   {
    "duration": 382,
    "start_time": "2025-07-09T11:51:37.387Z"
   },
   {
    "duration": 440,
    "start_time": "2025-07-09T11:53:46.223Z"
   },
   {
    "duration": 263,
    "start_time": "2025-07-09T11:57:56.605Z"
   },
   {
    "duration": 235,
    "start_time": "2025-07-09T11:58:16.545Z"
   },
   {
    "duration": 120,
    "start_time": "2025-07-09T11:59:38.752Z"
   },
   {
    "duration": 1248,
    "start_time": "2025-07-09T11:59:55.440Z"
   },
   {
    "duration": 1819,
    "start_time": "2025-07-09T11:59:56.690Z"
   },
   {
    "duration": 123,
    "start_time": "2025-07-09T11:59:58.512Z"
   },
   {
    "duration": 42,
    "start_time": "2025-07-09T11:59:58.637Z"
   },
   {
    "duration": 264,
    "start_time": "2025-07-09T11:59:58.682Z"
   },
   {
    "duration": 65,
    "start_time": "2025-07-09T11:59:58.948Z"
   },
   {
    "duration": 745,
    "start_time": "2025-07-09T11:59:59.015Z"
   },
   {
    "duration": 130,
    "start_time": "2025-07-09T11:59:59.762Z"
   },
   {
    "duration": 4358,
    "start_time": "2025-07-09T11:59:59.894Z"
   },
   {
    "duration": 108,
    "start_time": "2025-07-09T12:00:04.259Z"
   },
   {
    "duration": 460,
    "start_time": "2025-07-09T12:00:04.369Z"
   },
   {
    "duration": 193,
    "start_time": "2025-07-09T12:00:04.831Z"
   },
   {
    "duration": 215,
    "start_time": "2025-07-09T12:00:05.026Z"
   },
   {
    "duration": 258,
    "start_time": "2025-07-09T12:01:41.231Z"
   },
   {
    "duration": 15,
    "start_time": "2025-07-09T12:18:27.339Z"
   },
   {
    "duration": 924,
    "start_time": "2025-07-09T12:20:45.414Z"
   },
   {
    "duration": 643,
    "start_time": "2025-07-09T12:36:34.286Z"
   },
   {
    "duration": 1290,
    "start_time": "2025-07-09T13:14:54.444Z"
   },
   {
    "duration": 2063,
    "start_time": "2025-07-09T13:14:55.736Z"
   },
   {
    "duration": 116,
    "start_time": "2025-07-09T13:14:57.800Z"
   },
   {
    "duration": 49,
    "start_time": "2025-07-09T13:14:57.917Z"
   },
   {
    "duration": 257,
    "start_time": "2025-07-09T13:14:57.968Z"
   },
   {
    "duration": 63,
    "start_time": "2025-07-09T13:14:58.227Z"
   },
   {
    "duration": 682,
    "start_time": "2025-07-09T13:14:58.292Z"
   },
   {
    "duration": 163,
    "start_time": "2025-07-09T13:14:58.976Z"
   },
   {
    "duration": 4506,
    "start_time": "2025-07-09T13:14:59.141Z"
   },
   {
    "duration": 113,
    "start_time": "2025-07-09T13:15:03.649Z"
   },
   {
    "duration": 444,
    "start_time": "2025-07-09T13:15:03.764Z"
   },
   {
    "duration": 190,
    "start_time": "2025-07-09T13:15:04.210Z"
   },
   {
    "duration": 122,
    "start_time": "2025-07-09T13:15:04.403Z"
   },
   {
    "duration": 0,
    "start_time": "2025-07-09T13:15:04.527Z"
   },
   {
    "duration": 15,
    "start_time": "2025-07-09T13:16:57.192Z"
   },
   {
    "duration": 643,
    "start_time": "2025-07-09T13:17:37.406Z"
   },
   {
    "duration": 18,
    "start_time": "2025-07-09T13:18:01.646Z"
   },
   {
    "duration": 975,
    "start_time": "2025-07-09T13:19:50.505Z"
   },
   {
    "duration": 1224,
    "start_time": "2025-07-09T13:20:53.275Z"
   },
   {
    "duration": 1958,
    "start_time": "2025-07-09T13:20:54.501Z"
   },
   {
    "duration": 116,
    "start_time": "2025-07-09T13:20:56.461Z"
   },
   {
    "duration": 51,
    "start_time": "2025-07-09T13:20:56.579Z"
   },
   {
    "duration": 328,
    "start_time": "2025-07-09T13:20:56.633Z"
   },
   {
    "duration": 57,
    "start_time": "2025-07-09T13:20:56.962Z"
   },
   {
    "duration": 709,
    "start_time": "2025-07-09T13:20:57.020Z"
   },
   {
    "duration": 139,
    "start_time": "2025-07-09T13:20:57.731Z"
   },
   {
    "duration": 4465,
    "start_time": "2025-07-09T13:20:57.871Z"
   },
   {
    "duration": 113,
    "start_time": "2025-07-09T13:21:02.338Z"
   },
   {
    "duration": 459,
    "start_time": "2025-07-09T13:21:02.453Z"
   },
   {
    "duration": 198,
    "start_time": "2025-07-09T13:21:02.913Z"
   },
   {
    "duration": 1023,
    "start_time": "2025-07-09T13:21:03.113Z"
   },
   {
    "duration": 674,
    "start_time": "2025-07-09T13:21:04.139Z"
   },
   {
    "duration": 988,
    "start_time": "2025-07-09T13:22:02.995Z"
   },
   {
    "duration": 948,
    "start_time": "2025-07-09T13:22:29.972Z"
   },
   {
    "duration": 1195,
    "start_time": "2025-07-09T13:22:48.911Z"
   },
   {
    "duration": 1627,
    "start_time": "2025-07-09T13:22:50.108Z"
   },
   {
    "duration": 109,
    "start_time": "2025-07-09T13:22:51.737Z"
   },
   {
    "duration": 46,
    "start_time": "2025-07-09T13:22:51.848Z"
   },
   {
    "duration": 270,
    "start_time": "2025-07-09T13:22:51.895Z"
   },
   {
    "duration": 56,
    "start_time": "2025-07-09T13:22:52.166Z"
   },
   {
    "duration": 725,
    "start_time": "2025-07-09T13:22:52.224Z"
   },
   {
    "duration": 143,
    "start_time": "2025-07-09T13:22:52.951Z"
   },
   {
    "duration": 4493,
    "start_time": "2025-07-09T13:22:53.096Z"
   },
   {
    "duration": 109,
    "start_time": "2025-07-09T13:22:57.592Z"
   },
   {
    "duration": 467,
    "start_time": "2025-07-09T13:22:57.703Z"
   },
   {
    "duration": 183,
    "start_time": "2025-07-09T13:22:58.171Z"
   },
   {
    "duration": 1015,
    "start_time": "2025-07-09T13:22:58.360Z"
   },
   {
    "duration": 707,
    "start_time": "2025-07-09T13:22:59.377Z"
   },
   {
    "duration": 56,
    "start_time": "2025-07-10T03:52:47.550Z"
   },
   {
    "duration": 1349,
    "start_time": "2025-07-10T03:52:57.234Z"
   },
   {
    "duration": 1824,
    "start_time": "2025-07-10T03:52:58.585Z"
   },
   {
    "duration": 102,
    "start_time": "2025-07-10T03:53:00.411Z"
   },
   {
    "duration": 33,
    "start_time": "2025-07-10T03:53:00.515Z"
   },
   {
    "duration": 258,
    "start_time": "2025-07-10T03:53:00.551Z"
   },
   {
    "duration": 60,
    "start_time": "2025-07-10T03:53:00.811Z"
   },
   {
    "duration": 655,
    "start_time": "2025-07-10T03:53:00.873Z"
   },
   {
    "duration": 129,
    "start_time": "2025-07-10T03:53:01.530Z"
   },
   {
    "duration": 4198,
    "start_time": "2025-07-10T03:53:01.662Z"
   },
   {
    "duration": 98,
    "start_time": "2025-07-10T03:53:05.861Z"
   },
   {
    "duration": 428,
    "start_time": "2025-07-10T03:53:05.960Z"
   },
   {
    "duration": 179,
    "start_time": "2025-07-10T03:53:06.389Z"
   },
   {
    "duration": 972,
    "start_time": "2025-07-10T03:53:06.571Z"
   },
   {
    "duration": 663,
    "start_time": "2025-07-10T03:53:07.545Z"
   },
   {
    "duration": 1179,
    "start_time": "2025-07-10T03:53:08.210Z"
   },
   {
    "duration": 1374,
    "start_time": "2025-07-10T03:55:58.676Z"
   },
   {
    "duration": 1163,
    "start_time": "2025-07-10T03:58:54.879Z"
   },
   {
    "duration": 502,
    "start_time": "2025-07-10T04:01:40.969Z"
   },
   {
    "duration": 744,
    "start_time": "2025-07-10T04:04:02.779Z"
   },
   {
    "duration": 861,
    "start_time": "2025-07-10T04:04:59.985Z"
   },
   {
    "duration": 6,
    "start_time": "2025-07-10T04:42:19.279Z"
   },
   {
    "duration": 1404,
    "start_time": "2025-07-10T04:55:16.032Z"
   },
   {
    "duration": 1399,
    "start_time": "2025-07-10T04:55:39.221Z"
   },
   {
    "duration": 1376,
    "start_time": "2025-07-10T04:56:01.483Z"
   },
   {
    "duration": 1403,
    "start_time": "2025-07-10T04:56:35.961Z"
   },
   {
    "duration": 1520,
    "start_time": "2025-07-10T04:57:03.109Z"
   },
   {
    "duration": 1394,
    "start_time": "2025-07-10T05:15:09.909Z"
   },
   {
    "duration": 1664,
    "start_time": "2025-07-10T05:24:01.831Z"
   },
   {
    "duration": 1189,
    "start_time": "2025-07-10T05:27:05.697Z"
   },
   {
    "duration": 1969,
    "start_time": "2025-07-10T05:27:06.888Z"
   },
   {
    "duration": 112,
    "start_time": "2025-07-10T05:27:08.859Z"
   },
   {
    "duration": 35,
    "start_time": "2025-07-10T05:27:08.973Z"
   },
   {
    "duration": 273,
    "start_time": "2025-07-10T05:27:09.010Z"
   },
   {
    "duration": 50,
    "start_time": "2025-07-10T05:27:09.285Z"
   },
   {
    "duration": 641,
    "start_time": "2025-07-10T05:27:09.336Z"
   },
   {
    "duration": 134,
    "start_time": "2025-07-10T05:27:09.979Z"
   },
   {
    "duration": 4204,
    "start_time": "2025-07-10T05:27:10.114Z"
   },
   {
    "duration": 117,
    "start_time": "2025-07-10T05:27:14.319Z"
   },
   {
    "duration": 414,
    "start_time": "2025-07-10T05:27:14.438Z"
   },
   {
    "duration": 168,
    "start_time": "2025-07-10T05:27:14.854Z"
   },
   {
    "duration": 978,
    "start_time": "2025-07-10T05:27:15.023Z"
   },
   {
    "duration": 683,
    "start_time": "2025-07-10T05:27:16.004Z"
   },
   {
    "duration": 1615,
    "start_time": "2025-07-10T05:27:16.689Z"
   },
   {
    "duration": 105,
    "start_time": "2025-07-10T05:27:18.306Z"
   },
   {
    "duration": 0,
    "start_time": "2025-07-10T05:27:18.413Z"
   },
   {
    "duration": 193,
    "start_time": "2025-07-10T05:35:17.877Z"
   },
   {
    "duration": 975,
    "start_time": "2025-07-10T05:37:12.150Z"
   },
   {
    "duration": 1714,
    "start_time": "2025-07-10T05:41:54.510Z"
   },
   {
    "duration": 920,
    "start_time": "2025-07-10T05:46:06.082Z"
   },
   {
    "duration": 35,
    "start_time": "2025-07-10T06:58:11.104Z"
   },
   {
    "duration": 368,
    "start_time": "2025-07-10T07:20:58.140Z"
   },
   {
    "duration": 3,
    "start_time": "2025-07-10T07:22:35.099Z"
   },
   {
    "duration": 1241,
    "start_time": "2025-07-10T07:22:49.660Z"
   },
   {
    "duration": 2259,
    "start_time": "2025-07-10T07:22:50.904Z"
   },
   {
    "duration": 104,
    "start_time": "2025-07-10T07:22:53.165Z"
   },
   {
    "duration": 35,
    "start_time": "2025-07-10T07:22:53.271Z"
   },
   {
    "duration": 256,
    "start_time": "2025-07-10T07:22:53.309Z"
   },
   {
    "duration": 53,
    "start_time": "2025-07-10T07:22:53.571Z"
   },
   {
    "duration": 664,
    "start_time": "2025-07-10T07:22:53.626Z"
   },
   {
    "duration": 135,
    "start_time": "2025-07-10T07:22:54.292Z"
   },
   {
    "duration": 4222,
    "start_time": "2025-07-10T07:22:54.429Z"
   },
   {
    "duration": 107,
    "start_time": "2025-07-10T07:22:58.653Z"
   },
   {
    "duration": 441,
    "start_time": "2025-07-10T07:22:58.762Z"
   },
   {
    "duration": 183,
    "start_time": "2025-07-10T07:22:59.205Z"
   },
   {
    "duration": 937,
    "start_time": "2025-07-10T07:22:59.390Z"
   },
   {
    "duration": 668,
    "start_time": "2025-07-10T07:23:00.330Z"
   },
   {
    "duration": 1700,
    "start_time": "2025-07-10T07:23:01.000Z"
   },
   {
    "duration": 924,
    "start_time": "2025-07-10T07:23:02.701Z"
   },
   {
    "duration": 1666,
    "start_time": "2025-07-10T07:23:03.626Z"
   },
   {
    "duration": 377,
    "start_time": "2025-07-10T07:23:05.294Z"
   },
   {
    "duration": 15,
    "start_time": "2025-07-10T07:23:05.673Z"
   },
   {
    "duration": 6,
    "start_time": "2025-07-10T07:29:30.793Z"
   },
   {
    "duration": 1234,
    "start_time": "2025-07-10T07:29:41.572Z"
   },
   {
    "duration": 2167,
    "start_time": "2025-07-10T07:29:42.808Z"
   },
   {
    "duration": 111,
    "start_time": "2025-07-10T07:29:44.977Z"
   },
   {
    "duration": 34,
    "start_time": "2025-07-10T07:29:45.090Z"
   },
   {
    "duration": 298,
    "start_time": "2025-07-10T07:29:45.126Z"
   },
   {
    "duration": 65,
    "start_time": "2025-07-10T07:29:45.426Z"
   },
   {
    "duration": 635,
    "start_time": "2025-07-10T07:29:45.492Z"
   },
   {
    "duration": 141,
    "start_time": "2025-07-10T07:29:46.130Z"
   },
   {
    "duration": 4306,
    "start_time": "2025-07-10T07:29:46.273Z"
   },
   {
    "duration": 106,
    "start_time": "2025-07-10T07:29:50.581Z"
   },
   {
    "duration": 439,
    "start_time": "2025-07-10T07:29:50.689Z"
   },
   {
    "duration": 178,
    "start_time": "2025-07-10T07:29:51.130Z"
   },
   {
    "duration": 967,
    "start_time": "2025-07-10T07:29:51.310Z"
   },
   {
    "duration": 615,
    "start_time": "2025-07-10T07:29:52.278Z"
   },
   {
    "duration": 1621,
    "start_time": "2025-07-10T07:29:52.895Z"
   },
   {
    "duration": 964,
    "start_time": "2025-07-10T07:29:54.518Z"
   },
   {
    "duration": 1721,
    "start_time": "2025-07-10T07:29:55.484Z"
   },
   {
    "duration": 380,
    "start_time": "2025-07-10T07:29:57.207Z"
   },
   {
    "duration": 16,
    "start_time": "2025-07-10T07:29:57.588Z"
   },
   {
    "duration": 69,
    "start_time": "2025-07-10T07:31:45.852Z"
   },
   {
    "duration": 422714,
    "start_time": "2025-07-10T07:32:54.572Z"
   },
   {
    "duration": 10,
    "start_time": "2025-07-10T07:40:42.281Z"
   },
   {
    "duration": 32,
    "start_time": "2025-07-10T07:40:52.083Z"
   },
   {
    "duration": 1242,
    "start_time": "2025-07-10T08:24:52.305Z"
   },
   {
    "duration": 9,
    "start_time": "2025-07-10T08:35:59.001Z"
   },
   {
    "duration": 35,
    "start_time": "2025-07-10T08:36:06.102Z"
   },
   {
    "duration": 313,
    "start_time": "2025-07-10T08:41:50.198Z"
   },
   {
    "duration": 640,
    "start_time": "2025-07-10T08:42:07.948Z"
   },
   {
    "duration": 11,
    "start_time": "2025-07-10T09:02:43.097Z"
   },
   {
    "duration": 32,
    "start_time": "2025-07-10T09:07:28.964Z"
   },
   {
    "duration": 30,
    "start_time": "2025-07-10T09:08:01.846Z"
   },
   {
    "duration": 30,
    "start_time": "2025-07-10T09:08:23.433Z"
   },
   {
    "duration": 30,
    "start_time": "2025-07-10T09:08:35.564Z"
   },
   {
    "duration": 32,
    "start_time": "2025-07-10T09:08:47.845Z"
   },
   {
    "duration": 421,
    "start_time": "2025-07-10T09:21:39.597Z"
   },
   {
    "duration": 10,
    "start_time": "2025-07-10T09:21:53.237Z"
   },
   {
    "duration": 10,
    "start_time": "2025-07-10T09:22:06.606Z"
   },
   {
    "duration": 44,
    "start_time": "2025-07-10T10:33:51.351Z"
   },
   {
    "duration": 1194,
    "start_time": "2025-07-10T10:38:25.523Z"
   },
   {
    "duration": 1955,
    "start_time": "2025-07-10T10:38:26.719Z"
   },
   {
    "duration": 129,
    "start_time": "2025-07-10T10:38:28.677Z"
   },
   {
    "duration": 35,
    "start_time": "2025-07-10T10:38:28.809Z"
   },
   {
    "duration": 268,
    "start_time": "2025-07-10T10:38:28.846Z"
   },
   {
    "duration": 67,
    "start_time": "2025-07-10T10:38:29.116Z"
   },
   {
    "duration": 673,
    "start_time": "2025-07-10T10:38:29.185Z"
   },
   {
    "duration": 145,
    "start_time": "2025-07-10T10:38:29.861Z"
   },
   {
    "duration": 4539,
    "start_time": "2025-07-10T10:38:30.007Z"
   },
   {
    "duration": 110,
    "start_time": "2025-07-10T10:38:34.548Z"
   },
   {
    "duration": 442,
    "start_time": "2025-07-10T10:38:34.659Z"
   },
   {
    "duration": 187,
    "start_time": "2025-07-10T10:38:35.102Z"
   },
   {
    "duration": 1009,
    "start_time": "2025-07-10T10:38:35.290Z"
   },
   {
    "duration": 711,
    "start_time": "2025-07-10T10:38:36.301Z"
   },
   {
    "duration": 1703,
    "start_time": "2025-07-10T10:38:37.014Z"
   },
   {
    "duration": 985,
    "start_time": "2025-07-10T10:38:38.718Z"
   },
   {
    "duration": 1781,
    "start_time": "2025-07-10T10:38:39.705Z"
   },
   {
    "duration": 99,
    "start_time": "2025-07-10T10:38:41.487Z"
   },
   {
    "duration": 661,
    "start_time": "2025-07-10T10:38:41.587Z"
   },
   {
    "duration": 27,
    "start_time": "2025-07-10T10:38:42.251Z"
   },
   {
    "duration": 31,
    "start_time": "2025-07-10T10:38:42.284Z"
   },
   {
    "duration": 204,
    "start_time": "2025-07-10T10:43:57.542Z"
   },
   {
    "duration": 299,
    "start_time": "2025-07-10T10:44:09.466Z"
   },
   {
    "duration": 1185,
    "start_time": "2025-07-10T10:44:25.823Z"
   },
   {
    "duration": 2874,
    "start_time": "2025-07-10T10:44:27.010Z"
   },
   {
    "duration": 112,
    "start_time": "2025-07-10T10:44:29.886Z"
   },
   {
    "duration": 34,
    "start_time": "2025-07-10T10:44:30.000Z"
   },
   {
    "duration": 330,
    "start_time": "2025-07-10T10:44:30.037Z"
   },
   {
    "duration": 58,
    "start_time": "2025-07-10T10:44:30.379Z"
   },
   {
    "duration": 719,
    "start_time": "2025-07-10T10:44:30.439Z"
   },
   {
    "duration": 151,
    "start_time": "2025-07-10T10:44:31.160Z"
   },
   {
    "duration": 4550,
    "start_time": "2025-07-10T10:44:31.312Z"
   },
   {
    "duration": 110,
    "start_time": "2025-07-10T10:44:35.864Z"
   },
   {
    "duration": 438,
    "start_time": "2025-07-10T10:44:35.982Z"
   },
   {
    "duration": 183,
    "start_time": "2025-07-10T10:44:36.422Z"
   },
   {
    "duration": 1013,
    "start_time": "2025-07-10T10:44:36.607Z"
   },
   {
    "duration": 697,
    "start_time": "2025-07-10T10:44:37.623Z"
   },
   {
    "duration": 1702,
    "start_time": "2025-07-10T10:44:38.322Z"
   },
   {
    "duration": 1060,
    "start_time": "2025-07-10T10:44:40.026Z"
   },
   {
    "duration": 1799,
    "start_time": "2025-07-10T10:44:41.088Z"
   },
   {
    "duration": 96,
    "start_time": "2025-07-10T10:44:42.888Z"
   },
   {
    "duration": 635,
    "start_time": "2025-07-10T10:44:42.986Z"
   },
   {
    "duration": 10,
    "start_time": "2025-07-10T10:44:43.622Z"
   },
   {
    "duration": 54,
    "start_time": "2025-07-10T10:44:43.634Z"
   },
   {
    "duration": 1280,
    "start_time": "2025-07-10T11:07:07.838Z"
   },
   {
    "duration": 2033,
    "start_time": "2025-07-10T11:07:09.121Z"
   },
   {
    "duration": 104,
    "start_time": "2025-07-10T11:07:11.155Z"
   },
   {
    "duration": 39,
    "start_time": "2025-07-10T11:07:11.261Z"
   },
   {
    "duration": 270,
    "start_time": "2025-07-10T11:07:11.301Z"
   },
   {
    "duration": 57,
    "start_time": "2025-07-10T11:07:11.573Z"
   },
   {
    "duration": 677,
    "start_time": "2025-07-10T11:07:11.631Z"
   },
   {
    "duration": 133,
    "start_time": "2025-07-10T11:07:12.309Z"
   },
   {
    "duration": 4189,
    "start_time": "2025-07-10T11:07:12.443Z"
   },
   {
    "duration": 108,
    "start_time": "2025-07-10T11:07:16.634Z"
   },
   {
    "duration": 447,
    "start_time": "2025-07-10T11:07:16.744Z"
   },
   {
    "duration": 184,
    "start_time": "2025-07-10T11:07:17.192Z"
   },
   {
    "duration": 954,
    "start_time": "2025-07-10T11:07:17.378Z"
   },
   {
    "duration": 666,
    "start_time": "2025-07-10T11:07:18.334Z"
   },
   {
    "duration": 1614,
    "start_time": "2025-07-10T11:07:19.002Z"
   },
   {
    "duration": 998,
    "start_time": "2025-07-10T11:07:20.618Z"
   },
   {
    "duration": 1721,
    "start_time": "2025-07-10T11:07:21.618Z"
   },
   {
    "duration": 88,
    "start_time": "2025-07-10T11:07:23.341Z"
   },
   {
    "duration": 651,
    "start_time": "2025-07-10T11:07:23.431Z"
   },
   {
    "duration": 9,
    "start_time": "2025-07-10T11:07:24.084Z"
   },
   {
    "duration": 33,
    "start_time": "2025-07-10T11:07:24.095Z"
   },
   {
    "duration": 1191,
    "start_time": "2025-07-10T11:25:32.096Z"
   },
   {
    "duration": 2255,
    "start_time": "2025-07-10T11:25:33.289Z"
   },
   {
    "duration": 103,
    "start_time": "2025-07-10T11:25:35.547Z"
   },
   {
    "duration": 38,
    "start_time": "2025-07-10T11:25:35.652Z"
   },
   {
    "duration": 250,
    "start_time": "2025-07-10T11:25:35.692Z"
   },
   {
    "duration": 61,
    "start_time": "2025-07-10T11:25:35.944Z"
   },
   {
    "duration": 706,
    "start_time": "2025-07-10T11:25:36.006Z"
   },
   {
    "duration": 133,
    "start_time": "2025-07-10T11:25:36.714Z"
   },
   {
    "duration": 4177,
    "start_time": "2025-07-10T11:25:36.848Z"
   },
   {
    "duration": 114,
    "start_time": "2025-07-10T11:25:41.028Z"
   },
   {
    "duration": 434,
    "start_time": "2025-07-10T11:25:41.144Z"
   },
   {
    "duration": 182,
    "start_time": "2025-07-10T11:25:41.579Z"
   },
   {
    "duration": 988,
    "start_time": "2025-07-10T11:25:41.763Z"
   },
   {
    "duration": 664,
    "start_time": "2025-07-10T11:25:42.753Z"
   },
   {
    "duration": 1654,
    "start_time": "2025-07-10T11:25:43.419Z"
   },
   {
    "duration": 951,
    "start_time": "2025-07-10T11:25:45.076Z"
   },
   {
    "duration": 1721,
    "start_time": "2025-07-10T11:25:46.029Z"
   },
   {
    "duration": 88,
    "start_time": "2025-07-10T11:25:47.751Z"
   },
   {
    "duration": 652,
    "start_time": "2025-07-10T11:25:47.840Z"
   },
   {
    "duration": 11,
    "start_time": "2025-07-10T11:25:48.493Z"
   },
   {
    "duration": 35,
    "start_time": "2025-07-10T11:25:48.505Z"
   },
   {
    "duration": 1251,
    "start_time": "2025-07-10T21:13:53.640Z"
   },
   {
    "duration": 2199,
    "start_time": "2025-07-10T21:13:54.893Z"
   },
   {
    "duration": 116,
    "start_time": "2025-07-10T21:13:57.094Z"
   },
   {
    "duration": 35,
    "start_time": "2025-07-10T21:13:57.212Z"
   },
   {
    "duration": 259,
    "start_time": "2025-07-10T21:13:57.249Z"
   },
   {
    "duration": 63,
    "start_time": "2025-07-10T21:13:57.509Z"
   },
   {
    "duration": 668,
    "start_time": "2025-07-10T21:13:57.573Z"
   },
   {
    "duration": 133,
    "start_time": "2025-07-10T21:13:58.242Z"
   },
   {
    "duration": 4305,
    "start_time": "2025-07-10T21:13:58.377Z"
   },
   {
    "duration": 107,
    "start_time": "2025-07-10T21:14:02.685Z"
   },
   {
    "duration": 446,
    "start_time": "2025-07-10T21:14:02.793Z"
   },
   {
    "duration": 180,
    "start_time": "2025-07-10T21:14:03.241Z"
   },
   {
    "duration": 1007,
    "start_time": "2025-07-10T21:14:03.423Z"
   },
   {
    "duration": 658,
    "start_time": "2025-07-10T21:14:04.432Z"
   },
   {
    "duration": 1647,
    "start_time": "2025-07-10T21:14:05.092Z"
   },
   {
    "duration": 971,
    "start_time": "2025-07-10T21:14:06.742Z"
   },
   {
    "duration": 1735,
    "start_time": "2025-07-10T21:14:07.714Z"
   },
   {
    "duration": 91,
    "start_time": "2025-07-10T21:14:09.451Z"
   },
   {
    "duration": 688,
    "start_time": "2025-07-10T21:14:09.544Z"
   },
   {
    "duration": 10,
    "start_time": "2025-07-10T21:14:10.234Z"
   },
   {
    "duration": 50,
    "start_time": "2025-07-10T21:14:10.246Z"
   },
   {
    "duration": 82,
    "start_time": "2025-07-11T11:36:57.561Z"
   },
   {
    "duration": 41,
    "start_time": "2025-07-11T11:37:07.249Z"
   },
   {
    "duration": 1293,
    "start_time": "2025-07-11T11:37:20.384Z"
   },
   {
    "duration": 1752,
    "start_time": "2025-07-11T11:37:21.679Z"
   },
   {
    "duration": 92,
    "start_time": "2025-07-11T11:37:23.432Z"
   },
   {
    "duration": 100,
    "start_time": "2025-07-11T11:37:23.526Z"
   },
   {
    "duration": 40,
    "start_time": "2025-07-11T11:37:23.627Z"
   },
   {
    "duration": 227,
    "start_time": "2025-07-11T11:37:23.668Z"
   },
   {
    "duration": 51,
    "start_time": "2025-07-11T11:37:23.897Z"
   },
   {
    "duration": 644,
    "start_time": "2025-07-11T11:37:23.949Z"
   },
   {
    "duration": 131,
    "start_time": "2025-07-11T11:37:24.595Z"
   },
   {
    "duration": 4098,
    "start_time": "2025-07-11T11:37:24.728Z"
   },
   {
    "duration": 100,
    "start_time": "2025-07-11T11:37:28.828Z"
   },
   {
    "duration": 420,
    "start_time": "2025-07-11T11:37:28.930Z"
   },
   {
    "duration": 162,
    "start_time": "2025-07-11T11:37:29.352Z"
   },
   {
    "duration": 997,
    "start_time": "2025-07-11T11:37:29.516Z"
   },
   {
    "duration": 605,
    "start_time": "2025-07-11T11:37:30.515Z"
   },
   {
    "duration": 1516,
    "start_time": "2025-07-11T11:37:31.122Z"
   },
   {
    "duration": 880,
    "start_time": "2025-07-11T11:37:32.640Z"
   },
   {
    "duration": 1611,
    "start_time": "2025-07-11T11:37:33.522Z"
   },
   {
    "duration": 86,
    "start_time": "2025-07-11T11:37:35.134Z"
   },
   {
    "duration": 581,
    "start_time": "2025-07-11T11:37:35.221Z"
   },
   {
    "duration": 14,
    "start_time": "2025-07-11T11:37:35.805Z"
   },
   {
    "duration": 52,
    "start_time": "2025-07-11T11:37:35.821Z"
   },
   {
    "duration": 82,
    "start_time": "2025-07-11T11:38:56.651Z"
   },
   {
    "duration": 19,
    "start_time": "2025-07-11T11:39:01.433Z"
   },
   {
    "duration": 11,
    "start_time": "2025-07-11T11:39:20.553Z"
   },
   {
    "duration": 444,
    "start_time": "2025-07-11T12:03:58.042Z"
   },
   {
    "duration": 454,
    "start_time": "2025-07-11T12:07:01.938Z"
   },
   {
    "duration": 678,
    "start_time": "2025-07-11T12:12:59.973Z"
   },
   {
    "duration": 366,
    "start_time": "2025-07-11T12:29:18.397Z"
   },
   {
    "duration": 80,
    "start_time": "2025-07-11T12:29:52.526Z"
   },
   {
    "duration": 11,
    "start_time": "2025-07-11T12:30:19.902Z"
   },
   {
    "duration": 8,
    "start_time": "2025-07-11T12:33:46.126Z"
   },
   {
    "duration": 3,
    "start_time": "2025-07-11T12:41:38.566Z"
   },
   {
    "duration": 494,
    "start_time": "2025-07-11T12:45:49.657Z"
   },
   {
    "duration": 527,
    "start_time": "2025-07-11T12:47:19.164Z"
   },
   {
    "duration": 446,
    "start_time": "2025-07-11T12:51:58.459Z"
   },
   {
    "duration": 366,
    "start_time": "2025-07-11T12:52:19.298Z"
   },
   {
    "duration": 431,
    "start_time": "2025-07-11T12:53:06.354Z"
   },
   {
    "duration": 108,
    "start_time": "2025-07-11T13:22:01.483Z"
   },
   {
    "duration": 95,
    "start_time": "2025-07-11T13:23:18.070Z"
   },
   {
    "duration": 155,
    "start_time": "2025-07-11T13:24:16.412Z"
   },
   {
    "duration": 78,
    "start_time": "2025-07-11T14:10:10.746Z"
   },
   {
    "duration": 1130,
    "start_time": "2025-07-11T14:28:27.636Z"
   },
   {
    "duration": 2005,
    "start_time": "2025-07-11T14:28:28.768Z"
   },
   {
    "duration": 101,
    "start_time": "2025-07-11T14:28:30.774Z"
   },
   {
    "duration": 16,
    "start_time": "2025-07-11T14:28:30.877Z"
   },
   {
    "duration": 16,
    "start_time": "2025-07-11T14:28:30.894Z"
   },
   {
    "duration": 109,
    "start_time": "2025-07-11T14:28:30.911Z"
   },
   {
    "duration": 184,
    "start_time": "2025-07-11T14:28:31.021Z"
   },
   {
    "duration": 535,
    "start_time": "2025-07-11T14:28:31.207Z"
   },
   {
    "duration": 253,
    "start_time": "2025-07-11T14:28:31.744Z"
   },
   {
    "duration": 92,
    "start_time": "2025-07-11T14:28:32.000Z"
   },
   {
    "duration": 11,
    "start_time": "2025-07-11T14:28:32.094Z"
   },
   {
    "duration": 119,
    "start_time": "2025-07-11T14:28:32.106Z"
   },
   {
    "duration": 0,
    "start_time": "2025-07-11T14:28:32.226Z"
   },
   {
    "duration": 0,
    "start_time": "2025-07-11T14:28:32.228Z"
   },
   {
    "duration": 0,
    "start_time": "2025-07-11T14:28:32.229Z"
   },
   {
    "duration": 0,
    "start_time": "2025-07-11T14:28:32.230Z"
   },
   {
    "duration": 0,
    "start_time": "2025-07-11T14:28:32.231Z"
   },
   {
    "duration": 0,
    "start_time": "2025-07-11T14:28:32.232Z"
   },
   {
    "duration": 0,
    "start_time": "2025-07-11T14:28:32.233Z"
   },
   {
    "duration": 0,
    "start_time": "2025-07-11T14:28:32.234Z"
   },
   {
    "duration": 0,
    "start_time": "2025-07-11T14:28:32.235Z"
   },
   {
    "duration": 0,
    "start_time": "2025-07-11T14:28:32.236Z"
   },
   {
    "duration": 0,
    "start_time": "2025-07-11T14:28:32.261Z"
   },
   {
    "duration": 0,
    "start_time": "2025-07-11T14:28:32.262Z"
   },
   {
    "duration": 0,
    "start_time": "2025-07-11T14:28:32.263Z"
   },
   {
    "duration": 0,
    "start_time": "2025-07-11T14:28:32.264Z"
   },
   {
    "duration": 0,
    "start_time": "2025-07-11T14:28:32.265Z"
   },
   {
    "duration": 0,
    "start_time": "2025-07-11T14:28:32.266Z"
   },
   {
    "duration": 0,
    "start_time": "2025-07-11T14:28:32.267Z"
   },
   {
    "duration": 0,
    "start_time": "2025-07-11T14:28:32.269Z"
   },
   {
    "duration": 1462,
    "start_time": "2025-07-11T14:29:38.821Z"
   },
   {
    "duration": 8,
    "start_time": "2025-07-11T14:34:00.440Z"
   },
   {
    "duration": 108,
    "start_time": "2025-07-11T14:42:22.610Z"
   },
   {
    "duration": 4,
    "start_time": "2025-07-11T14:44:26.094Z"
   },
   {
    "duration": 781,
    "start_time": "2025-07-11T14:56:58.787Z"
   },
   {
    "duration": 571,
    "start_time": "2025-07-11T15:04:07.640Z"
   },
   {
    "duration": 147,
    "start_time": "2025-07-11T15:05:13.993Z"
   },
   {
    "duration": 52,
    "start_time": "2025-07-11T15:06:02.119Z"
   },
   {
    "duration": 3,
    "start_time": "2025-07-11T15:15:52.549Z"
   },
   {
    "duration": 277,
    "start_time": "2025-07-11T15:16:06.123Z"
   },
   {
    "duration": 83,
    "start_time": "2025-07-11T15:22:44.876Z"
   },
   {
    "duration": 12,
    "start_time": "2025-07-11T15:23:16.107Z"
   },
   {
    "duration": 1349,
    "start_time": "2025-07-11T15:24:12.600Z"
   },
   {
    "duration": 202,
    "start_time": "2025-07-11T15:25:57.112Z"
   },
   {
    "duration": 15,
    "start_time": "2025-07-11T15:26:44.094Z"
   },
   {
    "duration": 1487,
    "start_time": "2025-07-11T15:27:07.215Z"
   },
   {
    "duration": 1164,
    "start_time": "2025-07-11T15:28:22.532Z"
   },
   {
    "duration": 1533,
    "start_time": "2025-07-11T15:28:23.698Z"
   },
   {
    "duration": 92,
    "start_time": "2025-07-11T15:28:25.233Z"
   },
   {
    "duration": 16,
    "start_time": "2025-07-11T15:28:25.327Z"
   },
   {
    "duration": 21,
    "start_time": "2025-07-11T15:28:25.345Z"
   },
   {
    "duration": 104,
    "start_time": "2025-07-11T15:28:25.368Z"
   },
   {
    "duration": 178,
    "start_time": "2025-07-11T15:28:25.473Z"
   },
   {
    "duration": 542,
    "start_time": "2025-07-11T15:28:25.652Z"
   },
   {
    "duration": 232,
    "start_time": "2025-07-11T15:28:26.195Z"
   },
   {
    "duration": 88,
    "start_time": "2025-07-11T15:28:26.429Z"
   },
   {
    "duration": 10,
    "start_time": "2025-07-11T15:28:26.519Z"
   },
   {
    "duration": 666,
    "start_time": "2025-07-11T15:28:26.531Z"
   },
   {
    "duration": 154,
    "start_time": "2025-07-11T15:28:27.199Z"
   },
   {
    "duration": 4093,
    "start_time": "2025-07-11T15:28:27.355Z"
   },
   {
    "duration": 116,
    "start_time": "2025-07-11T15:28:31.449Z"
   },
   {
    "duration": 4,
    "start_time": "2025-07-11T15:28:31.566Z"
   },
   {
    "duration": 449,
    "start_time": "2025-07-11T15:28:31.571Z"
   },
   {
    "duration": 157,
    "start_time": "2025-07-11T15:28:32.021Z"
   },
   {
    "duration": 984,
    "start_time": "2025-07-11T15:28:32.180Z"
   },
   {
    "duration": 600,
    "start_time": "2025-07-11T15:28:33.166Z"
   },
   {
    "duration": 1437,
    "start_time": "2025-07-11T15:28:33.767Z"
   },
   {
    "duration": 908,
    "start_time": "2025-07-11T15:28:35.206Z"
   },
   {
    "duration": 1714,
    "start_time": "2025-07-11T15:28:36.116Z"
   },
   {
    "duration": 80,
    "start_time": "2025-07-11T15:28:37.832Z"
   },
   {
    "duration": 570,
    "start_time": "2025-07-11T15:28:37.914Z"
   },
   {
    "duration": 10,
    "start_time": "2025-07-11T15:28:38.485Z"
   },
   {
    "duration": 101,
    "start_time": "2025-07-11T15:28:38.497Z"
   },
   {
    "duration": 104,
    "start_time": "2025-07-11T15:28:38.602Z"
   },
   {
    "duration": 0,
    "start_time": "2025-07-11T15:28:38.707Z"
   },
   {
    "duration": 92,
    "start_time": "2025-07-11T15:30:16.357Z"
   },
   {
    "duration": 91,
    "start_time": "2025-07-11T15:30:19.568Z"
   },
   {
    "duration": 12,
    "start_time": "2025-07-11T15:41:33.389Z"
   },
   {
    "duration": 8,
    "start_time": "2025-07-11T15:41:43.777Z"
   },
   {
    "duration": 1177,
    "start_time": "2025-07-11T15:43:11.083Z"
   },
   {
    "duration": 1745,
    "start_time": "2025-07-11T15:43:12.262Z"
   },
   {
    "duration": 98,
    "start_time": "2025-07-11T15:43:14.009Z"
   },
   {
    "duration": 17,
    "start_time": "2025-07-11T15:43:14.109Z"
   },
   {
    "duration": 9,
    "start_time": "2025-07-11T15:43:14.128Z"
   },
   {
    "duration": 112,
    "start_time": "2025-07-11T15:43:14.139Z"
   },
   {
    "duration": 179,
    "start_time": "2025-07-11T15:43:14.260Z"
   },
   {
    "duration": 526,
    "start_time": "2025-07-11T15:43:14.442Z"
   },
   {
    "duration": 235,
    "start_time": "2025-07-11T15:43:14.971Z"
   },
   {
    "duration": 89,
    "start_time": "2025-07-11T15:43:15.209Z"
   },
   {
    "duration": 10,
    "start_time": "2025-07-11T15:43:15.300Z"
   },
   {
    "duration": 157,
    "start_time": "2025-07-11T15:43:15.312Z"
   },
   {
    "duration": 0,
    "start_time": "2025-07-11T15:43:15.471Z"
   },
   {
    "duration": 1,
    "start_time": "2025-07-11T15:43:15.472Z"
   },
   {
    "duration": 0,
    "start_time": "2025-07-11T15:43:15.474Z"
   },
   {
    "duration": 0,
    "start_time": "2025-07-11T15:43:15.475Z"
   },
   {
    "duration": 0,
    "start_time": "2025-07-11T15:43:15.476Z"
   },
   {
    "duration": 0,
    "start_time": "2025-07-11T15:43:15.478Z"
   },
   {
    "duration": 0,
    "start_time": "2025-07-11T15:43:15.479Z"
   },
   {
    "duration": 0,
    "start_time": "2025-07-11T15:43:15.480Z"
   },
   {
    "duration": 0,
    "start_time": "2025-07-11T15:43:15.481Z"
   },
   {
    "duration": 0,
    "start_time": "2025-07-11T15:43:15.482Z"
   },
   {
    "duration": 0,
    "start_time": "2025-07-11T15:43:15.483Z"
   },
   {
    "duration": 0,
    "start_time": "2025-07-11T15:43:15.484Z"
   },
   {
    "duration": 0,
    "start_time": "2025-07-11T15:43:15.485Z"
   },
   {
    "duration": 0,
    "start_time": "2025-07-11T15:43:15.486Z"
   },
   {
    "duration": 0,
    "start_time": "2025-07-11T15:43:15.487Z"
   },
   {
    "duration": 0,
    "start_time": "2025-07-11T15:43:15.488Z"
   },
   {
    "duration": 0,
    "start_time": "2025-07-11T15:43:15.489Z"
   },
   {
    "duration": 0,
    "start_time": "2025-07-11T15:43:15.490Z"
   },
   {
    "duration": 1559,
    "start_time": "2025-07-11T15:44:59.934Z"
   },
   {
    "duration": 1518,
    "start_time": "2025-07-11T15:45:34.188Z"
   },
   {
    "duration": 3189,
    "start_time": "2025-07-11T15:52:50.980Z"
   },
   {
    "duration": 91,
    "start_time": "2025-07-11T15:54:12.367Z"
   },
   {
    "duration": 93,
    "start_time": "2025-07-11T16:10:09.501Z"
   },
   {
    "duration": 704,
    "start_time": "2025-07-11T16:11:01.675Z"
   },
   {
    "duration": 74,
    "start_time": "2025-07-11T16:11:34.306Z"
   },
   {
    "duration": 4140,
    "start_time": "2025-07-11T16:17:11.308Z"
   },
   {
    "duration": 92,
    "start_time": "2025-07-11T16:17:21.933Z"
   },
   {
    "duration": 5,
    "start_time": "2025-07-11T16:17:55.454Z"
   },
   {
    "duration": 1218,
    "start_time": "2025-07-11T16:19:48.464Z"
   },
   {
    "duration": 1841,
    "start_time": "2025-07-11T16:19:49.685Z"
   },
   {
    "duration": 93,
    "start_time": "2025-07-11T16:19:51.528Z"
   },
   {
    "duration": 58,
    "start_time": "2025-07-11T16:19:51.624Z"
   },
   {
    "duration": 15,
    "start_time": "2025-07-11T16:19:51.684Z"
   },
   {
    "duration": 97,
    "start_time": "2025-07-11T16:19:51.701Z"
   },
   {
    "duration": 187,
    "start_time": "2025-07-11T16:19:51.800Z"
   },
   {
    "duration": 512,
    "start_time": "2025-07-11T16:19:51.988Z"
   },
   {
    "duration": 225,
    "start_time": "2025-07-11T16:19:52.501Z"
   },
   {
    "duration": 89,
    "start_time": "2025-07-11T16:19:52.729Z"
   },
   {
    "duration": 10,
    "start_time": "2025-07-11T16:19:52.820Z"
   },
   {
    "duration": 693,
    "start_time": "2025-07-11T16:19:52.832Z"
   },
   {
    "duration": 161,
    "start_time": "2025-07-11T16:19:53.527Z"
   },
   {
    "duration": 4059,
    "start_time": "2025-07-11T16:19:53.690Z"
   },
   {
    "duration": 12,
    "start_time": "2025-07-11T16:19:57.751Z"
   },
   {
    "duration": 129,
    "start_time": "2025-07-11T16:19:57.765Z"
   },
   {
    "duration": 3,
    "start_time": "2025-07-11T16:19:57.896Z"
   },
   {
    "duration": 621,
    "start_time": "2025-07-11T16:19:57.901Z"
   },
   {
    "duration": 169,
    "start_time": "2025-07-11T16:19:58.523Z"
   },
   {
    "duration": 1019,
    "start_time": "2025-07-11T16:19:58.694Z"
   },
   {
    "duration": 664,
    "start_time": "2025-07-11T16:19:59.715Z"
   },
   {
    "duration": 1458,
    "start_time": "2025-07-11T16:20:00.381Z"
   },
   {
    "duration": 907,
    "start_time": "2025-07-11T16:20:01.840Z"
   },
   {
    "duration": 1659,
    "start_time": "2025-07-11T16:20:02.760Z"
   },
   {
    "duration": 86,
    "start_time": "2025-07-11T16:20:04.420Z"
   },
   {
    "duration": 615,
    "start_time": "2025-07-11T16:20:04.508Z"
   },
   {
    "duration": 9,
    "start_time": "2025-07-11T16:20:05.124Z"
   },
   {
    "duration": 91,
    "start_time": "2025-07-11T16:20:05.136Z"
   },
   {
    "duration": 103,
    "start_time": "2025-07-11T16:20:05.228Z"
   },
   {
    "duration": 0,
    "start_time": "2025-07-11T16:20:05.333Z"
   },
   {
    "duration": 5,
    "start_time": "2025-07-11T16:22:03.762Z"
   },
   {
    "duration": 53,
    "start_time": "2025-07-12T06:44:42.714Z"
   },
   {
    "duration": 1365,
    "start_time": "2025-07-12T06:44:57.550Z"
   },
   {
    "duration": 1794,
    "start_time": "2025-07-12T06:44:58.917Z"
   },
   {
    "duration": 114,
    "start_time": "2025-07-12T06:45:00.713Z"
   },
   {
    "duration": 19,
    "start_time": "2025-07-12T06:45:00.830Z"
   },
   {
    "duration": 89,
    "start_time": "2025-07-12T06:45:00.851Z"
   },
   {
    "duration": 148,
    "start_time": "2025-07-12T06:45:00.942Z"
   },
   {
    "duration": 241,
    "start_time": "2025-07-12T06:45:01.092Z"
   },
   {
    "duration": 630,
    "start_time": "2025-07-12T06:45:01.335Z"
   },
   {
    "duration": 236,
    "start_time": "2025-07-12T06:45:01.967Z"
   },
   {
    "duration": 293,
    "start_time": "2025-07-12T06:45:02.206Z"
   },
   {
    "duration": 108,
    "start_time": "2025-07-12T06:45:02.501Z"
   },
   {
    "duration": 55,
    "start_time": "2025-07-12T06:45:02.611Z"
   },
   {
    "duration": 745,
    "start_time": "2025-07-12T06:45:02.668Z"
   },
   {
    "duration": 148,
    "start_time": "2025-07-12T06:45:03.415Z"
   },
   {
    "duration": 4534,
    "start_time": "2025-07-12T06:45:03.565Z"
   },
   {
    "duration": 111,
    "start_time": "2025-07-12T06:45:08.101Z"
   },
   {
    "duration": 6,
    "start_time": "2025-07-12T06:45:08.213Z"
   },
   {
    "duration": 30,
    "start_time": "2025-07-12T06:45:08.221Z"
   },
   {
    "duration": 486,
    "start_time": "2025-07-12T06:45:08.253Z"
   },
   {
    "duration": 181,
    "start_time": "2025-07-12T06:45:08.741Z"
   },
   {
    "duration": 1072,
    "start_time": "2025-07-12T06:45:08.924Z"
   },
   {
    "duration": 652,
    "start_time": "2025-07-12T06:45:09.998Z"
   },
   {
    "duration": 1643,
    "start_time": "2025-07-12T06:45:10.652Z"
   },
   {
    "duration": 997,
    "start_time": "2025-07-12T06:45:12.297Z"
   },
   {
    "duration": 1884,
    "start_time": "2025-07-12T06:45:13.296Z"
   },
   {
    "duration": 76,
    "start_time": "2025-07-12T06:45:15.190Z"
   },
   {
    "duration": 713,
    "start_time": "2025-07-12T06:45:15.268Z"
   },
   {
    "duration": 14,
    "start_time": "2025-07-12T06:45:15.984Z"
   },
   {
    "duration": 169,
    "start_time": "2025-07-12T06:45:16.000Z"
   },
   {
    "duration": 240,
    "start_time": "2025-07-12T06:45:16.171Z"
   },
   {
    "duration": 0,
    "start_time": "2025-07-12T06:45:16.413Z"
   },
   {
    "duration": 3387,
    "start_time": "2025-07-12T06:52:04.765Z"
   },
   {
    "duration": 125,
    "start_time": "2025-07-12T06:53:05.590Z"
   },
   {
    "duration": 111,
    "start_time": "2025-07-12T06:53:27.703Z"
   },
   {
    "duration": 1999,
    "start_time": "2025-07-12T07:17:33.331Z"
   },
   {
    "duration": 1236,
    "start_time": "2025-07-12T07:18:01.918Z"
   },
   {
    "duration": 1787,
    "start_time": "2025-07-12T07:18:03.156Z"
   },
   {
    "duration": 124,
    "start_time": "2025-07-12T07:18:04.945Z"
   },
   {
    "duration": 39,
    "start_time": "2025-07-12T07:18:05.072Z"
   },
   {
    "duration": 32,
    "start_time": "2025-07-12T07:18:05.113Z"
   },
   {
    "duration": 133,
    "start_time": "2025-07-12T07:18:05.149Z"
   },
   {
    "duration": 251,
    "start_time": "2025-07-12T07:18:05.289Z"
   },
   {
    "duration": 632,
    "start_time": "2025-07-12T07:18:05.542Z"
   },
   {
    "duration": 3561,
    "start_time": "2025-07-12T07:18:06.176Z"
   },
   {
    "duration": 98,
    "start_time": "2025-07-12T07:18:09.740Z"
   },
   {
    "duration": 141,
    "start_time": "2025-07-12T07:18:09.840Z"
   },
   {
    "duration": 122,
    "start_time": "2025-07-12T07:18:09.982Z"
   },
   {
    "duration": 0,
    "start_time": "2025-07-12T07:18:10.106Z"
   },
   {
    "duration": 0,
    "start_time": "2025-07-12T07:18:10.107Z"
   },
   {
    "duration": 0,
    "start_time": "2025-07-12T07:18:10.108Z"
   },
   {
    "duration": 0,
    "start_time": "2025-07-12T07:18:10.109Z"
   },
   {
    "duration": 0,
    "start_time": "2025-07-12T07:18:10.110Z"
   },
   {
    "duration": 0,
    "start_time": "2025-07-12T07:18:10.111Z"
   },
   {
    "duration": 0,
    "start_time": "2025-07-12T07:18:10.113Z"
   },
   {
    "duration": 0,
    "start_time": "2025-07-12T07:18:10.114Z"
   },
   {
    "duration": 0,
    "start_time": "2025-07-12T07:18:10.115Z"
   },
   {
    "duration": 0,
    "start_time": "2025-07-12T07:18:10.116Z"
   },
   {
    "duration": 0,
    "start_time": "2025-07-12T07:18:10.117Z"
   },
   {
    "duration": 0,
    "start_time": "2025-07-12T07:18:10.119Z"
   },
   {
    "duration": 0,
    "start_time": "2025-07-12T07:18:10.120Z"
   },
   {
    "duration": 0,
    "start_time": "2025-07-12T07:18:10.121Z"
   },
   {
    "duration": 0,
    "start_time": "2025-07-12T07:18:10.122Z"
   },
   {
    "duration": 0,
    "start_time": "2025-07-12T07:18:10.123Z"
   },
   {
    "duration": 0,
    "start_time": "2025-07-12T07:18:10.125Z"
   },
   {
    "duration": 0,
    "start_time": "2025-07-12T07:18:10.125Z"
   },
   {
    "duration": 0,
    "start_time": "2025-07-12T07:18:10.126Z"
   },
   {
    "duration": 651,
    "start_time": "2025-07-12T07:21:30.933Z"
   },
   {
    "duration": 3584,
    "start_time": "2025-07-12T07:21:56.397Z"
   },
   {
    "duration": 579,
    "start_time": "2025-07-12T08:22:11.889Z"
   },
   {
    "duration": 108,
    "start_time": "2025-07-12T08:24:20.702Z"
   },
   {
    "duration": 3666,
    "start_time": "2025-07-12T08:25:39.508Z"
   },
   {
    "duration": 3709,
    "start_time": "2025-07-12T08:27:22.446Z"
   },
   {
    "duration": 405,
    "start_time": "2025-07-12T08:28:43.619Z"
   },
   {
    "duration": 393,
    "start_time": "2025-07-12T08:29:24.146Z"
   },
   {
    "duration": 1195,
    "start_time": "2025-07-12T08:29:48.627Z"
   },
   {
    "duration": 1820,
    "start_time": "2025-07-12T08:29:49.825Z"
   },
   {
    "duration": 110,
    "start_time": "2025-07-12T08:29:51.646Z"
   },
   {
    "duration": 17,
    "start_time": "2025-07-12T08:29:51.758Z"
   },
   {
    "duration": 75,
    "start_time": "2025-07-12T08:29:51.777Z"
   },
   {
    "duration": 139,
    "start_time": "2025-07-12T08:29:51.854Z"
   },
   {
    "duration": 218,
    "start_time": "2025-07-12T08:29:51.995Z"
   },
   {
    "duration": 599,
    "start_time": "2025-07-12T08:29:52.215Z"
   },
   {
    "duration": 3606,
    "start_time": "2025-07-12T08:29:52.815Z"
   },
   {
    "duration": 103,
    "start_time": "2025-07-12T08:29:56.424Z"
   },
   {
    "duration": 124,
    "start_time": "2025-07-12T08:29:56.529Z"
   },
   {
    "duration": 694,
    "start_time": "2025-07-12T08:29:56.655Z"
   },
   {
    "duration": 107,
    "start_time": "2025-07-12T08:29:57.351Z"
   },
   {
    "duration": 3961,
    "start_time": "2025-07-12T08:29:57.460Z"
   },
   {
    "duration": 1776,
    "start_time": "2025-07-12T08:30:01.423Z"
   },
   {
    "duration": 0,
    "start_time": "2025-07-12T08:30:03.202Z"
   },
   {
    "duration": 0,
    "start_time": "2025-07-12T08:30:03.203Z"
   },
   {
    "duration": 0,
    "start_time": "2025-07-12T08:30:03.205Z"
   },
   {
    "duration": 0,
    "start_time": "2025-07-12T08:30:03.206Z"
   },
   {
    "duration": 0,
    "start_time": "2025-07-12T08:30:03.208Z"
   },
   {
    "duration": 1,
    "start_time": "2025-07-12T08:30:03.209Z"
   },
   {
    "duration": 0,
    "start_time": "2025-07-12T08:30:03.211Z"
   },
   {
    "duration": 0,
    "start_time": "2025-07-12T08:30:03.213Z"
   },
   {
    "duration": 0,
    "start_time": "2025-07-12T08:30:03.214Z"
   },
   {
    "duration": 0,
    "start_time": "2025-07-12T08:30:03.216Z"
   },
   {
    "duration": 0,
    "start_time": "2025-07-12T08:30:03.217Z"
   },
   {
    "duration": 0,
    "start_time": "2025-07-12T08:30:03.219Z"
   },
   {
    "duration": 0,
    "start_time": "2025-07-12T08:30:03.220Z"
   },
   {
    "duration": 0,
    "start_time": "2025-07-12T08:30:03.222Z"
   },
   {
    "duration": 0,
    "start_time": "2025-07-12T08:30:03.224Z"
   },
   {
    "duration": 93,
    "start_time": "2025-07-12T08:31:01.778Z"
   },
   {
    "duration": 194,
    "start_time": "2025-07-12T08:34:00.759Z"
   },
   {
    "duration": 88,
    "start_time": "2025-07-12T08:48:19.058Z"
   },
   {
    "duration": 1258,
    "start_time": "2025-07-12T08:49:24.172Z"
   },
   {
    "duration": 1690,
    "start_time": "2025-07-12T08:49:25.432Z"
   },
   {
    "duration": 110,
    "start_time": "2025-07-12T08:49:27.124Z"
   },
   {
    "duration": 17,
    "start_time": "2025-07-12T08:49:27.236Z"
   },
   {
    "duration": 207,
    "start_time": "2025-07-12T08:49:27.255Z"
   },
   {
    "duration": 274,
    "start_time": "2025-07-12T08:49:27.463Z"
   },
   {
    "duration": 326,
    "start_time": "2025-07-12T08:49:27.739Z"
   },
   {
    "duration": 544,
    "start_time": "2025-07-12T08:49:28.067Z"
   },
   {
    "duration": 3565,
    "start_time": "2025-07-12T08:49:28.612Z"
   },
   {
    "duration": 92,
    "start_time": "2025-07-12T08:49:32.180Z"
   },
   {
    "duration": 140,
    "start_time": "2025-07-12T08:49:32.274Z"
   },
   {
    "duration": 620,
    "start_time": "2025-07-12T08:49:32.416Z"
   },
   {
    "duration": 114,
    "start_time": "2025-07-12T08:49:33.038Z"
   },
   {
    "duration": 3793,
    "start_time": "2025-07-12T08:49:33.154Z"
   },
   {
    "duration": 94,
    "start_time": "2025-07-12T08:49:36.949Z"
   },
   {
    "duration": 450,
    "start_time": "2025-07-12T08:49:37.045Z"
   },
   {
    "duration": 182,
    "start_time": "2025-07-12T08:49:37.497Z"
   },
   {
    "duration": 1010,
    "start_time": "2025-07-12T08:49:37.681Z"
   },
   {
    "duration": 704,
    "start_time": "2025-07-12T08:49:38.693Z"
   },
   {
    "duration": 1495,
    "start_time": "2025-07-12T08:49:39.399Z"
   },
   {
    "duration": 952,
    "start_time": "2025-07-12T08:49:40.896Z"
   },
   {
    "duration": 1673,
    "start_time": "2025-07-12T08:49:41.850Z"
   },
   {
    "duration": 87,
    "start_time": "2025-07-12T08:49:43.524Z"
   },
   {
    "duration": 838,
    "start_time": "2025-07-12T08:49:43.613Z"
   },
   {
    "duration": 10,
    "start_time": "2025-07-12T08:49:44.453Z"
   },
   {
    "duration": 111,
    "start_time": "2025-07-12T08:49:44.464Z"
   },
   {
    "duration": 110,
    "start_time": "2025-07-12T08:49:44.577Z"
   },
   {
    "duration": 0,
    "start_time": "2025-07-12T08:49:44.691Z"
   },
   {
    "duration": 380,
    "start_time": "2025-07-12T08:56:10.329Z"
   },
   {
    "duration": 372,
    "start_time": "2025-07-12T08:58:02.362Z"
   },
   {
    "duration": 1194,
    "start_time": "2025-07-12T08:58:12.014Z"
   },
   {
    "duration": 1669,
    "start_time": "2025-07-12T08:58:13.211Z"
   },
   {
    "duration": 102,
    "start_time": "2025-07-12T08:58:14.881Z"
   },
   {
    "duration": 21,
    "start_time": "2025-07-12T08:58:14.985Z"
   },
   {
    "duration": 99,
    "start_time": "2025-07-12T08:58:15.007Z"
   },
   {
    "duration": 148,
    "start_time": "2025-07-12T08:58:15.108Z"
   },
   {
    "duration": 263,
    "start_time": "2025-07-12T08:58:15.258Z"
   },
   {
    "duration": 585,
    "start_time": "2025-07-12T08:58:15.523Z"
   },
   {
    "duration": 3627,
    "start_time": "2025-07-12T08:58:16.110Z"
   },
   {
    "duration": 107,
    "start_time": "2025-07-12T08:58:19.740Z"
   },
   {
    "duration": 132,
    "start_time": "2025-07-12T08:58:19.849Z"
   },
   {
    "duration": 690,
    "start_time": "2025-07-12T08:58:19.982Z"
   },
   {
    "duration": 123,
    "start_time": "2025-07-12T08:58:20.674Z"
   },
   {
    "duration": 3955,
    "start_time": "2025-07-12T08:58:20.803Z"
   },
   {
    "duration": 115,
    "start_time": "2025-07-12T08:58:24.760Z"
   },
   {
    "duration": 441,
    "start_time": "2025-07-12T08:58:24.877Z"
   },
   {
    "duration": 183,
    "start_time": "2025-07-12T08:58:25.320Z"
   },
   {
    "duration": 1025,
    "start_time": "2025-07-12T08:58:25.506Z"
   },
   {
    "duration": 789,
    "start_time": "2025-07-12T08:58:26.534Z"
   },
   {
    "duration": 1587,
    "start_time": "2025-07-12T08:58:27.325Z"
   },
   {
    "duration": 998,
    "start_time": "2025-07-12T08:58:28.914Z"
   },
   {
    "duration": 1787,
    "start_time": "2025-07-12T08:58:29.914Z"
   },
   {
    "duration": 94,
    "start_time": "2025-07-12T08:58:31.708Z"
   },
   {
    "duration": 741,
    "start_time": "2025-07-12T08:58:31.805Z"
   },
   {
    "duration": 10,
    "start_time": "2025-07-12T08:58:32.548Z"
   },
   {
    "duration": 99,
    "start_time": "2025-07-12T08:58:32.559Z"
   },
   {
    "duration": 108,
    "start_time": "2025-07-12T08:58:32.659Z"
   },
   {
    "duration": 0,
    "start_time": "2025-07-12T08:58:32.769Z"
   },
   {
    "duration": 451,
    "start_time": "2025-07-12T08:59:58.000Z"
   },
   {
    "duration": 1255,
    "start_time": "2025-07-12T09:14:20.426Z"
   },
   {
    "duration": 1663,
    "start_time": "2025-07-12T09:14:21.682Z"
   },
   {
    "duration": 109,
    "start_time": "2025-07-12T09:14:23.347Z"
   },
   {
    "duration": 18,
    "start_time": "2025-07-12T09:14:23.458Z"
   },
   {
    "duration": 28,
    "start_time": "2025-07-12T09:14:23.477Z"
   },
   {
    "duration": 115,
    "start_time": "2025-07-12T09:14:23.507Z"
   },
   {
    "duration": 214,
    "start_time": "2025-07-12T09:14:23.623Z"
   },
   {
    "duration": 597,
    "start_time": "2025-07-12T09:14:23.839Z"
   },
   {
    "duration": 3850,
    "start_time": "2025-07-12T09:14:24.438Z"
   },
   {
    "duration": 103,
    "start_time": "2025-07-12T09:14:28.290Z"
   },
   {
    "duration": 135,
    "start_time": "2025-07-12T09:14:28.395Z"
   },
   {
    "duration": 665,
    "start_time": "2025-07-12T09:14:28.531Z"
   },
   {
    "duration": 118,
    "start_time": "2025-07-12T09:14:29.198Z"
   },
   {
    "duration": 4107,
    "start_time": "2025-07-12T09:14:29.318Z"
   },
   {
    "duration": 107,
    "start_time": "2025-07-12T09:14:33.427Z"
   },
   {
    "duration": 483,
    "start_time": "2025-07-12T09:14:33.536Z"
   },
   {
    "duration": 193,
    "start_time": "2025-07-12T09:14:34.021Z"
   },
   {
    "duration": 1056,
    "start_time": "2025-07-12T09:14:34.216Z"
   },
   {
    "duration": 829,
    "start_time": "2025-07-12T09:14:35.289Z"
   },
   {
    "duration": 1693,
    "start_time": "2025-07-12T09:14:36.120Z"
   },
   {
    "duration": 986,
    "start_time": "2025-07-12T09:14:37.814Z"
   },
   {
    "duration": 1743,
    "start_time": "2025-07-12T09:14:38.802Z"
   },
   {
    "duration": 101,
    "start_time": "2025-07-12T09:14:40.546Z"
   },
   {
    "duration": 694,
    "start_time": "2025-07-12T09:14:40.649Z"
   },
   {
    "duration": 10,
    "start_time": "2025-07-12T09:14:41.345Z"
   },
   {
    "duration": 76,
    "start_time": "2025-07-12T09:14:41.357Z"
   },
   {
    "duration": 119,
    "start_time": "2025-07-12T09:14:41.435Z"
   },
   {
    "duration": 0,
    "start_time": "2025-07-12T09:14:41.557Z"
   },
   {
    "duration": 1278,
    "start_time": "2025-07-12T09:51:24.884Z"
   },
   {
    "duration": 1921,
    "start_time": "2025-07-12T09:51:26.164Z"
   },
   {
    "duration": 111,
    "start_time": "2025-07-12T09:51:28.087Z"
   },
   {
    "duration": 18,
    "start_time": "2025-07-12T09:51:28.200Z"
   },
   {
    "duration": 16,
    "start_time": "2025-07-12T09:51:28.219Z"
   },
   {
    "duration": 136,
    "start_time": "2025-07-12T09:51:28.237Z"
   },
   {
    "duration": 217,
    "start_time": "2025-07-12T09:51:28.375Z"
   },
   {
    "duration": 604,
    "start_time": "2025-07-12T09:51:28.593Z"
   },
   {
    "duration": 3560,
    "start_time": "2025-07-12T09:51:29.199Z"
   },
   {
    "duration": 91,
    "start_time": "2025-07-12T09:51:32.761Z"
   },
   {
    "duration": 140,
    "start_time": "2025-07-12T09:51:32.854Z"
   },
   {
    "duration": 701,
    "start_time": "2025-07-12T09:51:32.996Z"
   },
   {
    "duration": 127,
    "start_time": "2025-07-12T09:51:33.701Z"
   },
   {
    "duration": 4004,
    "start_time": "2025-07-12T09:51:33.830Z"
   },
   {
    "duration": 103,
    "start_time": "2025-07-12T09:51:37.836Z"
   },
   {
    "duration": 409,
    "start_time": "2025-07-12T09:51:37.941Z"
   },
   {
    "duration": 184,
    "start_time": "2025-07-12T09:51:38.352Z"
   },
   {
    "duration": 967,
    "start_time": "2025-07-12T09:51:38.537Z"
   },
   {
    "duration": 842,
    "start_time": "2025-07-12T09:51:39.506Z"
   },
   {
    "duration": 1643,
    "start_time": "2025-07-12T09:51:40.350Z"
   },
   {
    "duration": 980,
    "start_time": "2025-07-12T09:51:41.996Z"
   },
   {
    "duration": 1789,
    "start_time": "2025-07-12T09:51:42.989Z"
   },
   {
    "duration": 111,
    "start_time": "2025-07-12T09:51:44.780Z"
   },
   {
    "duration": 762,
    "start_time": "2025-07-12T09:51:44.894Z"
   },
   {
    "duration": 9,
    "start_time": "2025-07-12T09:51:45.657Z"
   },
   {
    "duration": 287,
    "start_time": "2025-07-12T09:51:45.668Z"
   },
   {
    "duration": 190,
    "start_time": "2025-07-12T09:51:45.957Z"
   },
   {
    "duration": 0,
    "start_time": "2025-07-12T09:51:46.149Z"
   },
   {
    "duration": 103,
    "start_time": "2025-07-12T11:16:20.207Z"
   },
   {
    "duration": 4,
    "start_time": "2025-07-12T11:19:32.041Z"
   },
   {
    "duration": 1243,
    "start_time": "2025-07-12T11:19:55.190Z"
   },
   {
    "duration": 1793,
    "start_time": "2025-07-12T11:19:56.436Z"
   },
   {
    "duration": 112,
    "start_time": "2025-07-12T11:19:58.230Z"
   },
   {
    "duration": 18,
    "start_time": "2025-07-12T11:19:58.344Z"
   },
   {
    "duration": 37,
    "start_time": "2025-07-12T11:19:58.363Z"
   },
   {
    "duration": 134,
    "start_time": "2025-07-12T11:19:58.402Z"
   },
   {
    "duration": 208,
    "start_time": "2025-07-12T11:19:58.538Z"
   },
   {
    "duration": 583,
    "start_time": "2025-07-12T11:19:58.748Z"
   },
   {
    "duration": 3592,
    "start_time": "2025-07-12T11:19:59.333Z"
   },
   {
    "duration": 100,
    "start_time": "2025-07-12T11:20:02.929Z"
   },
   {
    "duration": 201,
    "start_time": "2025-07-12T11:20:03.030Z"
   },
   {
    "duration": 700,
    "start_time": "2025-07-12T11:20:03.233Z"
   },
   {
    "duration": 115,
    "start_time": "2025-07-12T11:20:03.934Z"
   },
   {
    "duration": 3999,
    "start_time": "2025-07-12T11:20:04.052Z"
   },
   {
    "duration": 99,
    "start_time": "2025-07-12T11:20:08.053Z"
   },
   {
    "duration": 495,
    "start_time": "2025-07-12T11:20:08.154Z"
   },
   {
    "duration": 194,
    "start_time": "2025-07-12T11:20:08.651Z"
   },
   {
    "duration": 1072,
    "start_time": "2025-07-12T11:20:08.847Z"
   },
   {
    "duration": 747,
    "start_time": "2025-07-12T11:20:09.921Z"
   },
   {
    "duration": 1559,
    "start_time": "2025-07-12T11:20:10.670Z"
   },
   {
    "duration": 944,
    "start_time": "2025-07-12T11:20:12.231Z"
   },
   {
    "duration": 1824,
    "start_time": "2025-07-12T11:20:13.176Z"
   },
   {
    "duration": 103,
    "start_time": "2025-07-12T11:20:15.001Z"
   },
   {
    "duration": 794,
    "start_time": "2025-07-12T11:20:15.106Z"
   },
   {
    "duration": 11,
    "start_time": "2025-07-12T11:20:15.902Z"
   },
   {
    "duration": 161,
    "start_time": "2025-07-12T11:20:15.915Z"
   },
   {
    "duration": 128,
    "start_time": "2025-07-12T11:20:16.078Z"
   },
   {
    "duration": 130,
    "start_time": "2025-07-12T11:20:16.211Z"
   },
   {
    "duration": 65,
    "start_time": "2025-07-12T11:20:58.015Z"
   },
   {
    "duration": 4,
    "start_time": "2025-07-12T11:27:30.807Z"
   },
   {
    "duration": 1181,
    "start_time": "2025-07-12T11:27:39.436Z"
   },
   {
    "duration": 2155,
    "start_time": "2025-07-12T11:27:40.619Z"
   },
   {
    "duration": 103,
    "start_time": "2025-07-12T11:27:42.776Z"
   },
   {
    "duration": 23,
    "start_time": "2025-07-12T11:27:42.882Z"
   },
   {
    "duration": 38,
    "start_time": "2025-07-12T11:27:42.906Z"
   },
   {
    "duration": 121,
    "start_time": "2025-07-12T11:27:42.946Z"
   },
   {
    "duration": 207,
    "start_time": "2025-07-12T11:27:43.069Z"
   },
   {
    "duration": 541,
    "start_time": "2025-07-12T11:27:43.277Z"
   },
   {
    "duration": 3649,
    "start_time": "2025-07-12T11:27:43.820Z"
   },
   {
    "duration": 99,
    "start_time": "2025-07-12T11:27:47.473Z"
   },
   {
    "duration": 143,
    "start_time": "2025-07-12T11:27:47.574Z"
   },
   {
    "duration": 681,
    "start_time": "2025-07-12T11:27:47.719Z"
   },
   {
    "duration": 108,
    "start_time": "2025-07-12T11:27:48.402Z"
   },
   {
    "duration": 3763,
    "start_time": "2025-07-12T11:27:48.513Z"
   },
   {
    "duration": 89,
    "start_time": "2025-07-12T11:27:52.278Z"
   },
   {
    "duration": 408,
    "start_time": "2025-07-12T11:27:52.368Z"
   },
   {
    "duration": 171,
    "start_time": "2025-07-12T11:27:52.789Z"
   },
   {
    "duration": 972,
    "start_time": "2025-07-12T11:27:52.962Z"
   },
   {
    "duration": 876,
    "start_time": "2025-07-12T11:27:53.936Z"
   },
   {
    "duration": 1581,
    "start_time": "2025-07-12T11:27:54.813Z"
   },
   {
    "duration": 1042,
    "start_time": "2025-07-12T11:27:56.397Z"
   },
   {
    "duration": 1717,
    "start_time": "2025-07-12T11:27:57.441Z"
   },
   {
    "duration": 83,
    "start_time": "2025-07-12T11:27:59.160Z"
   },
   {
    "duration": 714,
    "start_time": "2025-07-12T11:27:59.245Z"
   },
   {
    "duration": 9,
    "start_time": "2025-07-12T11:27:59.961Z"
   },
   {
    "duration": 218,
    "start_time": "2025-07-12T11:27:59.972Z"
   },
   {
    "duration": 164,
    "start_time": "2025-07-12T11:28:00.191Z"
   },
   {
    "duration": 99,
    "start_time": "2025-07-12T11:28:00.359Z"
   },
   {
    "duration": 243,
    "start_time": "2025-07-12T11:28:00.459Z"
   },
   {
    "duration": 60,
    "start_time": "2025-07-12T11:41:11.897Z"
   },
   {
    "duration": 60,
    "start_time": "2025-07-12T11:41:20.782Z"
   },
   {
    "duration": 61,
    "start_time": "2025-07-12T11:41:32.308Z"
   },
   {
    "duration": 63,
    "start_time": "2025-07-12T11:41:37.687Z"
   },
   {
    "duration": 11,
    "start_time": "2025-07-12T11:45:04.473Z"
   },
   {
    "duration": 1352,
    "start_time": "2025-07-12T11:49:21.337Z"
   },
   {
    "duration": 0,
    "start_time": "2025-07-12T11:49:22.692Z"
   },
   {
    "duration": 0,
    "start_time": "2025-07-12T11:49:22.693Z"
   },
   {
    "duration": 0,
    "start_time": "2025-07-12T11:49:22.694Z"
   },
   {
    "duration": 0,
    "start_time": "2025-07-12T11:49:22.695Z"
   },
   {
    "duration": 0,
    "start_time": "2025-07-12T11:49:22.696Z"
   },
   {
    "duration": 0,
    "start_time": "2025-07-12T11:49:22.697Z"
   },
   {
    "duration": 0,
    "start_time": "2025-07-12T11:49:22.698Z"
   },
   {
    "duration": 0,
    "start_time": "2025-07-12T11:49:22.699Z"
   },
   {
    "duration": 0,
    "start_time": "2025-07-12T11:49:22.700Z"
   },
   {
    "duration": 0,
    "start_time": "2025-07-12T11:49:22.701Z"
   },
   {
    "duration": 0,
    "start_time": "2025-07-12T11:49:22.702Z"
   },
   {
    "duration": 0,
    "start_time": "2025-07-12T11:49:22.703Z"
   },
   {
    "duration": 0,
    "start_time": "2025-07-12T11:49:22.705Z"
   },
   {
    "duration": 0,
    "start_time": "2025-07-12T11:49:22.706Z"
   },
   {
    "duration": 0,
    "start_time": "2025-07-12T11:49:22.707Z"
   },
   {
    "duration": 0,
    "start_time": "2025-07-12T11:49:22.708Z"
   },
   {
    "duration": 0,
    "start_time": "2025-07-12T11:49:22.709Z"
   },
   {
    "duration": 0,
    "start_time": "2025-07-12T11:49:22.710Z"
   },
   {
    "duration": 0,
    "start_time": "2025-07-12T11:49:22.711Z"
   },
   {
    "duration": 0,
    "start_time": "2025-07-12T11:49:22.712Z"
   },
   {
    "duration": 0,
    "start_time": "2025-07-12T11:49:22.714Z"
   },
   {
    "duration": 0,
    "start_time": "2025-07-12T11:49:22.715Z"
   },
   {
    "duration": 0,
    "start_time": "2025-07-12T11:49:22.715Z"
   },
   {
    "duration": 0,
    "start_time": "2025-07-12T11:49:22.716Z"
   },
   {
    "duration": 0,
    "start_time": "2025-07-12T11:49:22.717Z"
   },
   {
    "duration": 0,
    "start_time": "2025-07-12T11:49:22.718Z"
   },
   {
    "duration": 0,
    "start_time": "2025-07-12T11:49:22.720Z"
   },
   {
    "duration": 0,
    "start_time": "2025-07-12T11:49:22.721Z"
   },
   {
    "duration": 0,
    "start_time": "2025-07-12T11:49:22.722Z"
   },
   {
    "duration": 1224,
    "start_time": "2025-07-12T11:51:34.034Z"
   },
   {
    "duration": 2323,
    "start_time": "2025-07-12T11:51:35.260Z"
   },
   {
    "duration": 110,
    "start_time": "2025-07-12T11:51:37.585Z"
   },
   {
    "duration": 19,
    "start_time": "2025-07-12T11:51:37.697Z"
   },
   {
    "duration": 10,
    "start_time": "2025-07-12T11:51:37.718Z"
   },
   {
    "duration": 134,
    "start_time": "2025-07-12T11:51:37.730Z"
   },
   {
    "duration": 216,
    "start_time": "2025-07-12T11:51:37.866Z"
   },
   {
    "duration": 587,
    "start_time": "2025-07-12T11:51:38.090Z"
   },
   {
    "duration": 3479,
    "start_time": "2025-07-12T11:51:38.689Z"
   },
   {
    "duration": 97,
    "start_time": "2025-07-12T11:51:42.171Z"
   },
   {
    "duration": 177,
    "start_time": "2025-07-12T11:51:42.270Z"
   },
   {
    "duration": 647,
    "start_time": "2025-07-12T11:51:42.449Z"
   },
   {
    "duration": 114,
    "start_time": "2025-07-12T11:51:43.098Z"
   },
   {
    "duration": 3876,
    "start_time": "2025-07-12T11:51:43.214Z"
   },
   {
    "duration": 99,
    "start_time": "2025-07-12T11:51:47.093Z"
   },
   {
    "duration": 419,
    "start_time": "2025-07-12T11:51:47.195Z"
   },
   {
    "duration": 180,
    "start_time": "2025-07-12T11:51:47.616Z"
   },
   {
    "duration": 999,
    "start_time": "2025-07-12T11:51:47.798Z"
   },
   {
    "duration": 705,
    "start_time": "2025-07-12T11:51:48.800Z"
   },
   {
    "duration": 1560,
    "start_time": "2025-07-12T11:51:49.507Z"
   },
   {
    "duration": 990,
    "start_time": "2025-07-12T11:51:51.069Z"
   },
   {
    "duration": 1747,
    "start_time": "2025-07-12T11:51:52.062Z"
   },
   {
    "duration": 103,
    "start_time": "2025-07-12T11:51:53.811Z"
   },
   {
    "duration": 677,
    "start_time": "2025-07-12T11:51:53.916Z"
   },
   {
    "duration": 11,
    "start_time": "2025-07-12T11:51:54.595Z"
   },
   {
    "duration": 295,
    "start_time": "2025-07-12T11:51:54.608Z"
   },
   {
    "duration": 157,
    "start_time": "2025-07-12T11:51:54.905Z"
   },
   {
    "duration": 140,
    "start_time": "2025-07-12T11:51:55.066Z"
   },
   {
    "duration": 0,
    "start_time": "2025-07-12T11:51:55.207Z"
   },
   {
    "duration": 0,
    "start_time": "2025-07-12T11:51:55.209Z"
   },
   {
    "duration": 66,
    "start_time": "2025-07-12T11:53:34.701Z"
   },
   {
    "duration": 14,
    "start_time": "2025-07-12T11:53:46.018Z"
   },
   {
    "duration": 56,
    "start_time": "2025-07-12T11:58:08.417Z"
   },
   {
    "duration": 60,
    "start_time": "2025-07-12T12:04:24.585Z"
   },
   {
    "duration": 1300,
    "start_time": "2025-07-12T12:59:22.252Z"
   },
   {
    "duration": 1971,
    "start_time": "2025-07-12T12:59:23.554Z"
   },
   {
    "duration": 122,
    "start_time": "2025-07-12T12:59:25.527Z"
   },
   {
    "duration": 18,
    "start_time": "2025-07-12T12:59:25.652Z"
   },
   {
    "duration": 29,
    "start_time": "2025-07-12T12:59:25.672Z"
   },
   {
    "duration": 127,
    "start_time": "2025-07-12T12:59:25.704Z"
   },
   {
    "duration": 220,
    "start_time": "2025-07-12T12:59:25.832Z"
   },
   {
    "duration": 625,
    "start_time": "2025-07-12T12:59:26.053Z"
   },
   {
    "duration": 3684,
    "start_time": "2025-07-12T12:59:26.679Z"
   },
   {
    "duration": 95,
    "start_time": "2025-07-12T12:59:30.366Z"
   },
   {
    "duration": 145,
    "start_time": "2025-07-12T12:59:30.463Z"
   },
   {
    "duration": 700,
    "start_time": "2025-07-12T12:59:30.610Z"
   },
   {
    "duration": 125,
    "start_time": "2025-07-12T12:59:31.312Z"
   },
   {
    "duration": 3671,
    "start_time": "2025-07-12T12:59:31.438Z"
   },
   {
    "duration": 99,
    "start_time": "2025-07-12T12:59:35.110Z"
   },
   {
    "duration": 404,
    "start_time": "2025-07-12T12:59:35.211Z"
   },
   {
    "duration": 179,
    "start_time": "2025-07-12T12:59:35.617Z"
   },
   {
    "duration": 951,
    "start_time": "2025-07-12T12:59:35.797Z"
   },
   {
    "duration": 708,
    "start_time": "2025-07-12T12:59:36.750Z"
   },
   {
    "duration": 1467,
    "start_time": "2025-07-12T12:59:37.460Z"
   },
   {
    "duration": 899,
    "start_time": "2025-07-12T12:59:38.928Z"
   },
   {
    "duration": 1648,
    "start_time": "2025-07-12T12:59:39.829Z"
   },
   {
    "duration": 70,
    "start_time": "2025-07-12T12:59:41.490Z"
   },
   {
    "duration": 647,
    "start_time": "2025-07-12T12:59:41.562Z"
   },
   {
    "duration": 10,
    "start_time": "2025-07-12T12:59:42.211Z"
   },
   {
    "duration": 153,
    "start_time": "2025-07-12T12:59:42.223Z"
   },
   {
    "duration": 102,
    "start_time": "2025-07-12T12:59:42.378Z"
   },
   {
    "duration": 58,
    "start_time": "2025-07-12T12:59:42.492Z"
   },
   {
    "duration": 57,
    "start_time": "2025-07-12T12:59:42.552Z"
   },
   {
    "duration": 1202,
    "start_time": "2025-07-12T13:16:03.743Z"
   },
   {
    "duration": 1699,
    "start_time": "2025-07-12T13:16:04.947Z"
   },
   {
    "duration": 104,
    "start_time": "2025-07-12T13:16:06.648Z"
   },
   {
    "duration": 19,
    "start_time": "2025-07-12T13:16:06.755Z"
   },
   {
    "duration": 90,
    "start_time": "2025-07-12T13:16:06.775Z"
   },
   {
    "duration": 116,
    "start_time": "2025-07-12T13:16:06.867Z"
   },
   {
    "duration": 213,
    "start_time": "2025-07-12T13:16:06.985Z"
   },
   {
    "duration": 567,
    "start_time": "2025-07-12T13:16:07.200Z"
   },
   {
    "duration": 3395,
    "start_time": "2025-07-12T13:16:07.768Z"
   },
   {
    "duration": 94,
    "start_time": "2025-07-12T13:16:11.166Z"
   },
   {
    "duration": 138,
    "start_time": "2025-07-12T13:16:11.262Z"
   },
   {
    "duration": 675,
    "start_time": "2025-07-12T13:16:11.402Z"
   },
   {
    "duration": 112,
    "start_time": "2025-07-12T13:16:12.079Z"
   },
   {
    "duration": 3805,
    "start_time": "2025-07-12T13:16:12.192Z"
   },
   {
    "duration": 97,
    "start_time": "2025-07-12T13:16:15.999Z"
   },
   {
    "duration": 403,
    "start_time": "2025-07-12T13:16:16.098Z"
   },
   {
    "duration": 174,
    "start_time": "2025-07-12T13:16:16.503Z"
   },
   {
    "duration": 992,
    "start_time": "2025-07-12T13:16:16.679Z"
   },
   {
    "duration": 718,
    "start_time": "2025-07-12T13:16:17.673Z"
   },
   {
    "duration": 1534,
    "start_time": "2025-07-12T13:16:18.393Z"
   },
   {
    "duration": 936,
    "start_time": "2025-07-12T13:16:19.928Z"
   },
   {
    "duration": 1691,
    "start_time": "2025-07-12T13:16:20.866Z"
   },
   {
    "duration": 93,
    "start_time": "2025-07-12T13:16:22.559Z"
   },
   {
    "duration": 663,
    "start_time": "2025-07-12T13:16:22.654Z"
   },
   {
    "duration": 10,
    "start_time": "2025-07-12T13:16:23.319Z"
   },
   {
    "duration": 75,
    "start_time": "2025-07-12T13:16:23.331Z"
   },
   {
    "duration": 123,
    "start_time": "2025-07-12T13:16:23.408Z"
   },
   {
    "duration": 73,
    "start_time": "2025-07-12T13:16:23.535Z"
   },
   {
    "duration": 40,
    "start_time": "2025-07-12T13:16:23.610Z"
   },
   {
    "duration": 1210,
    "start_time": "2025-07-12T13:24:50.931Z"
   },
   {
    "duration": 1765,
    "start_time": "2025-07-12T13:24:52.143Z"
   },
   {
    "duration": 218,
    "start_time": "2025-07-12T13:24:53.910Z"
   },
   {
    "duration": 76,
    "start_time": "2025-07-12T13:24:54.130Z"
   },
   {
    "duration": 15,
    "start_time": "2025-07-12T13:24:54.208Z"
   },
   {
    "duration": 366,
    "start_time": "2025-07-12T13:24:54.225Z"
   },
   {
    "duration": 440,
    "start_time": "2025-07-12T13:24:54.593Z"
   },
   {
    "duration": 821,
    "start_time": "2025-07-12T13:24:55.089Z"
   },
   {
    "duration": 3441,
    "start_time": "2025-07-12T13:24:55.911Z"
   },
   {
    "duration": 100,
    "start_time": "2025-07-12T13:24:59.354Z"
   },
   {
    "duration": 134,
    "start_time": "2025-07-12T13:24:59.456Z"
   },
   {
    "duration": 635,
    "start_time": "2025-07-12T13:24:59.592Z"
   },
   {
    "duration": 108,
    "start_time": "2025-07-12T13:25:00.229Z"
   },
   {
    "duration": 3886,
    "start_time": "2025-07-12T13:25:00.339Z"
   },
   {
    "duration": 104,
    "start_time": "2025-07-12T13:25:04.227Z"
   },
   {
    "duration": 424,
    "start_time": "2025-07-12T13:25:04.333Z"
   },
   {
    "duration": 180,
    "start_time": "2025-07-12T13:25:04.759Z"
   },
   {
    "duration": 1001,
    "start_time": "2025-07-12T13:25:04.941Z"
   },
   {
    "duration": 731,
    "start_time": "2025-07-12T13:25:05.944Z"
   },
   {
    "duration": 1523,
    "start_time": "2025-07-12T13:25:06.676Z"
   },
   {
    "duration": 946,
    "start_time": "2025-07-12T13:25:08.201Z"
   },
   {
    "duration": 1699,
    "start_time": "2025-07-12T13:25:09.149Z"
   },
   {
    "duration": 89,
    "start_time": "2025-07-12T13:25:10.850Z"
   },
   {
    "duration": 645,
    "start_time": "2025-07-12T13:25:10.940Z"
   },
   {
    "duration": 10,
    "start_time": "2025-07-12T13:25:11.589Z"
   },
   {
    "duration": 69,
    "start_time": "2025-07-12T13:25:11.600Z"
   },
   {
    "duration": 129,
    "start_time": "2025-07-12T13:25:11.671Z"
   },
   {
    "duration": 66,
    "start_time": "2025-07-12T13:25:11.804Z"
   },
   {
    "duration": 52,
    "start_time": "2025-07-12T13:25:11.871Z"
   },
   {
    "duration": 904,
    "start_time": "2025-07-26T07:36:47.518Z"
   },
   {
    "duration": 1365,
    "start_time": "2025-07-26T07:37:00.064Z"
   },
   {
    "duration": 2005,
    "start_time": "2025-07-26T07:37:01.430Z"
   },
   {
    "duration": 99,
    "start_time": "2025-07-26T07:37:03.437Z"
   },
   {
    "duration": 15,
    "start_time": "2025-07-26T07:37:03.538Z"
   },
   {
    "duration": 27,
    "start_time": "2025-07-26T07:37:03.555Z"
   },
   {
    "duration": 114,
    "start_time": "2025-07-26T07:37:03.584Z"
   },
   {
    "duration": 185,
    "start_time": "2025-07-26T07:37:03.701Z"
   },
   {
    "duration": 561,
    "start_time": "2025-07-26T07:37:03.888Z"
   },
   {
    "duration": 3372,
    "start_time": "2025-07-26T07:37:04.450Z"
   },
   {
    "duration": 90,
    "start_time": "2025-07-26T07:37:07.824Z"
   },
   {
    "duration": 123,
    "start_time": "2025-07-26T07:37:07.916Z"
   },
   {
    "duration": 580,
    "start_time": "2025-07-26T07:37:08.040Z"
   },
   {
    "duration": 88,
    "start_time": "2025-07-26T07:37:08.622Z"
   },
   {
    "duration": 3567,
    "start_time": "2025-07-26T07:37:08.712Z"
   },
   {
    "duration": 90,
    "start_time": "2025-07-26T07:37:12.280Z"
   },
   {
    "duration": 365,
    "start_time": "2025-07-26T07:37:12.371Z"
   },
   {
    "duration": 150,
    "start_time": "2025-07-26T07:37:12.737Z"
   },
   {
    "duration": 900,
    "start_time": "2025-07-26T07:37:12.889Z"
   },
   {
    "duration": 676,
    "start_time": "2025-07-26T07:37:13.800Z"
   },
   {
    "duration": 1486,
    "start_time": "2025-07-26T07:37:14.477Z"
   },
   {
    "duration": 873,
    "start_time": "2025-07-26T07:37:15.965Z"
   },
   {
    "duration": 1581,
    "start_time": "2025-07-26T07:37:16.840Z"
   },
   {
    "duration": 79,
    "start_time": "2025-07-26T07:37:18.422Z"
   },
   {
    "duration": 610,
    "start_time": "2025-07-26T07:37:18.511Z"
   },
   {
    "duration": 7,
    "start_time": "2025-07-26T07:37:19.123Z"
   },
   {
    "duration": 178,
    "start_time": "2025-07-26T07:37:19.132Z"
   },
   {
    "duration": 111,
    "start_time": "2025-07-26T07:37:19.311Z"
   },
   {
    "duration": 11,
    "start_time": "2025-07-26T07:37:19.426Z"
   },
   {
    "duration": 39,
    "start_time": "2025-07-26T07:37:19.439Z"
   },
   {
    "duration": 10,
    "start_time": "2025-07-26T07:37:32.411Z"
   },
   {
    "duration": 1112,
    "start_time": "2025-07-26T07:37:41.864Z"
   },
   {
    "duration": 1852,
    "start_time": "2025-07-26T07:37:42.977Z"
   },
   {
    "duration": 116,
    "start_time": "2025-07-26T07:37:44.831Z"
   },
   {
    "duration": 17,
    "start_time": "2025-07-26T07:37:44.949Z"
   },
   {
    "duration": 10,
    "start_time": "2025-07-26T07:37:44.968Z"
   },
   {
    "duration": 241,
    "start_time": "2025-07-26T07:37:45.005Z"
   },
   {
    "duration": 195,
    "start_time": "2025-07-26T07:37:45.247Z"
   },
   {
    "duration": 567,
    "start_time": "2025-07-26T07:37:45.443Z"
   },
   {
    "duration": 3271,
    "start_time": "2025-07-26T07:37:46.013Z"
   },
   {
    "duration": 90,
    "start_time": "2025-07-26T07:37:49.287Z"
   },
   {
    "duration": 124,
    "start_time": "2025-07-26T07:37:49.379Z"
   },
   {
    "duration": 604,
    "start_time": "2025-07-26T07:37:49.505Z"
   },
   {
    "duration": 100,
    "start_time": "2025-07-26T07:37:50.110Z"
   },
   {
    "duration": 3579,
    "start_time": "2025-07-26T07:37:50.212Z"
   },
   {
    "duration": 81,
    "start_time": "2025-07-26T07:37:53.793Z"
   },
   {
    "duration": 365,
    "start_time": "2025-07-26T07:37:53.875Z"
   },
   {
    "duration": 169,
    "start_time": "2025-07-26T07:37:54.242Z"
   },
   {
    "duration": 939,
    "start_time": "2025-07-26T07:37:54.412Z"
   },
   {
    "duration": 672,
    "start_time": "2025-07-26T07:37:55.353Z"
   },
   {
    "duration": 1397,
    "start_time": "2025-07-26T07:37:56.027Z"
   },
   {
    "duration": 886,
    "start_time": "2025-07-26T07:37:57.426Z"
   },
   {
    "duration": 1561,
    "start_time": "2025-07-26T07:37:58.314Z"
   },
   {
    "duration": 82,
    "start_time": "2025-07-26T07:37:59.877Z"
   },
   {
    "duration": 649,
    "start_time": "2025-07-26T07:37:59.961Z"
   },
   {
    "duration": 10,
    "start_time": "2025-07-26T07:38:00.612Z"
   },
   {
    "duration": 97,
    "start_time": "2025-07-26T07:38:00.623Z"
   },
   {
    "duration": 95,
    "start_time": "2025-07-26T07:38:00.722Z"
   },
   {
    "duration": 116,
    "start_time": "2025-07-26T07:38:00.820Z"
   },
   {
    "duration": 0,
    "start_time": "2025-07-26T07:38:00.938Z"
   },
   {
    "duration": 3,
    "start_time": "2025-07-26T07:50:34.892Z"
   },
   {
    "duration": 1129,
    "start_time": "2025-07-26T07:50:41.282Z"
   },
   {
    "duration": 2455,
    "start_time": "2025-07-26T07:50:42.413Z"
   },
   {
    "duration": 106,
    "start_time": "2025-07-26T07:50:44.869Z"
   },
   {
    "duration": 33,
    "start_time": "2025-07-26T07:50:44.977Z"
   },
   {
    "duration": 11,
    "start_time": "2025-07-26T07:50:45.012Z"
   },
   {
    "duration": 154,
    "start_time": "2025-07-26T07:50:45.024Z"
   },
   {
    "duration": 227,
    "start_time": "2025-07-26T07:50:45.179Z"
   },
   {
    "duration": 1299,
    "start_time": "2025-07-26T07:50:45.408Z"
   },
   {
    "duration": 3395,
    "start_time": "2025-07-26T07:50:46.710Z"
   },
   {
    "duration": 75,
    "start_time": "2025-07-26T07:50:50.112Z"
   },
   {
    "duration": 111,
    "start_time": "2025-07-26T07:50:50.188Z"
   },
   {
    "duration": 602,
    "start_time": "2025-07-26T07:50:50.311Z"
   },
   {
    "duration": 96,
    "start_time": "2025-07-26T07:50:50.915Z"
   },
   {
    "duration": 3541,
    "start_time": "2025-07-26T07:50:51.013Z"
   },
   {
    "duration": 92,
    "start_time": "2025-07-26T07:50:54.555Z"
   },
   {
    "duration": 391,
    "start_time": "2025-07-26T07:50:54.649Z"
   },
   {
    "duration": 159,
    "start_time": "2025-07-26T07:50:55.042Z"
   },
   {
    "duration": 952,
    "start_time": "2025-07-26T07:50:55.203Z"
   },
   {
    "duration": 635,
    "start_time": "2025-07-26T07:50:56.157Z"
   },
   {
    "duration": 1433,
    "start_time": "2025-07-26T07:50:56.794Z"
   },
   {
    "duration": 913,
    "start_time": "2025-07-26T07:50:58.229Z"
   },
   {
    "duration": 1613,
    "start_time": "2025-07-26T07:50:59.144Z"
   },
   {
    "duration": 96,
    "start_time": "2025-07-26T07:51:00.758Z"
   },
   {
    "duration": 602,
    "start_time": "2025-07-26T07:51:00.856Z"
   },
   {
    "duration": 10,
    "start_time": "2025-07-26T07:51:01.460Z"
   },
   {
    "duration": 79,
    "start_time": "2025-07-26T07:51:01.471Z"
   },
   {
    "duration": 99,
    "start_time": "2025-07-26T07:51:01.552Z"
   },
   {
    "duration": 15,
    "start_time": "2025-07-26T07:51:01.655Z"
   },
   {
    "duration": 71,
    "start_time": "2025-07-26T07:51:01.673Z"
   },
   {
    "duration": 17,
    "start_time": "2025-07-26T07:52:33.603Z"
   },
   {
    "duration": 15,
    "start_time": "2025-07-26T07:53:29.111Z"
   },
   {
    "duration": 12,
    "start_time": "2025-07-26T08:10:53.522Z"
   },
   {
    "duration": 1174,
    "start_time": "2025-07-26T08:33:29.030Z"
   },
   {
    "duration": 1434,
    "start_time": "2025-07-26T08:33:30.206Z"
   },
   {
    "duration": 102,
    "start_time": "2025-07-26T08:33:31.642Z"
   },
   {
    "duration": 16,
    "start_time": "2025-07-26T08:33:31.747Z"
   },
   {
    "duration": 16,
    "start_time": "2025-07-26T08:33:31.765Z"
   },
   {
    "duration": 142,
    "start_time": "2025-07-26T08:33:31.782Z"
   },
   {
    "duration": 197,
    "start_time": "2025-07-26T08:33:31.925Z"
   },
   {
    "duration": 550,
    "start_time": "2025-07-26T08:33:32.124Z"
   },
   {
    "duration": 3286,
    "start_time": "2025-07-26T08:33:32.676Z"
   },
   {
    "duration": 89,
    "start_time": "2025-07-26T08:33:35.966Z"
   },
   {
    "duration": 124,
    "start_time": "2025-07-26T08:33:36.056Z"
   },
   {
    "duration": 609,
    "start_time": "2025-07-26T08:33:36.182Z"
   },
   {
    "duration": 110,
    "start_time": "2025-07-26T08:33:36.793Z"
   },
   {
    "duration": 3613,
    "start_time": "2025-07-26T08:33:36.904Z"
   },
   {
    "duration": 97,
    "start_time": "2025-07-26T08:33:40.519Z"
   },
   {
    "duration": 363,
    "start_time": "2025-07-26T08:33:40.618Z"
   },
   {
    "duration": 177,
    "start_time": "2025-07-26T08:33:40.982Z"
   },
   {
    "duration": 945,
    "start_time": "2025-07-26T08:33:41.160Z"
   },
   {
    "duration": 703,
    "start_time": "2025-07-26T08:33:42.110Z"
   },
   {
    "duration": 1432,
    "start_time": "2025-07-26T08:33:42.815Z"
   },
   {
    "duration": 933,
    "start_time": "2025-07-26T08:33:44.248Z"
   },
   {
    "duration": 1634,
    "start_time": "2025-07-26T08:33:45.182Z"
   },
   {
    "duration": 65,
    "start_time": "2025-07-26T08:33:46.818Z"
   },
   {
    "duration": 651,
    "start_time": "2025-07-26T08:33:46.885Z"
   },
   {
    "duration": 12,
    "start_time": "2025-07-26T08:33:47.538Z"
   },
   {
    "duration": 97,
    "start_time": "2025-07-26T08:33:47.551Z"
   },
   {
    "duration": 108,
    "start_time": "2025-07-26T08:33:47.650Z"
   },
   {
    "duration": 16,
    "start_time": "2025-07-26T08:33:47.762Z"
   },
   {
    "duration": 56,
    "start_time": "2025-07-26T08:33:47.779Z"
   },
   {
    "duration": 1182,
    "start_time": "2025-07-26T08:41:26.875Z"
   },
   {
    "duration": 1571,
    "start_time": "2025-07-26T08:41:28.059Z"
   },
   {
    "duration": 114,
    "start_time": "2025-07-26T08:41:29.632Z"
   },
   {
    "duration": 17,
    "start_time": "2025-07-26T08:41:29.748Z"
   },
   {
    "duration": 28,
    "start_time": "2025-07-26T08:41:29.767Z"
   },
   {
    "duration": 118,
    "start_time": "2025-07-26T08:41:29.796Z"
   },
   {
    "duration": 200,
    "start_time": "2025-07-26T08:41:29.916Z"
   },
   {
    "duration": 587,
    "start_time": "2025-07-26T08:41:30.118Z"
   },
   {
    "duration": 3404,
    "start_time": "2025-07-26T08:41:30.714Z"
   },
   {
    "duration": 90,
    "start_time": "2025-07-26T08:41:34.121Z"
   },
   {
    "duration": 131,
    "start_time": "2025-07-26T08:41:34.216Z"
   },
   {
    "duration": 664,
    "start_time": "2025-07-26T08:41:34.350Z"
   },
   {
    "duration": 91,
    "start_time": "2025-07-26T08:41:35.016Z"
   },
   {
    "duration": 3680,
    "start_time": "2025-07-26T08:41:35.108Z"
   },
   {
    "duration": 89,
    "start_time": "2025-07-26T08:41:38.790Z"
   },
   {
    "duration": 381,
    "start_time": "2025-07-26T08:41:38.881Z"
   },
   {
    "duration": 181,
    "start_time": "2025-07-26T08:41:39.264Z"
   },
   {
    "duration": 964,
    "start_time": "2025-07-26T08:41:39.447Z"
   },
   {
    "duration": 663,
    "start_time": "2025-07-26T08:41:40.415Z"
   },
   {
    "duration": 1482,
    "start_time": "2025-07-26T08:41:41.080Z"
   },
   {
    "duration": 884,
    "start_time": "2025-07-26T08:41:42.564Z"
   },
   {
    "duration": 1627,
    "start_time": "2025-07-26T08:41:43.450Z"
   },
   {
    "duration": 100,
    "start_time": "2025-07-26T08:41:45.079Z"
   },
   {
    "duration": 652,
    "start_time": "2025-07-26T08:41:45.180Z"
   },
   {
    "duration": 9,
    "start_time": "2025-07-26T08:41:45.833Z"
   },
   {
    "duration": 106,
    "start_time": "2025-07-26T08:41:45.843Z"
   },
   {
    "duration": 120,
    "start_time": "2025-07-26T08:41:45.951Z"
   },
   {
    "duration": 40,
    "start_time": "2025-07-26T08:41:46.074Z"
   },
   {
    "duration": 115,
    "start_time": "2025-07-26T08:41:46.116Z"
   },
   {
    "duration": 1150,
    "start_time": "2025-07-26T09:27:07.954Z"
   },
   {
    "duration": 1798,
    "start_time": "2025-07-26T09:27:09.106Z"
   },
   {
    "duration": 106,
    "start_time": "2025-07-26T09:27:10.906Z"
   },
   {
    "duration": 17,
    "start_time": "2025-07-26T09:27:11.014Z"
   },
   {
    "duration": 14,
    "start_time": "2025-07-26T09:27:11.033Z"
   },
   {
    "duration": 156,
    "start_time": "2025-07-26T09:27:11.049Z"
   },
   {
    "duration": 196,
    "start_time": "2025-07-26T09:27:11.207Z"
   },
   {
    "duration": 518,
    "start_time": "2025-07-26T09:27:11.405Z"
   },
   {
    "duration": 3240,
    "start_time": "2025-07-26T09:27:11.924Z"
   },
   {
    "duration": 85,
    "start_time": "2025-07-26T09:27:15.167Z"
   },
   {
    "duration": 121,
    "start_time": "2025-07-26T09:27:15.254Z"
   },
   {
    "duration": 645,
    "start_time": "2025-07-26T09:27:15.377Z"
   },
   {
    "duration": 102,
    "start_time": "2025-07-26T09:27:16.024Z"
   },
   {
    "duration": 3509,
    "start_time": "2025-07-26T09:27:16.128Z"
   },
   {
    "duration": 90,
    "start_time": "2025-07-26T09:27:19.639Z"
   },
   {
    "duration": 392,
    "start_time": "2025-07-26T09:27:19.731Z"
   },
   {
    "duration": 177,
    "start_time": "2025-07-26T09:27:20.125Z"
   },
   {
    "duration": 967,
    "start_time": "2025-07-26T09:27:20.304Z"
   },
   {
    "duration": 711,
    "start_time": "2025-07-26T09:27:21.273Z"
   },
   {
    "duration": 1516,
    "start_time": "2025-07-26T09:27:21.986Z"
   },
   {
    "duration": 941,
    "start_time": "2025-07-26T09:27:23.503Z"
   },
   {
    "duration": 1753,
    "start_time": "2025-07-26T09:27:24.446Z"
   },
   {
    "duration": 65,
    "start_time": "2025-07-26T09:27:26.201Z"
   },
   {
    "duration": 630,
    "start_time": "2025-07-26T09:27:26.268Z"
   },
   {
    "duration": 11,
    "start_time": "2025-07-26T09:27:26.900Z"
   },
   {
    "duration": 56,
    "start_time": "2025-07-26T09:27:26.913Z"
   },
   {
    "duration": 118,
    "start_time": "2025-07-26T09:27:26.971Z"
   },
   {
    "duration": 17,
    "start_time": "2025-07-26T09:27:27.101Z"
   },
   {
    "duration": 38,
    "start_time": "2025-07-26T09:27:27.120Z"
   }
  ],
  "kernelspec": {
   "display_name": "Python 3 (ipykernel)",
   "language": "python",
   "name": "python3"
  },
  "language_info": {
   "codemirror_mode": {
    "name": "ipython",
    "version": 3
   },
   "file_extension": ".py",
   "mimetype": "text/x-python",
   "name": "python",
   "nbconvert_exporter": "python",
   "pygments_lexer": "ipython3",
   "version": "3.9.5"
  },
  "toc": {
   "base_numbering": 1,
   "nav_menu": {},
   "number_sections": true,
   "sideBar": true,
   "skip_h1_title": true,
   "title_cell": "Table of Contents",
   "title_sidebar": "Contents",
   "toc_cell": false,
   "toc_position": {
    "height": "calc(100% - 180px)",
    "left": "10px",
    "top": "150px",
    "width": "165px"
   },
   "toc_section_display": true,
   "toc_window_display": true
  }
 },
 "nbformat": 4,
 "nbformat_minor": 5
}
